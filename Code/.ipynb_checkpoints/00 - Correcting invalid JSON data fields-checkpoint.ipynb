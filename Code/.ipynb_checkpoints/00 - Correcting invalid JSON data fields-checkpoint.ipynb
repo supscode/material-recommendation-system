{
 "cells": [
  {
   "cell_type": "code",
   "execution_count": 1,
   "metadata": {},
   "outputs": [],
   "source": [
    "import pandas as pd\n",
    "import json"
   ]
  },
  {
   "cell_type": "code",
   "execution_count": 2,
   "metadata": {},
   "outputs": [],
   "source": [
    "def read_json_and_replace_arrows(file_name):\n",
    "    text_file = open(file_name, \"r\")\n",
    "\n",
    "    #read whole file to a string\n",
    "    data = text_file.read()\n",
    "\n",
    "    text_file.close()\n",
    "    \n",
    "    data = data.replace(\"=>\", \":\")    \n",
    "    \n",
    "    return data\n",
    " \n",
    "mat_data = read_json_and_replace_arrows(\"../datasets/Materials.json\")\n",
    "fab_req_data = read_json_and_replace_arrows(\"../datasets/Fabric_Requests.json\")"
   ]
  },
  {
   "cell_type": "code",
   "execution_count": 3,
   "metadata": {
    "scrolled": true
   },
   "outputs": [
    {
     "name": "stdout",
     "output_type": "stream",
     "text": [
      "[{\"id\":1008, \"status\":\"delayed\", \"type\":\"swatch\", \"quantity\":1.0, \"requested_at\":Mon, 02 Nov 2020 15:54:30 UTC +00:00, \"closed_at\":Wed, 26 May 2021 06:41:30 UTC +00:00, \"delay_days\":5, \"delay_note\":\"Swatch is only available in 1 colour, but we can attach small colour cards together with the swatch\", \"material_id\":734, \"user_id\":311, \"project_id\":nil, \"created_at\":Mon, 02 Nov 2020 15:54:03 UTC +00:00, \"updated_at\":Wed, 26 May 2021 06:41:30 UTC +00:00, \"order_id\":nil, \"price\":0.0, \"price_unit\":nil, \"surcharge\":nil, \"accepted_at\":Tue, 03 Nov 2020 21:24:54 UTC +00:00, \"deleted_at\":nil, \"origin_quantity\":nil, \"variant_id\":409, \"currency\":nil, \"bought_price\":nil}, {\"id\":1692, \"status\":\"delivered\", \"type\":\"swatch\", \"quantity\":1.0, \"requested_at\":Thu, 29 Apr 2021 16:17:53 UTC +00:00, \"closed_at\":nil, \"delay_days\":nil, \"delay_note\":nil, \"material_id\":842, \"user_id\":284, \"project_id\":nil, \"created_at\":Thu, 29 Apr 2021 16:04:03 UTC +00:00, \"updated_at\":Wed, 26 May 2021 06:51:30 UTC +00:00, \"order_id\":234, \"price\":2.0, \"price_unit\":nil, \"surcharge\":nil, \"accepted_at\":nil, \"deleted_at\":nil, \"origin_quantity\":nil, \"variant_id\":461, \"currency\":\"USD\", \"bought_price\":2.0}\n"
     ]
    }
   ],
   "source": [
    "print(fab_req_data[:1173])"
   ]
  },
  {
   "cell_type": "code",
   "execution_count": 4,
   "metadata": {},
   "outputs": [],
   "source": [
    "def enclose_datetime_in_quotes_mat(str_data):\n",
    "    str_new_data = str_data.replace('\"created_at\":', '\"created_at\":\"')\n",
    "    str_new_data = str_new_data.replace('+00:00, \"updated_at\":', '+00:00\", \"updated_at\":\"')\n",
    "    str_new_data = str_new_data.replace('+00:00, \"code\":', '+00:00\", \"code\":')\n",
    "    str_new_data = str_new_data.replace('\"archived_at\":', '\"archived_at\":\"')\n",
    "    str_new_data = str_new_data.replace('+00:00},', '+00:00\"},')\n",
    "    str_new_data = str_new_data.replace(':nil', ':\"nil\"')\n",
    "    str_new_data = str_new_data.replace(':\"nil}', ':\"nil\"}')\n",
    "    return str_new_data\n",
    "\n",
    "new_mat_data = enclose_datetime_in_quotes_mat(mat_data)\n"
   ]
  },
  {
   "cell_type": "code",
   "execution_count": 5,
   "metadata": {},
   "outputs": [
    {
     "name": "stdout",
     "output_type": "stream",
     "text": [
      "[{\"id\":2276, \"created_at\":\"Fri, 30 Apr 2021 09:47:50 UTC +00:00\", \"updated_at\":\"Wed, 21 Jul 2021 11:\n"
     ]
    }
   ],
   "source": [
    "print(new_mat_data[0:100])"
   ]
  },
  {
   "cell_type": "code",
   "execution_count": 6,
   "metadata": {},
   "outputs": [],
   "source": [
    "mat_json = json.loads(new_mat_data)"
   ]
  },
  {
   "cell_type": "code",
   "execution_count": 7,
   "metadata": {},
   "outputs": [],
   "source": [
    "def write_string_to_file(file_name_path, data):\n",
    "    out_file = open(file_name_path, \"wt\")\n",
    "    n = out_file.write(data)\n",
    "    out_file.close()\n",
    "    return \n",
    "\n",
    "write_string_to_file(\"../datasets/new_mats.json\", new_mat_data)"
   ]
  },
  {
   "cell_type": "code",
   "execution_count": 8,
   "metadata": {},
   "outputs": [],
   "source": [
    "def enclose_datetime_in_quotes_fabreq(str_data):\n",
    "    str_new_data = str_data.replace('\"requested_at\":', '\"requested_at\":\"')\n",
    "    str_new_data = str_new_data.replace('+00:00, \"closed_at\":', '+00:00\", \"closed_at\":\"')\n",
    "    str_new_data = str_new_data.replace('+00:00, \"delay_days\":', '+00:00\", \"delay_days\":')\n",
    "    str_new_data = str_new_data.replace('\"created_at\":', '\"created_at\":\"')\n",
    "    str_new_data = str_new_data.replace('+00:00, \"updated_at\":', '+00:00\", \"updated_at\":\"')\n",
    "    str_new_data = str_new_data.replace('+00:00, \"order_id\":', '+00:00\", \"order_id\":')\n",
    "    str_new_data = str_new_data.replace(', \"accepted_at\":', ', \"accepted_at\":\"')\n",
    "    str_new_data = str_new_data.replace('+00:00, \"deleted_at\":', '+00:00\", \"deleted_at\":\"')\n",
    "    str_new_data = str_new_data.replace('+00:00, \"origin_quantity\":', '+00:00\", \"origin_quantity\":')\n",
    "    str_new_data = str_new_data.replace(':nil', ':\"nil\"')\n",
    "    str_new_data = str_new_data.replace(':\"nil}', ':\"nil\"}')\n",
    "    str_new_data = str_new_data.replace(':\"nil,', ':\"nil\",')\n",
    "\n",
    "\n",
    "    return str_new_data\n",
    "\n",
    "new_fab_req_data = enclose_datetime_in_quotes_fabreq(fab_req_data)\n"
   ]
  },
  {
   "cell_type": "code",
   "execution_count": 9,
   "metadata": {},
   "outputs": [
    {
     "name": "stdout",
     "output_type": "stream",
     "text": [
      "[{\"id\":1008, \"status\":\"delayed\", \"type\":\"swatch\", \"quantity\":1.0, \"requested_at\":\"Mon, 02 Nov 2020 15:54:30 UTC +00:00\", \"closed_at\":\"Wed, 26 May 2021 06:41:30 UTC +00:00\", \"delay_days\":5, \"delay_note\":\"Swatch is only available in 1 colour, but we can attach small colour cards together with the swatch\", \"material_id\":734, \"user_id\":311, \"project_id\":\"nil\", \"created_at\":\"Mon, 02 Nov 2020 15:54:03 UTC +00:00\", \"updated_at\":\"Wed, 26 May 2021 06:41:30 UTC +00:00\", \"order_id\":\"nil\", \"price\":0.0, \"price_unit\":\"nil\", \"surcharge\":\"nil\", \"accepted_at\":\"Tue, 03 Nov 2020 21:24:54 UTC +00:00\", \"deleted_at\":\"nil\", \"o\n"
     ]
    }
   ],
   "source": [
    "print(new_fab_req_data[0:611])"
   ]
  },
  {
   "cell_type": "code",
   "execution_count": 10,
   "metadata": {},
   "outputs": [],
   "source": [
    "fabreq_json = json.loads(new_fab_req_data)"
   ]
  },
  {
   "cell_type": "code",
   "execution_count": 11,
   "metadata": {},
   "outputs": [],
   "source": [
    "write_string_to_file(\"../datasets/new_fab_req.json\", new_fab_req_data)"
   ]
  }
 ],
 "metadata": {
  "kernelspec": {
   "display_name": "Python 3",
   "language": "python",
   "name": "python3"
  },
  "language_info": {
   "codemirror_mode": {
    "name": "ipython",
    "version": 3
   },
   "file_extension": ".py",
   "mimetype": "text/x-python",
   "name": "python",
   "nbconvert_exporter": "python",
   "pygments_lexer": "ipython3",
   "version": "3.7.7"
  }
 },
 "nbformat": 4,
 "nbformat_minor": 4
}
