{
 "cells": [
  {
   "cell_type": "markdown",
   "metadata": {},
   "source": [
    "# Capstone Project - Recommendation System for a Fashion Supply Chain Marketplace"
   ]
  },
  {
   "cell_type": "markdown",
   "metadata": {},
   "source": [
    "# Problem Statement"
   ]
  },
  {
   "cell_type": "markdown",
   "metadata": {},
   "source": [
    "Fabric Central is a digital sourcing platform that connects apparel brands and fabric suppliers in the most efficient, accessible and transparent marketplace. Suppliers can display their materials on the platforms and Brand users can easily find the materials from various suppliers in one place. \n",
    "\n",
    "Fabric Central has onboarded around 78 suppliers with around 200 materials so far and has around 358 brands registered brands. However it would now like to focus on increasing their sales and engage better with their users. \n",
    "\n",
    "We will build a recommendation system for Fabric Central which will recommend relevant materials to the customer at various touchpoints on the platform. By showing relevant materials and helping the users fnd the right matrials for their needs, we hope to increase customer engagement and conversion rate. \n",
    "\n",
    "We will build two types of recommendations, \n",
    "1. Content Based\n",
    "    This will recommend similar materials to the one the customer is viewing, this can be displayed on the material search page, possible under a section called \"You may also like...\" or \"More like these...\" \n",
    "2. Item based Collaborative Filtering\n",
    "    This will recommend materials depending on the gabric request history of this material by other users. This can be displayed on the order confirmation page, possibly under a section called \"Users who bought this also bought...\"\n",
    "3. Hybrid recommendations\n",
    "    The fabric request data is found to be very sparse and is not available for all materials. To tackle this cold start problem, we will also provide hybrid recomendations. Here the collborative filtering related recommendations (which need fabric request data) will be generated first, and will be supplemented by the content based materials. "
   ]
  },
  {
   "cell_type": "code",
   "execution_count": 1,
   "metadata": {},
   "outputs": [],
   "source": [
    "import pandas as pd\n",
    "import warnings\n",
    "import matplotlib.pyplot as plt\n",
    "import numpy as np\n",
    "import seaborn as sns"
   ]
  },
  {
   "cell_type": "code",
   "execution_count": 2,
   "metadata": {},
   "outputs": [],
   "source": [
    "# Ignoring warnings because there are some warnings related to SettingWithCopyWarning \n",
    "# inspite of using the correct code (.loc[row_indexer,col_indexer] = value)\n",
    "\n",
    "warnings.simplefilter('ignore') "
   ]
  },
  {
   "cell_type": "markdown",
   "metadata": {},
   "source": [
    " # 1. Read the Data from csv files"
   ]
  },
  {
   "cell_type": "code",
   "execution_count": 3,
   "metadata": {},
   "outputs": [],
   "source": [
    "materials_orig = pd.read_csv(\"../datasets/raw_data/materials_orig.csv\", encoding=\"ISO-8859-1\")\n",
    "variants_orig = pd.read_csv(\"../datasets/raw_data/variants_orig.csv\")\n",
    "tier_prices_orig = pd.read_csv(\"../datasets/raw_data/tier_prices_orig.csv\")\n",
    "suppliers_orig = pd.read_csv(\"../datasets/raw_data/supplier_msk_orig.csv\")\n",
    "fab_req_orig = pd.read_csv(\"../datasets/raw_data/fabric_requests_orig.csv\")\n",
    "users_orig = pd.read_csv(\"../datasets/raw_data/usrs_msk_orig.csv\", encoding=\"ISO-8859-1\")"
   ]
  },
  {
   "cell_type": "markdown",
   "metadata": {},
   "source": [
    "# 2. Data Cleaning for tables related to Content Based Filtering"
   ]
  },
  {
   "cell_type": "markdown",
   "metadata": {},
   "source": [
    "## 2.a. Materials Dataset"
   ]
  },
  {
   "cell_type": "code",
   "execution_count": 4,
   "metadata": {},
   "outputs": [
    {
     "data": {
      "text/html": [
       "<div>\n",
       "<style scoped>\n",
       "    .dataframe tbody tr th:only-of-type {\n",
       "        vertical-align: middle;\n",
       "    }\n",
       "\n",
       "    .dataframe tbody tr th {\n",
       "        vertical-align: top;\n",
       "    }\n",
       "\n",
       "    .dataframe thead th {\n",
       "        text-align: right;\n",
       "    }\n",
       "</style>\n",
       "<table border=\"1\" class=\"dataframe\">\n",
       "  <thead>\n",
       "    <tr style=\"text-align: right;\">\n",
       "      <th></th>\n",
       "      <th>id</th>\n",
       "      <th>created_at</th>\n",
       "      <th>updated_at</th>\n",
       "      <th>code</th>\n",
       "      <th>fabric_weave</th>\n",
       "      <th>currency</th>\n",
       "      <th>supplier_id</th>\n",
       "      <th>price</th>\n",
       "      <th>name</th>\n",
       "      <th>fabric_blend_one</th>\n",
       "      <th>...</th>\n",
       "      <th>only_for_brands/13</th>\n",
       "      <th>only_for_brands/14</th>\n",
       "      <th>only_for_brands/15</th>\n",
       "      <th>only_for_brands/16</th>\n",
       "      <th>only_for_brands/17</th>\n",
       "      <th>only_for_brands/18</th>\n",
       "      <th>only_for_brands/19</th>\n",
       "      <th>only_for_brands/20</th>\n",
       "      <th>only_for_brands/21</th>\n",
       "      <th>only_for_brands/22</th>\n",
       "    </tr>\n",
       "  </thead>\n",
       "  <tbody>\n",
       "    <tr>\n",
       "      <th>0</th>\n",
       "      <td>2253</td>\n",
       "      <td>2021-04-13T14:32:14.096Z</td>\n",
       "      <td>2021-07-28T08:59:59.993Z</td>\n",
       "      <td>C201069</td>\n",
       "      <td>Ripstop</td>\n",
       "      <td>EUR</td>\n",
       "      <td>23</td>\n",
       "      <td>11.90</td>\n",
       "      <td>XXXXXXXXXXganic Cotton</td>\n",
       "      <td>Organic Cotton</td>\n",
       "      <td>...</td>\n",
       "      <td>NaN</td>\n",
       "      <td>NaN</td>\n",
       "      <td>NaN</td>\n",
       "      <td>NaN</td>\n",
       "      <td>NaN</td>\n",
       "      <td>NaN</td>\n",
       "      <td>NaN</td>\n",
       "      <td>NaN</td>\n",
       "      <td>NaN</td>\n",
       "      <td>NaN</td>\n",
       "    </tr>\n",
       "    <tr>\n",
       "      <th>1</th>\n",
       "      <td>557</td>\n",
       "      <td>2020-01-30T10:24:36.482Z</td>\n",
       "      <td>2021-06-18T04:11:19.866Z</td>\n",
       "      <td>Checkered Stripes</td>\n",
       "      <td>NaN</td>\n",
       "      <td>USD</td>\n",
       "      <td>25</td>\n",
       "      <td>13.52</td>\n",
       "      <td>XXXXXXXXXXStripes TENCEL</td>\n",
       "      <td>TENCEL Lyocell</td>\n",
       "      <td>...</td>\n",
       "      <td>NaN</td>\n",
       "      <td>NaN</td>\n",
       "      <td>NaN</td>\n",
       "      <td>NaN</td>\n",
       "      <td>NaN</td>\n",
       "      <td>NaN</td>\n",
       "      <td>NaN</td>\n",
       "      <td>NaN</td>\n",
       "      <td>NaN</td>\n",
       "      <td>NaN</td>\n",
       "    </tr>\n",
       "    <tr>\n",
       "      <th>2</th>\n",
       "      <td>947</td>\n",
       "      <td>2020-06-04T14:11:02.191Z</td>\n",
       "      <td>2021-05-11T12:31:46.481Z</td>\n",
       "      <td>Low MOQ Sr 11</td>\n",
       "      <td>Plain</td>\n",
       "      <td>USD</td>\n",
       "      <td>27</td>\n",
       "      <td>1.80</td>\n",
       "      <td>XXXXXXXXXXtton (40sx40s/136x70)</td>\n",
       "      <td>Organic Cotton</td>\n",
       "      <td>...</td>\n",
       "      <td>NaN</td>\n",
       "      <td>NaN</td>\n",
       "      <td>NaN</td>\n",
       "      <td>NaN</td>\n",
       "      <td>NaN</td>\n",
       "      <td>NaN</td>\n",
       "      <td>NaN</td>\n",
       "      <td>NaN</td>\n",
       "      <td>NaN</td>\n",
       "      <td>NaN</td>\n",
       "    </tr>\n",
       "    <tr>\n",
       "      <th>3</th>\n",
       "      <td>2276</td>\n",
       "      <td>2021-04-30T09:47:50.602Z</td>\n",
       "      <td>2021-07-29T15:00:06.378Z</td>\n",
       "      <td>CIAO/ORG</td>\n",
       "      <td>Terry</td>\n",
       "      <td>EUR</td>\n",
       "      <td>44</td>\n",
       "      <td>15.90</td>\n",
       "      <td>XXXXXXXXXXerry Organic Cotton</td>\n",
       "      <td>Organic Cotton</td>\n",
       "      <td>...</td>\n",
       "      <td>NaN</td>\n",
       "      <td>NaN</td>\n",
       "      <td>NaN</td>\n",
       "      <td>NaN</td>\n",
       "      <td>NaN</td>\n",
       "      <td>NaN</td>\n",
       "      <td>NaN</td>\n",
       "      <td>NaN</td>\n",
       "      <td>NaN</td>\n",
       "      <td>NaN</td>\n",
       "    </tr>\n",
       "    <tr>\n",
       "      <th>4</th>\n",
       "      <td>1840</td>\n",
       "      <td>2020-12-09T15:16:21.547Z</td>\n",
       "      <td>2021-06-19T04:39:06.515Z</td>\n",
       "      <td>#0014BK11B0000</td>\n",
       "      <td>NaN</td>\n",
       "      <td>USD</td>\n",
       "      <td>67</td>\n",
       "      <td>32.00</td>\n",
       "      <td>XXXXXXXXXX0000</td>\n",
       "      <td>Recycled Cow Leather</td>\n",
       "      <td>...</td>\n",
       "      <td>NaN</td>\n",
       "      <td>NaN</td>\n",
       "      <td>NaN</td>\n",
       "      <td>NaN</td>\n",
       "      <td>NaN</td>\n",
       "      <td>NaN</td>\n",
       "      <td>NaN</td>\n",
       "      <td>NaN</td>\n",
       "      <td>NaN</td>\n",
       "      <td>NaN</td>\n",
       "    </tr>\n",
       "  </tbody>\n",
       "</table>\n",
       "<p>5 rows × 83 columns</p>\n",
       "</div>"
      ],
      "text/plain": [
       "     id                created_at                updated_at  \\\n",
       "0  2253  2021-04-13T14:32:14.096Z  2021-07-28T08:59:59.993Z   \n",
       "1   557  2020-01-30T10:24:36.482Z  2021-06-18T04:11:19.866Z   \n",
       "2   947  2020-06-04T14:11:02.191Z  2021-05-11T12:31:46.481Z   \n",
       "3  2276  2021-04-30T09:47:50.602Z  2021-07-29T15:00:06.378Z   \n",
       "4  1840  2020-12-09T15:16:21.547Z  2021-06-19T04:39:06.515Z   \n",
       "\n",
       "                code fabric_weave currency  supplier_id  price  \\\n",
       "0            C201069      Ripstop      EUR           23  11.90   \n",
       "1  Checkered Stripes          NaN      USD           25  13.52   \n",
       "2      Low MOQ Sr 11        Plain      USD           27   1.80   \n",
       "3           CIAO/ORG        Terry      EUR           44  15.90   \n",
       "4     #0014BK11B0000          NaN      USD           67  32.00   \n",
       "\n",
       "                              name      fabric_blend_one  ...  \\\n",
       "0           XXXXXXXXXXganic Cotton        Organic Cotton  ...   \n",
       "1         XXXXXXXXXXStripes TENCEL        TENCEL Lyocell  ...   \n",
       "2  XXXXXXXXXXtton (40sx40s/136x70)        Organic Cotton  ...   \n",
       "3    XXXXXXXXXXerry Organic Cotton        Organic Cotton  ...   \n",
       "4                   XXXXXXXXXX0000  Recycled Cow Leather  ...   \n",
       "\n",
       "   only_for_brands/13 only_for_brands/14  only_for_brands/15  \\\n",
       "0                 NaN                NaN                 NaN   \n",
       "1                 NaN                NaN                 NaN   \n",
       "2                 NaN                NaN                 NaN   \n",
       "3                 NaN                NaN                 NaN   \n",
       "4                 NaN                NaN                 NaN   \n",
       "\n",
       "  only_for_brands/16  only_for_brands/17  only_for_brands/18  \\\n",
       "0                NaN                 NaN                 NaN   \n",
       "1                NaN                 NaN                 NaN   \n",
       "2                NaN                 NaN                 NaN   \n",
       "3                NaN                 NaN                 NaN   \n",
       "4                NaN                 NaN                 NaN   \n",
       "\n",
       "  only_for_brands/19 only_for_brands/20 only_for_brands/21 only_for_brands/22  \n",
       "0                NaN                NaN                NaN                NaN  \n",
       "1                NaN                NaN                NaN                NaN  \n",
       "2                NaN                NaN                NaN                NaN  \n",
       "3                NaN                NaN                NaN                NaN  \n",
       "4                NaN                NaN                NaN                NaN  \n",
       "\n",
       "[5 rows x 83 columns]"
      ]
     },
     "execution_count": 4,
     "metadata": {},
     "output_type": "execute_result"
    }
   ],
   "source": [
    "materials_orig.head()"
   ]
  },
  {
   "cell_type": "code",
   "execution_count": 5,
   "metadata": {
    "scrolled": true
   },
   "outputs": [
    {
     "name": "stdout",
     "output_type": "stream",
     "text": [
      "<class 'pandas.core.frame.DataFrame'>\n",
      "RangeIndex: 1954 entries, 0 to 1953\n",
      "Data columns (total 83 columns):\n",
      " #   Column                           Non-Null Count  Dtype  \n",
      "---  ------                           --------------  -----  \n",
      " 0   id                               1954 non-null   int64  \n",
      " 1   created_at                       1954 non-null   object \n",
      " 2   updated_at                       1954 non-null   object \n",
      " 3   code                             1954 non-null   object \n",
      " 4   fabric_weave                     1081 non-null   object \n",
      " 5   currency                         1954 non-null   object \n",
      " 6   supplier_id                      1954 non-null   int64  \n",
      " 7   price                            1954 non-null   float64\n",
      " 8   name                             1954 non-null   object \n",
      " 9   fabric_blend_one                 1946 non-null   object \n",
      " 10  fabric_blend_one_percent         1952 non-null   float64\n",
      " 11  fabric_blend_two                 760 non-null    object \n",
      " 12  fabric_blend_two_percent         830 non-null    float64\n",
      " 13  fabric_blend_three               160 non-null    object \n",
      " 14  fabric_blend_three_percent       251 non-null    float64\n",
      " 15  weight                           1786 non-null   float64\n",
      " 16  weight_unit                      1953 non-null   object \n",
      " 17  end_use/0                        1309 non-null   object \n",
      " 18  end_use/1                        1134 non-null   object \n",
      " 19  end_use/2                        812 non-null    object \n",
      " 20  fabric_type                      1952 non-null   object \n",
      " 21  price_unit                       1954 non-null   object \n",
      " 22  status                           1954 non-null   object \n",
      " 23  deleted_at                       0 non-null      float64\n",
      " 24  only_for_brands/0                600 non-null    object \n",
      " 25  published                        1954 non-null   bool   \n",
      " 26  description                      1529 non-null   object \n",
      " 27  dispatch_time_sample             1858 non-null   object \n",
      " 28  factory_location                 1949 non-null   object \n",
      " 29  construction                     653 non-null    object \n",
      " 30  width                            1817 non-null   float64\n",
      " 31  width_unit                       1953 non-null   object \n",
      " 32  finishing                        1196 non-null   object \n",
      " 33  properties/0                     670 non-null    object \n",
      " 34  dispatch_time_mass_quantity_min  1539 non-null   float64\n",
      " 35  dispatch_time_mass_quantity_max  1538 non-null   float64\n",
      " 36  origin                           559 non-null    object \n",
      " 37  colour                           118 non-null    object \n",
      " 38  tsa_stamps                       113 non-null    object \n",
      " 39  minimal_order_quantity           1953 non-null   float64\n",
      " 40  crowd_source_available           373 non-null    object \n",
      " 41  moq_details                      529 non-null    object \n",
      " 42  uuid                             1954 non-null   object \n",
      " 43  notify_fc_team                   1954 non-null   bool   \n",
      " 44  moq                              1953 non-null   float64\n",
      " 45  swatch_price                     1954 non-null   int64  \n",
      " 46  swatch_quantity                  1936 non-null   float64\n",
      " 47  archived_at                      17 non-null     object \n",
      " 48  end_use/3                        537 non-null    object \n",
      " 49  end_use/4                        313 non-null    object \n",
      " 50  only_for_brands/1                504 non-null    object \n",
      " 51  properties/1                     172 non-null    object \n",
      " 52  properties/2                     73 non-null     object \n",
      " 53  properties/3                     35 non-null     object \n",
      " 54  properties/4                     19 non-null     object \n",
      " 55  properties/5                     18 non-null     object \n",
      " 56  properties/6                     16 non-null     object \n",
      " 57  properties/7                     10 non-null     object \n",
      " 58  only_for_brands/2                444 non-null    object \n",
      " 59  end_use/5                        179 non-null    object \n",
      " 60  properties/8                     2 non-null      object \n",
      " 61  only_for_brands/3                410 non-null    object \n",
      " 62  only_for_brands/4                345 non-null    object \n",
      " 63  only_for_brands/5                147 non-null    object \n",
      " 64  only_for_brands/6                108 non-null    object \n",
      " 65  only_for_brands/7                28 non-null     object \n",
      " 66  end_use/6                        67 non-null     object \n",
      " 67  end_use/7                        3 non-null      object \n",
      " 68  only_for_brands/8                3 non-null      object \n",
      " 69  only_for_brands/9                3 non-null      object \n",
      " 70  only_for_brands/10               3 non-null      object \n",
      " 71  only_for_brands/11               3 non-null      object \n",
      " 72  only_for_brands/12               3 non-null      object \n",
      " 73  only_for_brands/13               3 non-null      object \n",
      " 74  only_for_brands/14               3 non-null      object \n",
      " 75  only_for_brands/15               3 non-null      object \n",
      " 76  only_for_brands/16               3 non-null      object \n",
      " 77  only_for_brands/17               3 non-null      object \n",
      " 78  only_for_brands/18               3 non-null      object \n",
      " 79  only_for_brands/19               1 non-null      object \n",
      " 80  only_for_brands/20               1 non-null      object \n",
      " 81  only_for_brands/21               1 non-null      object \n",
      " 82  only_for_brands/22               1 non-null      object \n",
      "dtypes: bool(2), float64(12), int64(3), object(66)\n",
      "memory usage: 1.2+ MB\n"
     ]
    }
   ],
   "source": [
    "materials_orig.info()"
   ]
  },
  {
   "cell_type": "markdown",
   "metadata": {},
   "source": [
    "### Drop the materials which are unpublished, archived or don't have a price as these cannot be recommended to any users"
   ]
  },
  {
   "cell_type": "code",
   "execution_count": 6,
   "metadata": {},
   "outputs": [],
   "source": [
    "# Consider only published, non-archived and materials with non-zero price\n",
    "materials = materials_orig[(materials_orig['published'] == True) & \n",
    "                           (materials_orig['archived_at'].isnull()) &\n",
    "                           (materials_orig['price'] > 0)\n",
    "                          ]"
   ]
  },
  {
   "cell_type": "code",
   "execution_count": 7,
   "metadata": {},
   "outputs": [
    {
     "data": {
      "text/plain": [
       "(1546, 83)"
      ]
     },
     "execution_count": 7,
     "metadata": {},
     "output_type": "execute_result"
    }
   ],
   "source": [
    "materials.shape"
   ]
  },
  {
   "cell_type": "code",
   "execution_count": 8,
   "metadata": {},
   "outputs": [
    {
     "data": {
      "text/plain": [
       "fabric_weave                 692\n",
       "fabric_blend_one               4\n",
       "fabric_blend_two             958\n",
       "fabric_blend_two_percent     894\n",
       "fabric_blend_three          1412\n",
       "                            ... \n",
       "only_for_brands/18          1543\n",
       "only_for_brands/19          1545\n",
       "only_for_brands/20          1545\n",
       "only_for_brands/21          1545\n",
       "only_for_brands/22          1545\n",
       "Length: 62, dtype: int64"
      ]
     },
     "execution_count": 8,
     "metadata": {},
     "output_type": "execute_result"
    }
   ],
   "source": [
    "materials.isnull().sum()[materials.isnull().sum() > 0]"
   ]
  },
  {
   "cell_type": "markdown",
   "metadata": {},
   "source": [
    "### Remove unnecessary columns, combine variables which were split into multiple columns due to conversion from JSON"
   ]
  },
  {
   "cell_type": "code",
   "execution_count": 9,
   "metadata": {},
   "outputs": [],
   "source": [
    "# Since all values are null we will drop these columns. \n",
    "materials.drop(columns=['deleted_at', 'archived_at'], inplace=True)"
   ]
  },
  {
   "cell_type": "code",
   "execution_count": 10,
   "metadata": {},
   "outputs": [],
   "source": [
    "# Function to combine columns which are split into variables which were split into multiple columns \n",
    "# Returns a new dataset with combined column and old columns dropped\n",
    "\n",
    "def combine_columns(col_name, dataset):\n",
    "    out_dataset = dataset.copy()\n",
    "    cols_to_combine = []\n",
    "    # Loop through all columns. \n",
    "    for col in out_dataset.columns:\n",
    "        \n",
    "        # If column name contains col_name followed by a \"/\" (usually followed by a number e.g. properties/0) , \n",
    "        # then add to the list of columns to be combined\n",
    "        if col.find(col_name + '/') != -1:\n",
    "            cols_to_combine.append(col)\n",
    "            out_dataset[col] = out_dataset[col].str.strip()\n",
    "\n",
    "    # Combine the listed columns into a column with col_name\n",
    "    out_dataset[col_name] = out_dataset.apply(lambda x: x[cols_to_combine].dropna().to_list(), axis=1)\n",
    "\n",
    "    # Drop old columns e.g. properties/0, properties/1 etc. \n",
    "    out_dataset.drop(columns=cols_to_combine, inplace=True)\n",
    "        \n",
    "    return out_dataset\n"
   ]
  },
  {
   "cell_type": "code",
   "execution_count": 11,
   "metadata": {},
   "outputs": [],
   "source": [
    "# Combine values fro, properties/0, properties/1 etc. columns as a list into a \n",
    "# common column\n",
    "materials = combine_columns('properties', materials)"
   ]
  },
  {
   "cell_type": "code",
   "execution_count": 12,
   "metadata": {},
   "outputs": [],
   "source": [
    "# Separate properties with pipe separated values\n",
    "def split_pipe_properties(properties):\n",
    "    properties1 = properties.copy()\n",
    "    for prop in properties:\n",
    "        if(prop.find(\"|\") > 0):\n",
    "            lst = prop.split(\"|\")\n",
    "            [properties.append(lst_item) for lst_item in lst]\n",
    "            properties.remove(prop)\n",
    "    return properties"
   ]
  },
  {
   "cell_type": "code",
   "execution_count": 13,
   "metadata": {},
   "outputs": [],
   "source": [
    "# Some properties values are strings with multiple properties separated by a \"|\" e.g. \"Durable Water Repellent (DWR)|Downproof\"\n",
    "# These are separate properties so we separate them and add back to the list\n",
    "\n",
    "materials['properties'] = materials['properties'].apply(lambda x: split_pipe_properties(x))"
   ]
  },
  {
   "cell_type": "code",
   "execution_count": 14,
   "metadata": {},
   "outputs": [],
   "source": [
    "# Combine values fro, only_for_brands/0, only_for_brands/1 etc. columns as a list into a \n",
    "# common column\n",
    "\n",
    "materials = combine_columns('only_for_brands', materials)"
   ]
  },
  {
   "cell_type": "code",
   "execution_count": 15,
   "metadata": {},
   "outputs": [],
   "source": [
    "# Combine values fro, end_use/0, end_use/1 etc. columns as a list into a \n",
    "# common column\n",
    "\n",
    "materials = combine_columns('end_use', materials)"
   ]
  },
  {
   "cell_type": "code",
   "execution_count": 16,
   "metadata": {},
   "outputs": [],
   "source": [
    "# Some end_use values are strings with multiple end uses separated by a \"|\" e.g. \"Casual Wear|Menswear|Performance\"\n",
    "# These are separate properties so we separate them and add back to the list\n",
    "\n",
    "materials['end_use'] = materials['end_use'].apply(lambda x: split_pipe_properties(x))\n"
   ]
  },
  {
   "cell_type": "markdown",
   "metadata": {},
   "source": [
    "### Setting the right Data Types for columns"
   ]
  },
  {
   "cell_type": "code",
   "execution_count": 17,
   "metadata": {
    "scrolled": false
   },
   "outputs": [
    {
     "data": {
      "text/plain": [
       "id                                   int64\n",
       "created_at                          object\n",
       "updated_at                          object\n",
       "code                                object\n",
       "fabric_weave                        object\n",
       "currency                            object\n",
       "supplier_id                          int64\n",
       "price                              float64\n",
       "name                                object\n",
       "fabric_blend_one                    object\n",
       "fabric_blend_one_percent           float64\n",
       "fabric_blend_two                    object\n",
       "fabric_blend_two_percent           float64\n",
       "fabric_blend_three                  object\n",
       "fabric_blend_three_percent         float64\n",
       "weight                             float64\n",
       "weight_unit                         object\n",
       "fabric_type                         object\n",
       "price_unit                          object\n",
       "status                              object\n",
       "published                             bool\n",
       "description                         object\n",
       "dispatch_time_sample                object\n",
       "factory_location                    object\n",
       "construction                        object\n",
       "width                              float64\n",
       "width_unit                          object\n",
       "finishing                           object\n",
       "dispatch_time_mass_quantity_min    float64\n",
       "dispatch_time_mass_quantity_max    float64\n",
       "origin                              object\n",
       "colour                              object\n",
       "tsa_stamps                          object\n",
       "minimal_order_quantity             float64\n",
       "crowd_source_available              object\n",
       "moq_details                         object\n",
       "uuid                                object\n",
       "notify_fc_team                        bool\n",
       "moq                                float64\n",
       "swatch_price                         int64\n",
       "dtype: object"
      ]
     },
     "execution_count": 17,
     "metadata": {},
     "output_type": "execute_result"
    }
   ],
   "source": [
    "materials.dtypes[0:40]"
   ]
  },
  {
   "cell_type": "code",
   "execution_count": 18,
   "metadata": {},
   "outputs": [
    {
     "data": {
      "text/plain": [
       "properties         object\n",
       "only_for_brands    object\n",
       "end_use            object\n",
       "dtype: object"
      ]
     },
     "execution_count": 18,
     "metadata": {},
     "output_type": "execute_result"
    }
   ],
   "source": [
    "materials.dtypes[41:200]"
   ]
  },
  {
   "cell_type": "code",
   "execution_count": 19,
   "metadata": {},
   "outputs": [],
   "source": [
    "# convert all date-times to datetime datatypes\n",
    "materials['created_at'] = pd.to_datetime(materials['created_at'])\n",
    "materials['updated_at'] = pd.to_datetime(materials['updated_at'])\n"
   ]
  },
  {
   "cell_type": "markdown",
   "metadata": {},
   "source": [
    "### Manage null values"
   ]
  },
  {
   "cell_type": "code",
   "execution_count": 20,
   "metadata": {},
   "outputs": [
    {
     "data": {
      "text/plain": [
       "fabric_weave                        692\n",
       "fabric_blend_one                      4\n",
       "fabric_blend_two                    958\n",
       "fabric_blend_two_percent            894\n",
       "fabric_blend_three                 1412\n",
       "fabric_blend_three_percent         1328\n",
       "weight                              132\n",
       "description                         277\n",
       "dispatch_time_sample                 75\n",
       "factory_location                      3\n",
       "construction                        984\n",
       "width                                88\n",
       "finishing                           619\n",
       "dispatch_time_mass_quantity_min     265\n",
       "dispatch_time_mass_quantity_max     265\n",
       "origin                             1166\n",
       "colour                             1440\n",
       "tsa_stamps                         1451\n",
       "crowd_source_available             1200\n",
       "moq_details                        1112\n",
       "dtype: int64"
      ]
     },
     "execution_count": 20,
     "metadata": {},
     "output_type": "execute_result"
    }
   ],
   "source": [
    "materials.isnull().sum()[materials.isnull().sum() > 0][0:40]"
   ]
  },
  {
   "cell_type": "code",
   "execution_count": 21,
   "metadata": {},
   "outputs": [],
   "source": [
    "# Drop materials with no factory locations\n",
    "materials = materials.loc[materials['factory_location'].notnull()]"
   ]
  },
  {
   "cell_type": "code",
   "execution_count": 22,
   "metadata": {},
   "outputs": [],
   "source": [
    "#  fabric_blend_one has only 6 rows with missing values, so we can drop these values\n",
    "materials = materials[materials['fabric_blend_one'].notnull()]\n"
   ]
  },
  {
   "cell_type": "code",
   "execution_count": 23,
   "metadata": {
    "scrolled": false
   },
   "outputs": [],
   "source": [
    "# find records where fabric_blend_two which is null when fabric_blend_two_percent is not null set fabric_blend_two_percent to 0\n",
    "#print(materials.loc[(materials['fabric_blend_two_percent'].notnull()) & (materials['fabric_blend_two_percent'] != 0) & (materials['fabric_blend_two'].isnull()), ['id', 'fabric_blend_two', 'fabric_blend_two_percent']])\n",
    "materials.loc[(materials['fabric_blend_two'].isnull()), ['fabric_blend_two_percent']] = 0\n",
    "\n",
    "# find records where fabric_blend_three which is null when fabric_blend_two_percent is not null, set fabric_blend_two_percent to 0\n",
    "#print(materials.loc[(materials['fabric_blend_three_percent'].notnull()) & (materials['fabric_blend_three_percent'] != 0) & (materials['fabric_blend_three'].isnull()), ['id', 'fabric_blend_three', 'fabric_blend_three_percent']])\n",
    "materials.loc[(materials['fabric_blend_three'].isnull()), ['fabric_blend_three_percent']] = 0\n"
   ]
  },
  {
   "cell_type": "code",
   "execution_count": 24,
   "metadata": {},
   "outputs": [],
   "source": [
    "# fabric_blend_two and fabric_blend_three are optional fields as not all fabrics will\n",
    "# have multiple blends. So we replace it with blank strings\n",
    "\n",
    "materials['fabric_blend_two'] = materials['fabric_blend_two'].fillna(\"blank_blend_1\")\n",
    "materials['fabric_blend_three'] = materials['fabric_blend_three'].fillna(\"blank_blend_2\")"
   ]
  },
  {
   "cell_type": "code",
   "execution_count": 25,
   "metadata": {},
   "outputs": [],
   "source": [
    "# Impute values of null_column by taking mean of null_column by groupby_column\n",
    "def impute_mean_by_column(dataset, null_column, groupby_column):\n",
    "    # Group by the group by column and calculate mean value for null_column for each group\n",
    "    grouped = dataset.groupby(groupby_column)\n",
    "    transformed = grouped[null_column].mean()\n",
    "    # Join the groups dataset with the materials dataset on the group_by column in order to relate \n",
    "    # the materials with the right mean value to substitute \n",
    "    dataset = dataset.merge(transformed,on=groupby_column, how=\"left\")\n",
    "\n",
    "    x_null_column = null_column + '_x'\n",
    "    y_null_column = null_column + '_y'\n",
    "\n",
    "    # Fill null values in the x_null_column (from the materials dataset) with the mean values in the \n",
    "    # y_null_column (from the groups dataset)\n",
    "    dataset[x_null_column] = dataset[x_null_column].fillna(dataset[y_null_column])\n",
    "    \n",
    "    # Drop the y_null_column (originally from the groups_dataset) and \n",
    "    # rename x_null_column to original column name (null_column)\n",
    "    dataset.drop([y_null_column],inplace=True,axis=1)\n",
    "    dataset.rename(columns={x_null_column:null_column},inplace=True)\n",
    "    return dataset\n"
   ]
  },
  {
   "cell_type": "code",
   "execution_count": 26,
   "metadata": {},
   "outputs": [],
   "source": [
    "# Update the weight for leather materials, where the weight is null to 500\n",
    "materials[materials['weight'].isnull() & materials['fabric_type'].str.contains('Leather')]['price'] = 500\n"
   ]
  },
  {
   "cell_type": "code",
   "execution_count": 27,
   "metadata": {},
   "outputs": [],
   "source": [
    "# Update the weight for rest of the materials where the weight is 0\n",
    "materials['weight'].fillna(0, inplace=True)\n"
   ]
  },
  {
   "cell_type": "code",
   "execution_count": 28,
   "metadata": {},
   "outputs": [],
   "source": [
    "# Impute values of weight by taking mean dispatch_time_mass_quantity_min, dispatch_time_mass_quantity_max by supplier_id\n",
    "\n",
    "materials = impute_mean_by_column(materials, 'dispatch_time_mass_quantity_min', 'supplier_id')\n",
    "materials = impute_mean_by_column(materials, 'dispatch_time_mass_quantity_max', 'supplier_id')\n"
   ]
  },
  {
   "cell_type": "code",
   "execution_count": 29,
   "metadata": {},
   "outputs": [],
   "source": [
    "# Impute values of weight by taking mean dispatch_time_mass_quantity_min by dispatch_time_sample\n",
    "\n",
    "materials = impute_mean_by_column(materials, 'dispatch_time_mass_quantity_min', 'dispatch_time_sample')\n",
    "materials = impute_mean_by_column(materials, 'dispatch_time_mass_quantity_max', 'dispatch_time_sample')\n"
   ]
  },
  {
   "cell_type": "code",
   "execution_count": 30,
   "metadata": {},
   "outputs": [],
   "source": [
    "# Impute values of null_column by taking mean of null_column by groupby_column\n",
    "def impute_mode_by_column(dataset, null_column, groupby_column):\n",
    "    # Group by the group by column and calculate mean value for null_column for each group\n",
    "    grouped = dataset.groupby(groupby_column)\n",
    "    transformed = grouped[null_column].agg(pd.Series.mode)\n",
    "    #transformed[transformed.str.len == 0, 'supplier_id'] = \"\"\n",
    "    \n",
    "    # Join the groups dataset with the materials dataset on the group_by column in order to relate \n",
    "    # the materials with the right mean value to substitute \n",
    "    dataset = dataset.merge(transformed,on=groupby_column, how=\"left\")\n",
    "\n",
    "    x_null_column = null_column + '_x'\n",
    "    y_null_column = null_column + '_y'\n",
    "\n",
    "    # Fill null values in the x_null_column (from the materials dataset) with the mean values in the \n",
    "    # y_null_column (from the groups dataset)\n",
    "    dataset[x_null_column] = dataset[x_null_column].fillna(dataset[y_null_column])\n",
    "    \n",
    "    # Drop the y_null_column (originally from the groups_dataset) and \n",
    "    # rename x_null_column to original column name (null_column)\n",
    "    dataset.drop([y_null_column],inplace=True,axis=1)\n",
    "    dataset.rename(columns={x_null_column:null_column},inplace=True)\n",
    "    \n",
    "    # Set empty lists to null (mode returns an empty list when there are no values found in the group)\n",
    "    dataset.loc[dataset[null_column].str.len() == 0, [null_column]] = np.nan    \n",
    "    \n",
    "    return dataset"
   ]
  },
  {
   "cell_type": "code",
   "execution_count": 31,
   "metadata": {},
   "outputs": [],
   "source": [
    "# Impute dispatch_time_sample by finding the mode (most occurring value for the given supplier)\n",
    "materials = impute_mode_by_column(materials, 'dispatch_time_sample', 'supplier_id')\n"
   ]
  },
  {
   "cell_type": "code",
   "execution_count": 32,
   "metadata": {},
   "outputs": [],
   "source": [
    "# Impute dispatch_time_sample by finding the mode (most occurring value for the given factory location)\n",
    "materials = impute_mode_by_column(materials, 'dispatch_time_sample', 'factory_location')\n"
   ]
  },
  {
   "cell_type": "code",
   "execution_count": 33,
   "metadata": {},
   "outputs": [],
   "source": [
    "# Replace the rest of the null values with \"blank_display_sample\" text\n",
    "materials['dispatch_time_sample'].fillna(\"blank_display_sample\", inplace=True)"
   ]
  },
  {
   "cell_type": "code",
   "execution_count": 34,
   "metadata": {},
   "outputs": [],
   "source": [
    "# Impute the null values of width by taking mean width by fabric_blend_one\n",
    "\n",
    "materials = impute_mean_by_column(materials, 'width', 'fabric_blend_one')"
   ]
  },
  {
   "cell_type": "code",
   "execution_count": 35,
   "metadata": {},
   "outputs": [],
   "source": [
    "# Impute the remaining null values of width by taking mean width by fabric_weave\n",
    "\n",
    "materials = impute_mean_by_column(materials, 'width', 'fabric_weave')"
   ]
  },
  {
   "cell_type": "code",
   "execution_count": 36,
   "metadata": {},
   "outputs": [],
   "source": [
    "# Impute the null values of width_unit by taking mode width by fabric_blend_one\n",
    "\n",
    "materials = impute_mode_by_column(materials, 'width_unit', 'fabric_blend_one')"
   ]
  },
  {
   "cell_type": "code",
   "execution_count": 37,
   "metadata": {},
   "outputs": [],
   "source": [
    "#  We replace null fabric weaves with blank\n",
    "materials['fabric_weave'].fillna(\"blank_weave\", inplace=True)"
   ]
  },
  {
   "cell_type": "code",
   "execution_count": 38,
   "metadata": {},
   "outputs": [],
   "source": [
    "# Only 1 null weight unit found so we update it to the most common weight unit \n",
    "materials.loc[materials['weight_unit'].isnull(), 'weight_unit'] = materials.loc[materials['weight_unit'].notnull(), 'weight_unit'][0]"
   ]
  },
  {
   "cell_type": "code",
   "execution_count": 39,
   "metadata": {},
   "outputs": [
    {
     "data": {
      "text/plain": [
       "description                277\n",
       "construction               980\n",
       "width                       72\n",
       "finishing                  615\n",
       "origin                    1162\n",
       "colour                    1433\n",
       "tsa_stamps                1444\n",
       "crowd_source_available    1199\n",
       "moq_details               1109\n",
       "dtype: int64"
      ]
     },
     "execution_count": 39,
     "metadata": {},
     "output_type": "execute_result"
    }
   ],
   "source": [
    "materials.isnull().sum()[materials.isnull().sum() > 0][0:40]"
   ]
  },
  {
   "cell_type": "code",
   "execution_count": 40,
   "metadata": {},
   "outputs": [],
   "source": [
    "# Impute the null values of desicription as \"blank_description\"\n",
    "\n",
    "materials['description'].fillna(\"blank_description\", inplace=True)"
   ]
  },
  {
   "cell_type": "code",
   "execution_count": 41,
   "metadata": {},
   "outputs": [],
   "source": [
    "# Impute the null values of desicription as \"blank_finishing\"\n",
    "\n",
    "materials['finishing'].fillna(\"blank_finishing\", inplace=True)"
   ]
  },
  {
   "cell_type": "code",
   "execution_count": 42,
   "metadata": {
    "scrolled": true
   },
   "outputs": [],
   "source": [
    "# For columns with too many nulls, and not relevant we drop them from materials dataset\n",
    "# Keep only relevant columns in the material dataset\n",
    "\n",
    "materials.drop(columns=['construction', 'origin', 'colour', 'tsa_stamps', 'crowd_source_available', 'moq_details'], inplace=True)"
   ]
  },
  {
   "cell_type": "code",
   "execution_count": 43,
   "metadata": {},
   "outputs": [
    {
     "data": {
      "text/plain": [
       "(1539, 38)"
      ]
     },
     "execution_count": 43,
     "metadata": {},
     "output_type": "execute_result"
    }
   ],
   "source": [
    "materials.shape"
   ]
  },
  {
   "cell_type": "markdown",
   "metadata": {},
   "source": [
    "## 2b. Supplier Dataset"
   ]
  },
  {
   "cell_type": "markdown",
   "metadata": {},
   "source": [
    "We use this dataset to get information about suppliers to see if there can be relevant information which can be used to recomemnd materials to users"
   ]
  },
  {
   "cell_type": "code",
   "execution_count": 44,
   "metadata": {},
   "outputs": [
    {
     "name": "stdout",
     "output_type": "stream",
     "text": [
      "<class 'pandas.core.frame.DataFrame'>\n",
      "RangeIndex: 78 entries, 0 to 77\n",
      "Data columns (total 17 columns):\n",
      " #   Column                  Non-Null Count  Dtype  \n",
      "---  ------                  --------------  -----  \n",
      " 0   id                      78 non-null     int64  \n",
      " 1   name                    78 non-null     object \n",
      " 2   fabric_factory_country  0 non-null      float64\n",
      " 3   dyeing_factory_country  0 non-null      float64\n",
      " 4   created_at              78 non-null     object \n",
      " 5   updated_at              78 non-null     object \n",
      " 6   website                 78 non-null     object \n",
      " 7   fabric_type             33 non-null     object \n",
      " 8   specialty               30 non-null     object \n",
      " 9   end_uses                20 non-null     object \n",
      " 10  fibers                  33 non-null     object \n",
      " 11  status                  78 non-null     object \n",
      " 12  deleted_at              28 non-null     object \n",
      " 13  years_of_work           3 non-null      float64\n",
      " 14  origin                  17 non-null     object \n",
      " 15  ban_selling_fabrics     23 non-null     object \n",
      " 16  currency                52 non-null     object \n",
      "dtypes: float64(3), int64(1), object(13)\n",
      "memory usage: 10.5+ KB\n"
     ]
    }
   ],
   "source": [
    "suppliers_orig.info()"
   ]
  },
  {
   "cell_type": "code",
   "execution_count": 45,
   "metadata": {},
   "outputs": [],
   "source": [
    "# Replace null fabric_type, specialty, end_uses, fibers. \n",
    "# These values are specific to suppliers and cannot be imputed as per the domain experts. \n",
    "# It may not be possible to use the supplier data for recommendations for this reason\n",
    "# However, for now we will still go ahead with it.\n",
    "\n",
    "suppliers = suppliers_orig[['id', 'name', 'fabric_type', 'specialty', 'end_uses', 'fibers']]\n",
    "suppliers['fabric_type'].fillna('blank_fabrictype', inplace=True)\n",
    "suppliers['specialty'].fillna('blank_specialty', inplace=True)\n",
    "suppliers['end_uses'].fillna('blank_end_uses', inplace=True)\n",
    "suppliers['fibers'].fillna('blank_fibers', inplace=True)\n"
   ]
  },
  {
   "cell_type": "code",
   "execution_count": 46,
   "metadata": {},
   "outputs": [],
   "source": [
    "suppliers.rename(columns={'name': 'supp_name', 'id': 'supplier_id', 'fabric_type': 'supp_fabric_type', 'specialty': 'supp_specialty', 'end_uses': 'supp_end_uses', 'fibers': 'supp_fibers'}, inplace=True)\n"
   ]
  },
  {
   "cell_type": "markdown",
   "metadata": {},
   "source": [
    "Since there are many null values in the suppliers dataset features, we will not be able to use it for recommendations. However we will still merge it with materials dataset, for future use. \n"
   ]
  },
  {
   "cell_type": "markdown",
   "metadata": {},
   "source": [
    "## 2c. Material Tier Price Dataset"
   ]
  },
  {
   "cell_type": "markdown",
   "metadata": {},
   "source": [
    "This dataset stores tiered pricing for bulk orders. We will examine it to see if there is relevant information to be used. "
   ]
  },
  {
   "cell_type": "code",
   "execution_count": 47,
   "metadata": {},
   "outputs": [
    {
     "data": {
      "text/html": [
       "<div>\n",
       "<style scoped>\n",
       "    .dataframe tbody tr th:only-of-type {\n",
       "        vertical-align: middle;\n",
       "    }\n",
       "\n",
       "    .dataframe tbody tr th {\n",
       "        vertical-align: top;\n",
       "    }\n",
       "\n",
       "    .dataframe thead th {\n",
       "        text-align: right;\n",
       "    }\n",
       "</style>\n",
       "<table border=\"1\" class=\"dataframe\">\n",
       "  <thead>\n",
       "    <tr style=\"text-align: right;\">\n",
       "      <th></th>\n",
       "      <th>id</th>\n",
       "      <th>material_id</th>\n",
       "      <th>starts_from</th>\n",
       "      <th>price</th>\n",
       "      <th>created_at</th>\n",
       "      <th>updated_at</th>\n",
       "    </tr>\n",
       "  </thead>\n",
       "  <tbody>\n",
       "    <tr>\n",
       "      <th>0</th>\n",
       "      <td>3049</td>\n",
       "      <td>2426</td>\n",
       "      <td>60</td>\n",
       "      <td>21.50</td>\n",
       "      <td>2021-07-27T17:01:40.734Z</td>\n",
       "      <td>2021-07-27T17:01:40.734Z</td>\n",
       "    </tr>\n",
       "    <tr>\n",
       "      <th>1</th>\n",
       "      <td>3197</td>\n",
       "      <td>2132</td>\n",
       "      <td>31</td>\n",
       "      <td>9.79</td>\n",
       "      <td>2021-07-29T15:04:05.979Z</td>\n",
       "      <td>2021-07-29T15:04:05.979Z</td>\n",
       "    </tr>\n",
       "    <tr>\n",
       "      <th>2</th>\n",
       "      <td>7</td>\n",
       "      <td>376</td>\n",
       "      <td>100</td>\n",
       "      <td>3.50</td>\n",
       "      <td>2021-04-16T05:27:29.967Z</td>\n",
       "      <td>2021-04-16T05:27:29.967Z</td>\n",
       "    </tr>\n",
       "    <tr>\n",
       "      <th>3</th>\n",
       "      <td>8</td>\n",
       "      <td>376</td>\n",
       "      <td>1000</td>\n",
       "      <td>3.00</td>\n",
       "      <td>2021-04-16T05:27:29.970Z</td>\n",
       "      <td>2021-04-16T05:27:29.970Z</td>\n",
       "    </tr>\n",
       "    <tr>\n",
       "      <th>4</th>\n",
       "      <td>9</td>\n",
       "      <td>667</td>\n",
       "      <td>300</td>\n",
       "      <td>2.00</td>\n",
       "      <td>2021-04-16T05:27:29.997Z</td>\n",
       "      <td>2021-04-16T05:27:29.997Z</td>\n",
       "    </tr>\n",
       "  </tbody>\n",
       "</table>\n",
       "</div>"
      ],
      "text/plain": [
       "     id  material_id  starts_from  price                created_at  \\\n",
       "0  3049         2426           60  21.50  2021-07-27T17:01:40.734Z   \n",
       "1  3197         2132           31   9.79  2021-07-29T15:04:05.979Z   \n",
       "2     7          376          100   3.50  2021-04-16T05:27:29.967Z   \n",
       "3     8          376         1000   3.00  2021-04-16T05:27:29.970Z   \n",
       "4     9          667          300   2.00  2021-04-16T05:27:29.997Z   \n",
       "\n",
       "                 updated_at  \n",
       "0  2021-07-27T17:01:40.734Z  \n",
       "1  2021-07-29T15:04:05.979Z  \n",
       "2  2021-04-16T05:27:29.967Z  \n",
       "3  2021-04-16T05:27:29.970Z  \n",
       "4  2021-04-16T05:27:29.997Z  "
      ]
     },
     "execution_count": 47,
     "metadata": {},
     "output_type": "execute_result"
    }
   ],
   "source": [
    "tier_prices_orig.head()"
   ]
  },
  {
   "cell_type": "code",
   "execution_count": 48,
   "metadata": {},
   "outputs": [
    {
     "data": {
      "text/plain": [
       "(1539, 38)"
      ]
     },
     "execution_count": 48,
     "metadata": {},
     "output_type": "execute_result"
    }
   ],
   "source": [
    "materials.shape"
   ]
  },
  {
   "cell_type": "code",
   "execution_count": 49,
   "metadata": {},
   "outputs": [
    {
     "name": "stdout",
     "output_type": "stream",
     "text": [
      "<class 'pandas.core.frame.DataFrame'>\n",
      "RangeIndex: 429 entries, 0 to 428\n",
      "Data columns (total 6 columns):\n",
      " #   Column       Non-Null Count  Dtype  \n",
      "---  ------       --------------  -----  \n",
      " 0   id           429 non-null    int64  \n",
      " 1   material_id  429 non-null    int64  \n",
      " 2   starts_from  429 non-null    int64  \n",
      " 3   price        429 non-null    float64\n",
      " 4   created_at   429 non-null    object \n",
      " 5   updated_at   429 non-null    object \n",
      "dtypes: float64(1), int64(3), object(2)\n",
      "memory usage: 20.2+ KB\n"
     ]
    }
   ],
   "source": [
    "tier_prices_orig.info()"
   ]
  },
  {
   "cell_type": "code",
   "execution_count": 50,
   "metadata": {},
   "outputs": [],
   "source": [
    "# We drop the created_at, updated_at fields as they are not relevant to the analysis\n",
    "tier_prices = tier_prices_orig[['id', 'material_id', 'starts_from', 'price']]\n"
   ]
  },
  {
   "cell_type": "code",
   "execution_count": 51,
   "metadata": {},
   "outputs": [],
   "source": [
    "# Rename the 'price' and 'id' columns so there is no conflict while merging with the materials dataset\n",
    "# Rename rest of the columns to align with the materials dataset\n",
    "\n",
    "tier_prices.rename(columns={'starts_from': 'tiered_price_starts_from','price':'tiered_price', 'id':'tier_price_id', 'material_id':'id'}, inplace=True)\n"
   ]
  },
  {
   "cell_type": "code",
   "execution_count": 52,
   "metadata": {
    "scrolled": true
   },
   "outputs": [
    {
     "data": {
      "text/html": [
       "<div>\n",
       "<style scoped>\n",
       "    .dataframe tbody tr th:only-of-type {\n",
       "        vertical-align: middle;\n",
       "    }\n",
       "\n",
       "    .dataframe tbody tr th {\n",
       "        vertical-align: top;\n",
       "    }\n",
       "\n",
       "    .dataframe thead th {\n",
       "        text-align: right;\n",
       "    }\n",
       "</style>\n",
       "<table border=\"1\" class=\"dataframe\">\n",
       "  <thead>\n",
       "    <tr style=\"text-align: right;\">\n",
       "      <th></th>\n",
       "      <th>tier_price_id</th>\n",
       "      <th>id</th>\n",
       "      <th>tiered_price_starts_from</th>\n",
       "      <th>tiered_price</th>\n",
       "    </tr>\n",
       "  </thead>\n",
       "  <tbody>\n",
       "    <tr>\n",
       "      <th>0</th>\n",
       "      <td>3049</td>\n",
       "      <td>2426</td>\n",
       "      <td>60</td>\n",
       "      <td>21.50</td>\n",
       "    </tr>\n",
       "    <tr>\n",
       "      <th>1</th>\n",
       "      <td>3197</td>\n",
       "      <td>2132</td>\n",
       "      <td>31</td>\n",
       "      <td>9.79</td>\n",
       "    </tr>\n",
       "    <tr>\n",
       "      <th>2</th>\n",
       "      <td>7</td>\n",
       "      <td>376</td>\n",
       "      <td>100</td>\n",
       "      <td>3.50</td>\n",
       "    </tr>\n",
       "    <tr>\n",
       "      <th>3</th>\n",
       "      <td>8</td>\n",
       "      <td>376</td>\n",
       "      <td>1000</td>\n",
       "      <td>3.00</td>\n",
       "    </tr>\n",
       "    <tr>\n",
       "      <th>4</th>\n",
       "      <td>9</td>\n",
       "      <td>667</td>\n",
       "      <td>300</td>\n",
       "      <td>2.00</td>\n",
       "    </tr>\n",
       "  </tbody>\n",
       "</table>\n",
       "</div>"
      ],
      "text/plain": [
       "   tier_price_id    id  tiered_price_starts_from  tiered_price\n",
       "0           3049  2426                        60         21.50\n",
       "1           3197  2132                        31          9.79\n",
       "2              7   376                       100          3.50\n",
       "3              8   376                      1000          3.00\n",
       "4              9   667                       300          2.00"
      ]
     },
     "execution_count": 52,
     "metadata": {},
     "output_type": "execute_result"
    }
   ],
   "source": [
    "tier_prices.head()"
   ]
  },
  {
   "cell_type": "markdown",
   "metadata": {},
   "source": [
    "## 2d. Material Variants Dataset"
   ]
  },
  {
   "cell_type": "markdown",
   "metadata": {},
   "source": [
    "This dataset stores data about colour variants of the materials. "
   ]
  },
  {
   "cell_type": "code",
   "execution_count": 53,
   "metadata": {
    "scrolled": true
   },
   "outputs": [
    {
     "name": "stdout",
     "output_type": "stream",
     "text": [
      "<class 'pandas.core.frame.DataFrame'>\n",
      "RangeIndex: 2832 entries, 0 to 2831\n",
      "Data columns (total 10 columns):\n",
      " #   Column       Non-Null Count  Dtype  \n",
      "---  ------       --------------  -----  \n",
      " 0   id           2832 non-null   int64  \n",
      " 1   colour_name  791 non-null    object \n",
      " 2   pantone      134 non-null    object \n",
      " 3   hex          134 non-null    object \n",
      " 4   material_id  2832 non-null   int64  \n",
      " 5   created_at   2832 non-null   object \n",
      " 6   updated_at   2832 non-null   object \n",
      " 7   deleted_at   0 non-null      float64\n",
      " 8   image        543 non-null    object \n",
      " 9   leftover     1876 non-null   float64\n",
      "dtypes: float64(2), int64(2), object(6)\n",
      "memory usage: 221.4+ KB\n"
     ]
    }
   ],
   "source": [
    "variants_orig.info()"
   ]
  },
  {
   "cell_type": "code",
   "execution_count": 54,
   "metadata": {},
   "outputs": [
    {
     "data": {
      "text/plain": [
       "(2832, 10)"
      ]
     },
     "execution_count": 54,
     "metadata": {},
     "output_type": "execute_result"
    }
   ],
   "source": [
    "variants_orig.shape"
   ]
  },
  {
   "cell_type": "code",
   "execution_count": 55,
   "metadata": {},
   "outputs": [
    {
     "data": {
      "text/plain": [
       "id               int64\n",
       "colour_name     object\n",
       "pantone         object\n",
       "hex             object\n",
       "material_id      int64\n",
       "created_at      object\n",
       "updated_at      object\n",
       "deleted_at     float64\n",
       "image           object\n",
       "leftover       float64\n",
       "dtype: object"
      ]
     },
     "execution_count": 55,
     "metadata": {},
     "output_type": "execute_result"
    }
   ],
   "source": [
    "variants_orig.dtypes"
   ]
  },
  {
   "cell_type": "code",
   "execution_count": 56,
   "metadata": {},
   "outputs": [
    {
     "data": {
      "text/plain": [
       "id                0\n",
       "colour_name    2041\n",
       "pantone        2698\n",
       "hex            2698\n",
       "material_id       0\n",
       "created_at        0\n",
       "updated_at        0\n",
       "deleted_at     2832\n",
       "image          2289\n",
       "leftover        956\n",
       "dtype: int64"
      ]
     },
     "execution_count": 56,
     "metadata": {},
     "output_type": "execute_result"
    }
   ],
   "source": [
    "variants_orig.isnull().sum()"
   ]
  },
  {
   "cell_type": "code",
   "execution_count": 57,
   "metadata": {},
   "outputs": [],
   "source": [
    "# Drop deleted_at column as all values are null\n",
    "# Drop created_at, updated_at, image columns as they are not relevant for our analysis\n",
    "# leftover column is also dropped as it is a legacy field, no longer in use\n",
    "variants = variants_orig[['id', 'colour_name', 'pantone', 'hex', 'material_id']]\n"
   ]
  },
  {
   "cell_type": "code",
   "execution_count": 58,
   "metadata": {},
   "outputs": [
    {
     "data": {
      "text/plain": [
       "(2832, 5)"
      ]
     },
     "execution_count": 58,
     "metadata": {},
     "output_type": "execute_result"
    }
   ],
   "source": [
    "variants.shape"
   ]
  },
  {
   "cell_type": "code",
   "execution_count": 59,
   "metadata": {},
   "outputs": [],
   "source": [
    "# Take only those rows for which either colour name, pantone or hex values are not null\n",
    "variants = variants[(variants['colour_name'].notnull()) | (variants['pantone'].notnull()) | (variants['hex'].notnull())]\n"
   ]
  },
  {
   "cell_type": "code",
   "execution_count": 60,
   "metadata": {},
   "outputs": [],
   "source": [
    "# Rename id and material_id columns to align the column names with the materials dataset\n",
    "variants.rename(columns={'id': 'variant_id', 'colour_name':'var_colour', 'pantone':'var_pantone', 'hex':'var_hex'}, inplace=True)\n"
   ]
  },
  {
   "cell_type": "code",
   "execution_count": 61,
   "metadata": {},
   "outputs": [
    {
     "data": {
      "text/html": [
       "<div>\n",
       "<style scoped>\n",
       "    .dataframe tbody tr th:only-of-type {\n",
       "        vertical-align: middle;\n",
       "    }\n",
       "\n",
       "    .dataframe tbody tr th {\n",
       "        vertical-align: top;\n",
       "    }\n",
       "\n",
       "    .dataframe thead th {\n",
       "        text-align: right;\n",
       "    }\n",
       "</style>\n",
       "<table border=\"1\" class=\"dataframe\">\n",
       "  <thead>\n",
       "    <tr style=\"text-align: right;\">\n",
       "      <th></th>\n",
       "      <th>variant_id</th>\n",
       "      <th>var_colour</th>\n",
       "      <th>var_pantone</th>\n",
       "      <th>var_hex</th>\n",
       "      <th>material_id</th>\n",
       "    </tr>\n",
       "  </thead>\n",
       "  <tbody>\n",
       "    <tr>\n",
       "      <th>94</th>\n",
       "      <td>259</td>\n",
       "      <td>007642</td>\n",
       "      <td>NaN</td>\n",
       "      <td>NaN</td>\n",
       "      <td>493</td>\n",
       "    </tr>\n",
       "    <tr>\n",
       "      <th>95</th>\n",
       "      <td>254</td>\n",
       "      <td>007577</td>\n",
       "      <td>NaN</td>\n",
       "      <td>NaN</td>\n",
       "      <td>488</td>\n",
       "    </tr>\n",
       "    <tr>\n",
       "      <th>103</th>\n",
       "      <td>1862</td>\n",
       "      <td>Black Beauty</td>\n",
       "      <td>19-3911</td>\n",
       "      <td>26262a</td>\n",
       "      <td>391</td>\n",
       "    </tr>\n",
       "    <tr>\n",
       "      <th>109</th>\n",
       "      <td>200</td>\n",
       "      <td>Orange</td>\n",
       "      <td>NaN</td>\n",
       "      <td>NaN</td>\n",
       "      <td>278</td>\n",
       "    </tr>\n",
       "    <tr>\n",
       "      <th>185</th>\n",
       "      <td>361</td>\n",
       "      <td>000615</td>\n",
       "      <td>NaN</td>\n",
       "      <td>NaN</td>\n",
       "      <td>652</td>\n",
       "    </tr>\n",
       "  </tbody>\n",
       "</table>\n",
       "</div>"
      ],
      "text/plain": [
       "     variant_id    var_colour var_pantone var_hex  material_id\n",
       "94          259        007642         NaN     NaN          493\n",
       "95          254        007577         NaN     NaN          488\n",
       "103        1862  Black Beauty     19-3911  26262a          391\n",
       "109         200        Orange         NaN     NaN          278\n",
       "185         361        000615         NaN     NaN          652"
      ]
     },
     "execution_count": 61,
     "metadata": {},
     "output_type": "execute_result"
    }
   ],
   "source": [
    "variants.head()"
   ]
  },
  {
   "cell_type": "markdown",
   "metadata": {},
   "source": [
    "## 2c. Merge Materials, Supplier datasets"
   ]
  },
  {
   "cell_type": "code",
   "execution_count": 62,
   "metadata": {},
   "outputs": [
    {
     "data": {
      "text/plain": [
       "(1539, 38)"
      ]
     },
     "execution_count": 62,
     "metadata": {},
     "output_type": "execute_result"
    }
   ],
   "source": [
    "materials.shape"
   ]
  },
  {
   "cell_type": "code",
   "execution_count": 63,
   "metadata": {},
   "outputs": [],
   "source": [
    "materials = materials.merge(suppliers, on='supplier_id', how='left')\n"
   ]
  },
  {
   "cell_type": "code",
   "execution_count": 64,
   "metadata": {},
   "outputs": [
    {
     "data": {
      "text/html": [
       "<div>\n",
       "<style scoped>\n",
       "    .dataframe tbody tr th:only-of-type {\n",
       "        vertical-align: middle;\n",
       "    }\n",
       "\n",
       "    .dataframe tbody tr th {\n",
       "        vertical-align: top;\n",
       "    }\n",
       "\n",
       "    .dataframe thead th {\n",
       "        text-align: right;\n",
       "    }\n",
       "</style>\n",
       "<table border=\"1\" class=\"dataframe\">\n",
       "  <thead>\n",
       "    <tr style=\"text-align: right;\">\n",
       "      <th></th>\n",
       "      <th>id</th>\n",
       "      <th>created_at</th>\n",
       "      <th>updated_at</th>\n",
       "      <th>code</th>\n",
       "      <th>fabric_weave</th>\n",
       "      <th>currency</th>\n",
       "      <th>supplier_id</th>\n",
       "      <th>price</th>\n",
       "      <th>name</th>\n",
       "      <th>fabric_blend_one</th>\n",
       "      <th>...</th>\n",
       "      <th>swatch_price</th>\n",
       "      <th>swatch_quantity</th>\n",
       "      <th>properties</th>\n",
       "      <th>only_for_brands</th>\n",
       "      <th>end_use</th>\n",
       "      <th>supp_name</th>\n",
       "      <th>supp_fabric_type</th>\n",
       "      <th>supp_specialty</th>\n",
       "      <th>supp_end_uses</th>\n",
       "      <th>supp_fibers</th>\n",
       "    </tr>\n",
       "  </thead>\n",
       "  <tbody>\n",
       "    <tr>\n",
       "      <th>0</th>\n",
       "      <td>2253</td>\n",
       "      <td>2021-04-13 14:32:14.096000+00:00</td>\n",
       "      <td>2021-07-28 08:59:59.993000+00:00</td>\n",
       "      <td>C201069</td>\n",
       "      <td>Ripstop</td>\n",
       "      <td>EUR</td>\n",
       "      <td>23</td>\n",
       "      <td>11.90</td>\n",
       "      <td>XXXXXXXXXXganic Cotton</td>\n",
       "      <td>Organic Cotton</td>\n",
       "      <td>...</td>\n",
       "      <td>2</td>\n",
       "      <td>4.0</td>\n",
       "      <td>[]</td>\n",
       "      <td>[]</td>\n",
       "      <td>[Coat, Jacket, Pants]</td>\n",
       "      <td>XXXXXXXXXX</td>\n",
       "      <td>TECHNICAL AND OUTWEAR FABRICS</td>\n",
       "      <td>blank_specialty</td>\n",
       "      <td>MEDIUM HIGH LUXURY BRANDS</td>\n",
       "      <td>Cotton, Polyamide (Nylon) ,Polyester, Wool, SE,LI</td>\n",
       "    </tr>\n",
       "    <tr>\n",
       "      <th>1</th>\n",
       "      <td>557</td>\n",
       "      <td>2020-01-30 10:24:36.482000+00:00</td>\n",
       "      <td>2021-06-18 04:11:19.866000+00:00</td>\n",
       "      <td>Checkered Stripes</td>\n",
       "      <td>blank_weave</td>\n",
       "      <td>USD</td>\n",
       "      <td>25</td>\n",
       "      <td>13.52</td>\n",
       "      <td>XXXXXXXXXXStripes TENCEL</td>\n",
       "      <td>TENCEL Lyocell</td>\n",
       "      <td>...</td>\n",
       "      <td>2</td>\n",
       "      <td>0.0</td>\n",
       "      <td>[]</td>\n",
       "      <td>[]</td>\n",
       "      <td>[Dress, Pants, Skirt]</td>\n",
       "      <td>XXXXXXXXXX</td>\n",
       "      <td>blank_fabrictype</td>\n",
       "      <td>Wovens, small order</td>\n",
       "      <td>blank_end_uses</td>\n",
       "      <td>blank_fibers</td>\n",
       "    </tr>\n",
       "    <tr>\n",
       "      <th>2</th>\n",
       "      <td>947</td>\n",
       "      <td>2020-06-04 14:11:02.191000+00:00</td>\n",
       "      <td>2021-05-11 12:31:46.481000+00:00</td>\n",
       "      <td>Low MOQ Sr 11</td>\n",
       "      <td>Plain</td>\n",
       "      <td>USD</td>\n",
       "      <td>27</td>\n",
       "      <td>1.80</td>\n",
       "      <td>XXXXXXXXXXtton (40sx40s/136x70)</td>\n",
       "      <td>Organic Cotton</td>\n",
       "      <td>...</td>\n",
       "      <td>2</td>\n",
       "      <td>3.0</td>\n",
       "      <td>[]</td>\n",
       "      <td>[]</td>\n",
       "      <td>[Shirt]</td>\n",
       "      <td>XXXXXXXXXXics</td>\n",
       "      <td>Woven and Knits</td>\n",
       "      <td>blank_specialty</td>\n",
       "      <td>Mens Wear, Women's wear, OOTD</td>\n",
       "      <td>Organic natural fibres</td>\n",
       "    </tr>\n",
       "    <tr>\n",
       "      <th>3</th>\n",
       "      <td>2276</td>\n",
       "      <td>2021-04-30 09:47:50.602000+00:00</td>\n",
       "      <td>2021-07-29 15:00:06.378000+00:00</td>\n",
       "      <td>CIAO/ORG</td>\n",
       "      <td>Terry</td>\n",
       "      <td>EUR</td>\n",
       "      <td>44</td>\n",
       "      <td>15.90</td>\n",
       "      <td>XXXXXXXXXXerry Organic Cotton</td>\n",
       "      <td>Organic Cotton</td>\n",
       "      <td>...</td>\n",
       "      <td>2</td>\n",
       "      <td>36.0</td>\n",
       "      <td>[]</td>\n",
       "      <td>[]</td>\n",
       "      <td>[Sweatshirt, Leggings / Yoga Pants, Blouse, Tr...</td>\n",
       "      <td>XXXXXXXXXX</td>\n",
       "      <td>Knit</td>\n",
       "      <td>Recycled Natural Fibre</td>\n",
       "      <td>blank_end_uses</td>\n",
       "      <td>Recycled Wool, Recycled Cotton</td>\n",
       "    </tr>\n",
       "    <tr>\n",
       "      <th>4</th>\n",
       "      <td>1840</td>\n",
       "      <td>2020-12-09 15:16:21.547000+00:00</td>\n",
       "      <td>2021-06-19 04:39:06.515000+00:00</td>\n",
       "      <td>#0014BK11B0000</td>\n",
       "      <td>blank_weave</td>\n",
       "      <td>USD</td>\n",
       "      <td>67</td>\n",
       "      <td>32.00</td>\n",
       "      <td>XXXXXXXXXX0000</td>\n",
       "      <td>Recycled Cow Leather</td>\n",
       "      <td>...</td>\n",
       "      <td>2</td>\n",
       "      <td>0.0</td>\n",
       "      <td>[]</td>\n",
       "      <td>[Archive]</td>\n",
       "      <td>[Bags &amp; Wallets, Shoes]</td>\n",
       "      <td>XXXXXXXXXXher</td>\n",
       "      <td>Others</td>\n",
       "      <td>Sustainable Leather</td>\n",
       "      <td>Accessories, Leather Goods, Luxury, New Innova...</td>\n",
       "      <td>Leather / Skin</td>\n",
       "    </tr>\n",
       "  </tbody>\n",
       "</table>\n",
       "<p>5 rows × 43 columns</p>\n",
       "</div>"
      ],
      "text/plain": [
       "     id                       created_at                       updated_at  \\\n",
       "0  2253 2021-04-13 14:32:14.096000+00:00 2021-07-28 08:59:59.993000+00:00   \n",
       "1   557 2020-01-30 10:24:36.482000+00:00 2021-06-18 04:11:19.866000+00:00   \n",
       "2   947 2020-06-04 14:11:02.191000+00:00 2021-05-11 12:31:46.481000+00:00   \n",
       "3  2276 2021-04-30 09:47:50.602000+00:00 2021-07-29 15:00:06.378000+00:00   \n",
       "4  1840 2020-12-09 15:16:21.547000+00:00 2021-06-19 04:39:06.515000+00:00   \n",
       "\n",
       "                code fabric_weave currency  supplier_id  price  \\\n",
       "0            C201069      Ripstop      EUR           23  11.90   \n",
       "1  Checkered Stripes  blank_weave      USD           25  13.52   \n",
       "2      Low MOQ Sr 11        Plain      USD           27   1.80   \n",
       "3           CIAO/ORG        Terry      EUR           44  15.90   \n",
       "4     #0014BK11B0000  blank_weave      USD           67  32.00   \n",
       "\n",
       "                              name      fabric_blend_one  ...  swatch_price  \\\n",
       "0           XXXXXXXXXXganic Cotton        Organic Cotton  ...             2   \n",
       "1         XXXXXXXXXXStripes TENCEL        TENCEL Lyocell  ...             2   \n",
       "2  XXXXXXXXXXtton (40sx40s/136x70)        Organic Cotton  ...             2   \n",
       "3    XXXXXXXXXXerry Organic Cotton        Organic Cotton  ...             2   \n",
       "4                   XXXXXXXXXX0000  Recycled Cow Leather  ...             2   \n",
       "\n",
       "  swatch_quantity  properties only_for_brands  \\\n",
       "0             4.0          []              []   \n",
       "1             0.0          []              []   \n",
       "2             3.0          []              []   \n",
       "3            36.0          []              []   \n",
       "4             0.0          []       [Archive]   \n",
       "\n",
       "                                             end_use      supp_name  \\\n",
       "0                              [Coat, Jacket, Pants]     XXXXXXXXXX   \n",
       "1                              [Dress, Pants, Skirt]     XXXXXXXXXX   \n",
       "2                                            [Shirt]  XXXXXXXXXXics   \n",
       "3  [Sweatshirt, Leggings / Yoga Pants, Blouse, Tr...     XXXXXXXXXX   \n",
       "4                            [Bags & Wallets, Shoes]  XXXXXXXXXXher   \n",
       "\n",
       "                supp_fabric_type          supp_specialty  \\\n",
       "0  TECHNICAL AND OUTWEAR FABRICS         blank_specialty   \n",
       "1               blank_fabrictype     Wovens, small order   \n",
       "2                Woven and Knits         blank_specialty   \n",
       "3                           Knit  Recycled Natural Fibre   \n",
       "4                         Others    Sustainable Leather    \n",
       "\n",
       "                                       supp_end_uses  \\\n",
       "0                          MEDIUM HIGH LUXURY BRANDS   \n",
       "1                                     blank_end_uses   \n",
       "2                      Mens Wear, Women's wear, OOTD   \n",
       "3                                     blank_end_uses   \n",
       "4  Accessories, Leather Goods, Luxury, New Innova...   \n",
       "\n",
       "                                         supp_fibers  \n",
       "0  Cotton, Polyamide (Nylon) ,Polyester, Wool, SE,LI  \n",
       "1                                       blank_fibers  \n",
       "2                             Organic natural fibres  \n",
       "3                     Recycled Wool, Recycled Cotton  \n",
       "4                                     Leather / Skin  \n",
       "\n",
       "[5 rows x 43 columns]"
      ]
     },
     "execution_count": 64,
     "metadata": {},
     "output_type": "execute_result"
    }
   ],
   "source": [
    "materials.head()"
   ]
  },
  {
   "cell_type": "markdown",
   "metadata": {},
   "source": [
    "## 2d. Merge Material, Tier_prices and Variants datasets"
   ]
  },
  {
   "cell_type": "code",
   "execution_count": 65,
   "metadata": {},
   "outputs": [
    {
     "data": {
      "text/plain": [
       "(1539, 43)"
      ]
     },
     "execution_count": 65,
     "metadata": {},
     "output_type": "execute_result"
    }
   ],
   "source": [
    "materials.shape"
   ]
  },
  {
   "cell_type": "code",
   "execution_count": 66,
   "metadata": {},
   "outputs": [],
   "source": [
    "# Merge the relevant fields from the tier_prices table with materials table\n",
    "materials_tiered_prices = materials.merge(tier_prices[['id','tiered_price_starts_from','tiered_price']], on='id', how='left')\n"
   ]
  },
  {
   "cell_type": "code",
   "execution_count": 67,
   "metadata": {},
   "outputs": [
    {
     "data": {
      "text/plain": [
       "Index(['id', 'created_at', 'updated_at', 'code', 'fabric_weave', 'currency',\n",
       "       'supplier_id', 'price', 'name', 'fabric_blend_one',\n",
       "       'fabric_blend_one_percent', 'fabric_blend_two',\n",
       "       'fabric_blend_two_percent', 'fabric_blend_three',\n",
       "       'fabric_blend_three_percent', 'weight', 'weight_unit', 'fabric_type',\n",
       "       'price_unit', 'status', 'published', 'description',\n",
       "       'dispatch_time_sample', 'factory_location', 'width', 'width_unit',\n",
       "       'finishing', 'dispatch_time_mass_quantity_min',\n",
       "       'dispatch_time_mass_quantity_max', 'minimal_order_quantity', 'uuid',\n",
       "       'notify_fc_team', 'moq', 'swatch_price', 'swatch_quantity',\n",
       "       'properties', 'only_for_brands', 'end_use', 'supp_name',\n",
       "       'supp_fabric_type', 'supp_specialty', 'supp_end_uses', 'supp_fibers',\n",
       "       'tiered_price_starts_from', 'tiered_price'],\n",
       "      dtype='object')"
      ]
     },
     "execution_count": 67,
     "metadata": {},
     "output_type": "execute_result"
    }
   ],
   "source": [
    "materials_tiered_prices.columns"
   ]
  },
  {
   "cell_type": "code",
   "execution_count": 68,
   "metadata": {},
   "outputs": [],
   "source": [
    "# Merge the relevant fields from the variants dataset with materials dataset\n",
    "materials_merged = materials_tiered_prices.merge(variants[['material_id','var_colour','var_pantone', 'var_hex']], left_on='id', right_on='material_id', how='left')\n",
    "materials_merged.drop(columns=['material_id'], inplace=True)"
   ]
  },
  {
   "cell_type": "code",
   "execution_count": 69,
   "metadata": {},
   "outputs": [
    {
     "data": {
      "text/plain": [
       "(2400, 48)"
      ]
     },
     "execution_count": 69,
     "metadata": {},
     "output_type": "execute_result"
    }
   ],
   "source": [
    "materials_merged.shape"
   ]
  },
  {
   "cell_type": "code",
   "execution_count": 70,
   "metadata": {},
   "outputs": [],
   "source": [
    "# replace null values in colour_name, pantone and hex with blanks\n",
    "materials_merged['var_colour'].fillna(\"blank_colour\", inplace=True)\n",
    "materials_merged['var_pantone'].fillna(\"blank_pantone\", inplace=True)\n",
    "materials_merged['var_hex'].fillna(\"blank_hex\", inplace=True)\n"
   ]
  },
  {
   "cell_type": "code",
   "execution_count": 71,
   "metadata": {},
   "outputs": [
    {
     "data": {
      "text/plain": [
       "id                                    0\n",
       "created_at                            0\n",
       "updated_at                            0\n",
       "code                                  0\n",
       "fabric_weave                          0\n",
       "currency                              0\n",
       "supplier_id                           0\n",
       "price                                 0\n",
       "name                                  0\n",
       "fabric_blend_one                      0\n",
       "fabric_blend_one_percent              0\n",
       "fabric_blend_two                      0\n",
       "fabric_blend_two_percent              0\n",
       "fabric_blend_three                    0\n",
       "fabric_blend_three_percent            0\n",
       "weight                                0\n",
       "weight_unit                           0\n",
       "fabric_type                           0\n",
       "price_unit                            0\n",
       "status                                0\n",
       "published                             0\n",
       "description                           0\n",
       "dispatch_time_sample                  0\n",
       "factory_location                      0\n",
       "width                                72\n",
       "width_unit                            0\n",
       "finishing                             0\n",
       "dispatch_time_mass_quantity_min       0\n",
       "dispatch_time_mass_quantity_max       0\n",
       "minimal_order_quantity                0\n",
       "uuid                                  0\n",
       "notify_fc_team                        0\n",
       "moq                                   0\n",
       "swatch_price                          0\n",
       "swatch_quantity                       0\n",
       "properties                            0\n",
       "only_for_brands                       0\n",
       "end_use                               0\n",
       "supp_name                             0\n",
       "supp_fabric_type                      0\n",
       "supp_specialty                        0\n",
       "supp_end_uses                         0\n",
       "supp_fibers                           0\n",
       "tiered_price_starts_from           1505\n",
       "tiered_price                       1505\n",
       "var_colour                            0\n",
       "var_pantone                           0\n",
       "var_hex                               0\n",
       "dtype: int64"
      ]
     },
     "execution_count": 71,
     "metadata": {},
     "output_type": "execute_result"
    }
   ],
   "source": [
    "materials_merged.isnull().sum()"
   ]
  },
  {
   "cell_type": "code",
   "execution_count": 72,
   "metadata": {},
   "outputs": [
    {
     "data": {
      "text/html": [
       "<div>\n",
       "<style scoped>\n",
       "    .dataframe tbody tr th:only-of-type {\n",
       "        vertical-align: middle;\n",
       "    }\n",
       "\n",
       "    .dataframe tbody tr th {\n",
       "        vertical-align: top;\n",
       "    }\n",
       "\n",
       "    .dataframe thead th {\n",
       "        text-align: right;\n",
       "    }\n",
       "</style>\n",
       "<table border=\"1\" class=\"dataframe\">\n",
       "  <thead>\n",
       "    <tr style=\"text-align: right;\">\n",
       "      <th></th>\n",
       "      <th>tiered_price_starts_from</th>\n",
       "      <th>tiered_price</th>\n",
       "      <th>price</th>\n",
       "      <th>minimal_order_quantity</th>\n",
       "    </tr>\n",
       "  </thead>\n",
       "  <tbody>\n",
       "    <tr>\n",
       "      <th>0</th>\n",
       "      <td>NaN</td>\n",
       "      <td>NaN</td>\n",
       "      <td>11.9</td>\n",
       "      <td>0.0</td>\n",
       "    </tr>\n",
       "    <tr>\n",
       "      <th>1</th>\n",
       "      <td>NaN</td>\n",
       "      <td>NaN</td>\n",
       "      <td>11.9</td>\n",
       "      <td>0.0</td>\n",
       "    </tr>\n",
       "    <tr>\n",
       "      <th>2</th>\n",
       "      <td>NaN</td>\n",
       "      <td>NaN</td>\n",
       "      <td>11.9</td>\n",
       "      <td>0.0</td>\n",
       "    </tr>\n",
       "    <tr>\n",
       "      <th>3</th>\n",
       "      <td>NaN</td>\n",
       "      <td>NaN</td>\n",
       "      <td>11.9</td>\n",
       "      <td>0.0</td>\n",
       "    </tr>\n",
       "    <tr>\n",
       "      <th>4</th>\n",
       "      <td>NaN</td>\n",
       "      <td>NaN</td>\n",
       "      <td>11.9</td>\n",
       "      <td>0.0</td>\n",
       "    </tr>\n",
       "    <tr>\n",
       "      <th>...</th>\n",
       "      <td>...</td>\n",
       "      <td>...</td>\n",
       "      <td>...</td>\n",
       "      <td>...</td>\n",
       "    </tr>\n",
       "    <tr>\n",
       "      <th>2395</th>\n",
       "      <td>NaN</td>\n",
       "      <td>NaN</td>\n",
       "      <td>170.0</td>\n",
       "      <td>1.0</td>\n",
       "    </tr>\n",
       "    <tr>\n",
       "      <th>2396</th>\n",
       "      <td>NaN</td>\n",
       "      <td>NaN</td>\n",
       "      <td>252.0</td>\n",
       "      <td>1.0</td>\n",
       "    </tr>\n",
       "    <tr>\n",
       "      <th>2397</th>\n",
       "      <td>NaN</td>\n",
       "      <td>NaN</td>\n",
       "      <td>10.3</td>\n",
       "      <td>5000.0</td>\n",
       "    </tr>\n",
       "    <tr>\n",
       "      <th>2398</th>\n",
       "      <td>NaN</td>\n",
       "      <td>NaN</td>\n",
       "      <td>3.5</td>\n",
       "      <td>3000.0</td>\n",
       "    </tr>\n",
       "    <tr>\n",
       "      <th>2399</th>\n",
       "      <td>NaN</td>\n",
       "      <td>NaN</td>\n",
       "      <td>4.1</td>\n",
       "      <td>3000.0</td>\n",
       "    </tr>\n",
       "  </tbody>\n",
       "</table>\n",
       "<p>1505 rows × 4 columns</p>\n",
       "</div>"
      ],
      "text/plain": [
       "      tiered_price_starts_from  tiered_price  price  minimal_order_quantity\n",
       "0                          NaN           NaN   11.9                     0.0\n",
       "1                          NaN           NaN   11.9                     0.0\n",
       "2                          NaN           NaN   11.9                     0.0\n",
       "3                          NaN           NaN   11.9                     0.0\n",
       "4                          NaN           NaN   11.9                     0.0\n",
       "...                        ...           ...    ...                     ...\n",
       "2395                       NaN           NaN  170.0                     1.0\n",
       "2396                       NaN           NaN  252.0                     1.0\n",
       "2397                       NaN           NaN   10.3                  5000.0\n",
       "2398                       NaN           NaN    3.5                  3000.0\n",
       "2399                       NaN           NaN    4.1                  3000.0\n",
       "\n",
       "[1505 rows x 4 columns]"
      ]
     },
     "execution_count": 72,
     "metadata": {},
     "output_type": "execute_result"
    }
   ],
   "source": [
    "materials_merged.loc[materials_merged['tiered_price_starts_from'].isnull(), ['tiered_price_starts_from', 'tiered_price', 'price', 'minimal_order_quantity']]\n"
   ]
  },
  {
   "cell_type": "code",
   "execution_count": 73,
   "metadata": {},
   "outputs": [
    {
     "data": {
      "text/plain": [
       "blank_colour    1507\n",
       "000615            22\n",
       "000001            14\n",
       "Natural           12\n",
       "White             11\n",
       "                ... \n",
       "006926             1\n",
       "17                 1\n",
       "Greige             1\n",
       "007309             1\n",
       "Olive Green        1\n",
       "Name: var_colour, Length: 478, dtype: int64"
      ]
     },
     "execution_count": 73,
     "metadata": {},
     "output_type": "execute_result"
    }
   ],
   "source": [
    "materials_merged[\"var_colour\"].value_counts()"
   ]
  },
  {
   "cell_type": "markdown",
   "metadata": {},
   "source": [
    "### Impute fields that are null after merging"
   ]
  },
  {
   "cell_type": "code",
   "execution_count": 74,
   "metadata": {},
   "outputs": [],
   "source": [
    "# Impute the tiered price to same as sample price and update tiered_price_starts_from to moq\n",
    "materials_merged.loc[materials_merged['tiered_price'].isnull(), ['tiered_price']] = materials_merged['price']\n",
    "materials_merged.loc[materials_merged['tiered_price_starts_from'].isnull(), ['tiered_price_starts_from']] = materials_merged['minimal_order_quantity']\n",
    "\n",
    "# Impute the tiered price to same as sample price and update tiered_price_starts_from to moq\n",
    "materials_tiered_prices.loc[materials_tiered_prices['tiered_price'].isnull(), ['tiered_price']] = materials_tiered_prices['price']\n",
    "materials_tiered_prices.loc[materials_tiered_prices['tiered_price_starts_from'].isnull(), ['tiered_price_starts_from']] = materials_tiered_prices['minimal_order_quantity']\n"
   ]
  },
  {
   "cell_type": "markdown",
   "metadata": {},
   "source": [
    "After merging we oberve that most (over 1000) tier price and variant colours are blank, so we will not focus on these tables. \n",
    "\n",
    "We will focus our EDA on the materials table"
   ]
  },
  {
   "cell_type": "markdown",
   "metadata": {},
   "source": [
    "# 3. EDA for tables related to Content Based filtering"
   ]
  },
  {
   "cell_type": "code",
   "execution_count": 75,
   "metadata": {},
   "outputs": [],
   "source": [
    "#Plot the countplot for column, sorted by descending order of counts \n",
    "def sorted_count_plot(dataset, column, blank_value=\"\", title=\"\", x_label=\"\", y_label=\"\"):\n",
    "    plt.figure(figsize=(12,14))\n",
    "    \n",
    "    # If blank_value is passed then exclude blank values and print the count\n",
    "    if blank_value != \"\":\n",
    "        print(f\"Blank values: {len(dataset[dataset[column] == blank_value])}\")\n",
    "        dataset = dataset[dataset[column] != blank_value]\n",
    "\n",
    "    sort_order = dataset.groupby(column)[\"id\"].count().sort_values(ascending=False).index.values\n",
    "    hp = sns.countplot(data=dataset, y=column, order=sort_order);\n",
    "\n",
    "    if(title == \"\"):\n",
    "        hp.set_title(f\"Distribution of materials by {column}\", fontsize=22);\n",
    "        hp.set_xlabel(\"Count\", fontsize=20);\n",
    "        hp.set_ylabel(column, fontsize=20);\n",
    "    else:\n",
    "        hp.set_title(title, fontsize=22);\n",
    "        hp.set_xlabel(x_label, fontsize=20);\n",
    "        hp.set_ylabel(y_label, fontsize=20);\n",
    "    return hp"
   ]
  },
  {
   "cell_type": "code",
   "execution_count": 76,
   "metadata": {
    "scrolled": true
   },
   "outputs": [
    {
     "data": {
      "image/png": "[encoded data removed]",
      "text/plain": [
       "<Figure size 864x1008 with 1 Axes>"
      ]
     },
     "metadata": {
      "needs_background": "light"
     },
     "output_type": "display_data"
    }
   ],
   "source": [
    "# Plot the distribution for fabric_weave\n",
    "\n",
    "cp = sorted_count_plot(materials, \"fabric_weave\", title=\"Distribution of materials by Fabric Weave\", y_label=\"Fabric Weave\", x_label=\"Count of materials\")\n",
    "cp.set_yticklabels(cp.get_ymajorticklabels(), fontsize = 13);"
   ]
  },
  {
   "cell_type": "markdown",
   "metadata": {},
   "source": [
    "Maximum fabrics have blank fabric_weave (688), followed by plain (280). However, this is an important feature to identify the right fabrics, so we may still use it. "
   ]
  },
  {
   "cell_type": "code",
   "execution_count": 77,
   "metadata": {},
   "outputs": [
    {
     "data": {
      "image/png": "[encoded data removed]",
      "text/plain": [
       "<Figure size 864x1008 with 1 Axes>"
      ]
     },
     "metadata": {
      "needs_background": "light"
     },
     "output_type": "display_data"
    }
   ],
   "source": [
    "# Plot the distribution for fabric_blend_one\n",
    "\n",
    "cp = sorted_count_plot(materials, \"fabric_blend_one\", title=\"Distribution of materials by Fabric Blend One\", y_label=\"Fabric Blend One\", x_label=\"Count of materials\")\n",
    "cp.set_yticklabels(cp.get_ymajorticklabels(), fontsize = 13);"
   ]
  },
  {
   "cell_type": "markdown",
   "metadata": {},
   "source": [
    "This is an important field for content based recommendations, as per domain experts. Also has very few blank valyues which were dropped. We will include these in the content based recommendation model."
   ]
  },
  {
   "cell_type": "code",
   "execution_count": 78,
   "metadata": {},
   "outputs": [
    {
     "data": {
      "text/plain": [
       "<AxesSubplot:title={'center':'Distribution of materials by supplier_id'}, xlabel='Count', ylabel='supplier_id'>"
      ]
     },
     "execution_count": 78,
     "metadata": {},
     "output_type": "execute_result"
    },
    {
     "data": {
      "image/png": "[encoded data removed]",
      "text/plain": [
       "<Figure size 864x1008 with 1 Axes>"
      ]
     },
     "metadata": {
      "needs_background": "light"
     },
     "output_type": "display_data"
    }
   ],
   "source": [
    "# Plot the distribution for supplier_id\n",
    "\n",
    "sorted_count_plot(materials, \"supplier_id\")"
   ]
  },
  {
   "cell_type": "code",
   "execution_count": 79,
   "metadata": {},
   "outputs": [
    {
     "data": {
      "text/plain": [
       "40"
      ]
     },
     "execution_count": 79,
     "metadata": {},
     "output_type": "execute_result"
    }
   ],
   "source": [
    "materials['supplier_id'].value_counts().count()"
   ]
  },
  {
   "cell_type": "markdown",
   "metadata": {},
   "source": [
    "All the materials belong to 40 unique suppliers. This is an important field for content based recommendations, as per domain experts. Also has very no blank values. We will include these in the content based recommendation model."
   ]
  },
  {
   "cell_type": "code",
   "execution_count": 80,
   "metadata": {
    "scrolled": false
   },
   "outputs": [
    {
     "data": {
      "image/png": "[encoded data removed]",
      "text/plain": [
       "<Figure size 864x1008 with 1 Axes>"
      ]
     },
     "metadata": {
      "needs_background": "light"
     },
     "output_type": "display_data"
    }
   ],
   "source": [
    "# Plot the histogram for fabric_type\n",
    "cp = sorted_count_plot(materials, \"fabric_type\", title=\"Distribution of materials by Fabric Type\", y_label=\"Fabric Type\", x_label=\"Count of materials\")\n",
    "cp.set_yticklabels(cp.get_ymajorticklabels(), fontsize = 22);\n"
   ]
  },
  {
   "cell_type": "markdown",
   "metadata": {},
   "source": [
    "This is a broad classification but an important one, as per domain experts and will help to avoid incorrect recommendations due to end_use. We will include these in the content based recommendation model. No blank values."
   ]
  },
  {
   "cell_type": "code",
   "execution_count": 81,
   "metadata": {},
   "outputs": [
    {
     "data": {
      "image/png": "[encoded data removed]",
      "text/plain": [
       "<Figure size 864x1008 with 1 Axes>"
      ]
     },
     "metadata": {
      "needs_background": "light"
     },
     "output_type": "display_data"
    }
   ],
   "source": [
    "# Plot the histogram for minimal_order_quantity\n",
    "plt.figure(figsize=(12,14))\n",
    "hp = sns.histplot(data=materials, x='minimal_order_quantity')\n",
    "plt.xticks(rotation=45);\n"
   ]
  },
  {
   "cell_type": "markdown",
   "metadata": {},
   "source": [
    "Specifies minimal order quantity for orders. It's not the very relevant for recommendations and most materials have zero minimal order quantity, hence this field will not be useful for recommendations. "
   ]
  },
  {
   "cell_type": "code",
   "execution_count": 82,
   "metadata": {
    "scrolled": false
   },
   "outputs": [
    {
     "data": {
      "image/png": "[encoded data removed]",
      "text/plain": [
       "<Figure size 864x1008 with 1 Axes>"
      ]
     },
     "metadata": {
      "needs_background": "light"
     },
     "output_type": "display_data"
    }
   ],
   "source": [
    "# Plot the histogram for price\n",
    "import matplotlib.ticker as ticker\n",
    "\n",
    "plt.figure(figsize=(12,14))\n",
    "cp = sns.histplot(data=materials[materials['price']!= 0], x='price')"
   ]
  },
  {
   "cell_type": "code",
   "execution_count": 83,
   "metadata": {},
   "outputs": [
    {
     "data": {
      "text/html": [
       "<div>\n",
       "<style scoped>\n",
       "    .dataframe tbody tr th:only-of-type {\n",
       "        vertical-align: middle;\n",
       "    }\n",
       "\n",
       "    .dataframe tbody tr th {\n",
       "        vertical-align: top;\n",
       "    }\n",
       "\n",
       "    .dataframe thead th {\n",
       "        text-align: right;\n",
       "    }\n",
       "</style>\n",
       "<table border=\"1\" class=\"dataframe\">\n",
       "  <thead>\n",
       "    <tr style=\"text-align: right;\">\n",
       "      <th></th>\n",
       "      <th>id</th>\n",
       "      <th>created_at</th>\n",
       "      <th>updated_at</th>\n",
       "      <th>code</th>\n",
       "      <th>fabric_weave</th>\n",
       "      <th>currency</th>\n",
       "      <th>supplier_id</th>\n",
       "      <th>price</th>\n",
       "      <th>name</th>\n",
       "      <th>fabric_blend_one</th>\n",
       "      <th>...</th>\n",
       "      <th>swatch_price</th>\n",
       "      <th>swatch_quantity</th>\n",
       "      <th>properties</th>\n",
       "      <th>only_for_brands</th>\n",
       "      <th>end_use</th>\n",
       "      <th>supp_name</th>\n",
       "      <th>supp_fabric_type</th>\n",
       "      <th>supp_specialty</th>\n",
       "      <th>supp_end_uses</th>\n",
       "      <th>supp_fibers</th>\n",
       "    </tr>\n",
       "  </thead>\n",
       "  <tbody>\n",
       "    <tr>\n",
       "      <th>31</th>\n",
       "      <td>2464</td>\n",
       "      <td>2021-06-17 05:47:30.903000+00:00</td>\n",
       "      <td>2021-07-27 14:40:53.370000+00:00</td>\n",
       "      <td>Pirarucu LR Woo Drost Matte</td>\n",
       "      <td>blank_weave</td>\n",
       "      <td>EUR</td>\n",
       "      <td>54</td>\n",
       "      <td>252.0</td>\n",
       "      <td>XXXXXXXXXXRARUCU WILD LR Woo Drost Matte</td>\n",
       "      <td>Pirarucu (fish skin)</td>\n",
       "      <td>...</td>\n",
       "      <td>2</td>\n",
       "      <td>0.0</td>\n",
       "      <td>[]</td>\n",
       "      <td>[]</td>\n",
       "      <td>[Bags &amp; Wallets, Caps &amp; Hats, Shoes, Jacket, P...</td>\n",
       "      <td>XXXXXXXXXXu</td>\n",
       "      <td>Leather / Plant leaf</td>\n",
       "      <td>Sustainable Leather</td>\n",
       "      <td>Garments/ Accessories/ Upholst</td>\n",
       "      <td>blank_fibers</td>\n",
       "    </tr>\n",
       "    <tr>\n",
       "      <th>104</th>\n",
       "      <td>1364</td>\n",
       "      <td>2020-07-26 21:49:34.363000+00:00</td>\n",
       "      <td>2021-07-27 14:40:53.277000+00:00</td>\n",
       "      <td>ORGANIC PIRARUCU  WILD LL MATTE BISCUIT</td>\n",
       "      <td>blank_weave</td>\n",
       "      <td>EUR</td>\n",
       "      <td>54</td>\n",
       "      <td>252.0</td>\n",
       "      <td>XXXXXXXXXXRARUCU  WILD LL MATTE BISCUIT</td>\n",
       "      <td>Pirarucu (fish skin)</td>\n",
       "      <td>...</td>\n",
       "      <td>2</td>\n",
       "      <td>0.0</td>\n",
       "      <td>[]</td>\n",
       "      <td>[]</td>\n",
       "      <td>[Bags &amp; Wallets, Caps &amp; Hats, Shoes, Jacket, P...</td>\n",
       "      <td>XXXXXXXXXXu</td>\n",
       "      <td>Leather / Plant leaf</td>\n",
       "      <td>Sustainable Leather</td>\n",
       "      <td>Garments/ Accessories/ Upholst</td>\n",
       "      <td>blank_fibers</td>\n",
       "    </tr>\n",
       "    <tr>\n",
       "      <th>106</th>\n",
       "      <td>1366</td>\n",
       "      <td>2020-07-26 21:49:34.391000+00:00</td>\n",
       "      <td>2021-07-27 14:40:53.291000+00:00</td>\n",
       "      <td>ORGANIC PIRARUCU  WILD LL MATTE WHITE</td>\n",
       "      <td>blank_weave</td>\n",
       "      <td>EUR</td>\n",
       "      <td>54</td>\n",
       "      <td>252.0</td>\n",
       "      <td>XXXXXXXXXXRARUCU  WILD LL MATTE WHITE</td>\n",
       "      <td>Pirarucu (fish skin)</td>\n",
       "      <td>...</td>\n",
       "      <td>2</td>\n",
       "      <td>0.0</td>\n",
       "      <td>[]</td>\n",
       "      <td>[]</td>\n",
       "      <td>[Bags &amp; Wallets, Caps &amp; Hats, Shoes, Jacket, P...</td>\n",
       "      <td>XXXXXXXXXXu</td>\n",
       "      <td>Leather / Plant leaf</td>\n",
       "      <td>Sustainable Leather</td>\n",
       "      <td>Garments/ Accessories/ Upholst</td>\n",
       "      <td>blank_fibers</td>\n",
       "    </tr>\n",
       "    <tr>\n",
       "      <th>107</th>\n",
       "      <td>1353</td>\n",
       "      <td>2020-07-26 21:49:34.209000+00:00</td>\n",
       "      <td>2021-07-27 14:40:53.304000+00:00</td>\n",
       "      <td>ORGANIC PIRARUCU WILD LL SHINY CHESNUT</td>\n",
       "      <td>blank_weave</td>\n",
       "      <td>EUR</td>\n",
       "      <td>54</td>\n",
       "      <td>252.0</td>\n",
       "      <td>XXXXXXXXXXRARUCU WILD LL SHINY CHESNUT</td>\n",
       "      <td>Pirarucu (fish skin)</td>\n",
       "      <td>...</td>\n",
       "      <td>2</td>\n",
       "      <td>0.0</td>\n",
       "      <td>[]</td>\n",
       "      <td>[]</td>\n",
       "      <td>[Bags &amp; Wallets, Caps &amp; Hats, Shoes, Jacket, P...</td>\n",
       "      <td>XXXXXXXXXXu</td>\n",
       "      <td>Leather / Plant leaf</td>\n",
       "      <td>Sustainable Leather</td>\n",
       "      <td>Garments/ Accessories/ Upholst</td>\n",
       "      <td>blank_fibers</td>\n",
       "    </tr>\n",
       "    <tr>\n",
       "      <th>108</th>\n",
       "      <td>1352</td>\n",
       "      <td>2020-07-26 21:49:34.194000+00:00</td>\n",
       "      <td>2021-07-27 14:40:53.318000+00:00</td>\n",
       "      <td>ORGANIC PIRARUCU WILD LL SHINY HIGH RISK RED</td>\n",
       "      <td>blank_weave</td>\n",
       "      <td>EUR</td>\n",
       "      <td>54</td>\n",
       "      <td>252.0</td>\n",
       "      <td>XXXXXXXXXXRARUCU WILD LL SHINY HIGH RISK RED</td>\n",
       "      <td>Pirarucu (fish skin)</td>\n",
       "      <td>...</td>\n",
       "      <td>2</td>\n",
       "      <td>0.0</td>\n",
       "      <td>[]</td>\n",
       "      <td>[]</td>\n",
       "      <td>[Bags &amp; Wallets, Caps &amp; Hats, Shoes, Jacket, P...</td>\n",
       "      <td>XXXXXXXXXXu</td>\n",
       "      <td>Leather / Plant leaf</td>\n",
       "      <td>Sustainable Leather</td>\n",
       "      <td>Garments/ Accessories/ Upholst</td>\n",
       "      <td>blank_fibers</td>\n",
       "    </tr>\n",
       "    <tr>\n",
       "      <th>109</th>\n",
       "      <td>1359</td>\n",
       "      <td>2020-07-26 21:49:34.294000+00:00</td>\n",
       "      <td>2021-07-27 14:40:53.331000+00:00</td>\n",
       "      <td>ORGANIC PIRARUCU WILD LL SHINY SEPIA</td>\n",
       "      <td>blank_weave</td>\n",
       "      <td>EUR</td>\n",
       "      <td>54</td>\n",
       "      <td>252.0</td>\n",
       "      <td>XXXXXXXXXXRARUCU WILD LL SHINY SEPIA</td>\n",
       "      <td>Pirarucu (fish skin)</td>\n",
       "      <td>...</td>\n",
       "      <td>2</td>\n",
       "      <td>0.0</td>\n",
       "      <td>[]</td>\n",
       "      <td>[]</td>\n",
       "      <td>[Bags &amp; Wallets, Caps &amp; Hats, Shoes, Jacket, P...</td>\n",
       "      <td>XXXXXXXXXXu</td>\n",
       "      <td>Leather / Plant leaf</td>\n",
       "      <td>Sustainable Leather</td>\n",
       "      <td>Garments/ Accessories/ Upholst</td>\n",
       "      <td>blank_fibers</td>\n",
       "    </tr>\n",
       "    <tr>\n",
       "      <th>110</th>\n",
       "      <td>1379</td>\n",
       "      <td>2020-07-26 21:49:34.573000+00:00</td>\n",
       "      <td>2021-07-27 14:40:53.344000+00:00</td>\n",
       "      <td>ORGANIC PIRARUCU WILD LL ULTRA SHINY BLUE POWDER</td>\n",
       "      <td>blank_weave</td>\n",
       "      <td>EUR</td>\n",
       "      <td>54</td>\n",
       "      <td>252.0</td>\n",
       "      <td>XXXXXXXXXXRARUCU WILD LL ULTRA SHINY BLUE POWDER</td>\n",
       "      <td>Pirarucu (fish skin)</td>\n",
       "      <td>...</td>\n",
       "      <td>2</td>\n",
       "      <td>0.0</td>\n",
       "      <td>[]</td>\n",
       "      <td>[]</td>\n",
       "      <td>[Bags &amp; Wallets, Caps &amp; Hats, Shoes, Jacket, P...</td>\n",
       "      <td>XXXXXXXXXXu</td>\n",
       "      <td>Leather / Plant leaf</td>\n",
       "      <td>Sustainable Leather</td>\n",
       "      <td>Garments/ Accessories/ Upholst</td>\n",
       "      <td>blank_fibers</td>\n",
       "    </tr>\n",
       "    <tr>\n",
       "      <th>114</th>\n",
       "      <td>1380</td>\n",
       "      <td>2020-07-26 21:49:34.587000+00:00</td>\n",
       "      <td>2021-07-27 14:40:53.398000+00:00</td>\n",
       "      <td>ORGANIC PIRARUCU WILD LL FINISHING 2 BLACK</td>\n",
       "      <td>blank_weave</td>\n",
       "      <td>EUR</td>\n",
       "      <td>54</td>\n",
       "      <td>252.0</td>\n",
       "      <td>XXXXXXXXXXRARUCU WILD LL FINISHING 2 BLACK</td>\n",
       "      <td>Pirarucu (fish skin)</td>\n",
       "      <td>...</td>\n",
       "      <td>2</td>\n",
       "      <td>0.0</td>\n",
       "      <td>[]</td>\n",
       "      <td>[]</td>\n",
       "      <td>[Bags &amp; Wallets, Caps &amp; Hats, Shoes, Jacket, P...</td>\n",
       "      <td>XXXXXXXXXXu</td>\n",
       "      <td>Leather / Plant leaf</td>\n",
       "      <td>Sustainable Leather</td>\n",
       "      <td>Garments/ Accessories/ Upholst</td>\n",
       "      <td>blank_fibers</td>\n",
       "    </tr>\n",
       "    <tr>\n",
       "      <th>125</th>\n",
       "      <td>1367</td>\n",
       "      <td>2020-07-26 21:49:34.406000+00:00</td>\n",
       "      <td>2021-07-27 14:40:53.507000+00:00</td>\n",
       "      <td>ORGANIC PIRARUCU  WILD LL MATTE GARGOYLE</td>\n",
       "      <td>blank_weave</td>\n",
       "      <td>EUR</td>\n",
       "      <td>54</td>\n",
       "      <td>252.0</td>\n",
       "      <td>XXXXXXXXXXRARUCU  WILD LL MATTE GARGOYLE</td>\n",
       "      <td>Pirarucu (fish skin)</td>\n",
       "      <td>...</td>\n",
       "      <td>2</td>\n",
       "      <td>0.0</td>\n",
       "      <td>[]</td>\n",
       "      <td>[]</td>\n",
       "      <td>[Bags &amp; Wallets, Caps &amp; Hats, Shoes, Jacket, P...</td>\n",
       "      <td>XXXXXXXXXXu</td>\n",
       "      <td>Leather / Plant leaf</td>\n",
       "      <td>Sustainable Leather</td>\n",
       "      <td>Garments/ Accessories/ Upholst</td>\n",
       "      <td>blank_fibers</td>\n",
       "    </tr>\n",
       "    <tr>\n",
       "      <th>126</th>\n",
       "      <td>1354</td>\n",
       "      <td>2020-07-26 21:49:34.223000+00:00</td>\n",
       "      <td>2021-07-27 14:40:53.519000+00:00</td>\n",
       "      <td>ORGANIC PIRARUCU WILD LL SHINY SILVER</td>\n",
       "      <td>blank_weave</td>\n",
       "      <td>EUR</td>\n",
       "      <td>54</td>\n",
       "      <td>252.0</td>\n",
       "      <td>XXXXXXXXXXRARUCU WILD LL SHINY SILVER</td>\n",
       "      <td>Pirarucu (fish skin)</td>\n",
       "      <td>...</td>\n",
       "      <td>2</td>\n",
       "      <td>0.0</td>\n",
       "      <td>[]</td>\n",
       "      <td>[]</td>\n",
       "      <td>[Bags &amp; Wallets, Caps &amp; Hats, Shoes, Jacket, P...</td>\n",
       "      <td>XXXXXXXXXXu</td>\n",
       "      <td>Leather / Plant leaf</td>\n",
       "      <td>Sustainable Leather</td>\n",
       "      <td>Garments/ Accessories/ Upholst</td>\n",
       "      <td>blank_fibers</td>\n",
       "    </tr>\n",
       "    <tr>\n",
       "      <th>132</th>\n",
       "      <td>1355</td>\n",
       "      <td>2020-07-26 21:49:34.237000+00:00</td>\n",
       "      <td>2021-07-27 14:40:53.532000+00:00</td>\n",
       "      <td>ORGANIC PIRARUCU WILD LL SHINY XRAY FROSTED</td>\n",
       "      <td>blank_weave</td>\n",
       "      <td>EUR</td>\n",
       "      <td>54</td>\n",
       "      <td>252.0</td>\n",
       "      <td>XXXXXXXXXXRARUCU WILD LL SHINY XRAY FROSTED</td>\n",
       "      <td>Pirarucu (fish skin)</td>\n",
       "      <td>...</td>\n",
       "      <td>2</td>\n",
       "      <td>0.0</td>\n",
       "      <td>[]</td>\n",
       "      <td>[]</td>\n",
       "      <td>[Bags &amp; Wallets, Caps &amp; Hats, Shoes, Jacket, P...</td>\n",
       "      <td>XXXXXXXXXXu</td>\n",
       "      <td>Leather / Plant leaf</td>\n",
       "      <td>Sustainable Leather</td>\n",
       "      <td>Garments/ Accessories/ Upholst</td>\n",
       "      <td>blank_fibers</td>\n",
       "    </tr>\n",
       "    <tr>\n",
       "      <th>245</th>\n",
       "      <td>1362</td>\n",
       "      <td>2020-07-26 21:49:34.335000+00:00</td>\n",
       "      <td>2021-07-27 14:40:53.637000+00:00</td>\n",
       "      <td>ORGANIC PIRARUCU  WILD LL SHINY VERDE ARMANI B...</td>\n",
       "      <td>blank_weave</td>\n",
       "      <td>EUR</td>\n",
       "      <td>54</td>\n",
       "      <td>252.0</td>\n",
       "      <td>XXXXXXXXXXRARUCU  WILD LL SHINY VERDE ARMANI B...</td>\n",
       "      <td>Pirarucu (fish skin)</td>\n",
       "      <td>...</td>\n",
       "      <td>2</td>\n",
       "      <td>0.0</td>\n",
       "      <td>[]</td>\n",
       "      <td>[]</td>\n",
       "      <td>[Bags &amp; Wallets, Caps &amp; Hats, Shoes, Jacket, P...</td>\n",
       "      <td>XXXXXXXXXXu</td>\n",
       "      <td>Leather / Plant leaf</td>\n",
       "      <td>Sustainable Leather</td>\n",
       "      <td>Garments/ Accessories/ Upholst</td>\n",
       "      <td>blank_fibers</td>\n",
       "    </tr>\n",
       "    <tr>\n",
       "      <th>249</th>\n",
       "      <td>1378</td>\n",
       "      <td>2020-07-26 21:49:34.560000+00:00</td>\n",
       "      <td>2021-07-27 14:40:53.664000+00:00</td>\n",
       "      <td>ORGANIC PIRARUCU WILD LL SEMI-MATTE GREEN HOPS</td>\n",
       "      <td>blank_weave</td>\n",
       "      <td>EUR</td>\n",
       "      <td>54</td>\n",
       "      <td>252.0</td>\n",
       "      <td>XXXXXXXXXXRARUCU WILD LL SEMI-MATTE GREEN HOPS</td>\n",
       "      <td>Pirarucu (fish skin)</td>\n",
       "      <td>...</td>\n",
       "      <td>2</td>\n",
       "      <td>0.0</td>\n",
       "      <td>[]</td>\n",
       "      <td>[]</td>\n",
       "      <td>[Bags &amp; Wallets, Caps &amp; Hats, Shoes, Jacket, P...</td>\n",
       "      <td>XXXXXXXXXXu</td>\n",
       "      <td>Leather / Plant leaf</td>\n",
       "      <td>Sustainable Leather</td>\n",
       "      <td>Garments/ Accessories/ Upholst</td>\n",
       "      <td>blank_fibers</td>\n",
       "    </tr>\n",
       "    <tr>\n",
       "      <th>303</th>\n",
       "      <td>1369</td>\n",
       "      <td>2020-07-26 21:49:34.434000+00:00</td>\n",
       "      <td>2021-07-27 14:40:53.716000+00:00</td>\n",
       "      <td>ORGANIC PIRARUCU WILD LL SEMI-SHINY VERDE</td>\n",
       "      <td>blank_weave</td>\n",
       "      <td>EUR</td>\n",
       "      <td>54</td>\n",
       "      <td>252.0</td>\n",
       "      <td>XXXXXXXXXXRARUCU WILD LL SEMI-SHINY VERDE</td>\n",
       "      <td>Pirarucu (fish skin)</td>\n",
       "      <td>...</td>\n",
       "      <td>2</td>\n",
       "      <td>0.0</td>\n",
       "      <td>[]</td>\n",
       "      <td>[]</td>\n",
       "      <td>[Bags &amp; Wallets, Caps &amp; Hats, Shoes, Jacket, P...</td>\n",
       "      <td>XXXXXXXXXXu</td>\n",
       "      <td>Leather / Plant leaf</td>\n",
       "      <td>Sustainable Leather</td>\n",
       "      <td>Garments/ Accessories/ Upholst</td>\n",
       "      <td>blank_fibers</td>\n",
       "    </tr>\n",
       "    <tr>\n",
       "      <th>326</th>\n",
       "      <td>2457</td>\n",
       "      <td>2021-06-17 05:47:30.785000+00:00</td>\n",
       "      <td>2021-07-27 14:40:53.844000+00:00</td>\n",
       "      <td>Pirarucu LL BLACK MATTE</td>\n",
       "      <td>blank_weave</td>\n",
       "      <td>EUR</td>\n",
       "      <td>54</td>\n",
       "      <td>252.0</td>\n",
       "      <td>XXXXXXXXXXRARUCU WILD LL BLACK MATTE</td>\n",
       "      <td>Pirarucu (fish skin)</td>\n",
       "      <td>...</td>\n",
       "      <td>2</td>\n",
       "      <td>0.0</td>\n",
       "      <td>[]</td>\n",
       "      <td>[]</td>\n",
       "      <td>[Bags &amp; Wallets, Caps &amp; Hats, Shoes, Jacket, P...</td>\n",
       "      <td>XXXXXXXXXXu</td>\n",
       "      <td>Leather / Plant leaf</td>\n",
       "      <td>Sustainable Leather</td>\n",
       "      <td>Garments/ Accessories/ Upholst</td>\n",
       "      <td>blank_fibers</td>\n",
       "    </tr>\n",
       "    <tr>\n",
       "      <th>327</th>\n",
       "      <td>2458</td>\n",
       "      <td>2021-06-17 05:47:30.802000+00:00</td>\n",
       "      <td>2021-07-27 14:40:53.858000+00:00</td>\n",
       "      <td>ORGANIC PIRARUCU WILD LL JEANS CASTLE ROCK</td>\n",
       "      <td>blank_weave</td>\n",
       "      <td>EUR</td>\n",
       "      <td>54</td>\n",
       "      <td>252.0</td>\n",
       "      <td>XXXXXXXXXXRARUCU WILD LL JEANS CASTLE ROCK</td>\n",
       "      <td>Pirarucu (fish skin)</td>\n",
       "      <td>...</td>\n",
       "      <td>2</td>\n",
       "      <td>0.0</td>\n",
       "      <td>[]</td>\n",
       "      <td>[]</td>\n",
       "      <td>[Bags &amp; Wallets, Caps &amp; Hats, Shoes, Jacket, P...</td>\n",
       "      <td>XXXXXXXXXXu</td>\n",
       "      <td>Leather / Plant leaf</td>\n",
       "      <td>Sustainable Leather</td>\n",
       "      <td>Garments/ Accessories/ Upholst</td>\n",
       "      <td>blank_fibers</td>\n",
       "    </tr>\n",
       "    <tr>\n",
       "      <th>329</th>\n",
       "      <td>2460</td>\n",
       "      <td>2021-06-17 05:47:30.834000+00:00</td>\n",
       "      <td>2021-07-27 14:40:53.870000+00:00</td>\n",
       "      <td>Pirarucu LL ROSE/BLACK CRAQUELE</td>\n",
       "      <td>blank_weave</td>\n",
       "      <td>EUR</td>\n",
       "      <td>54</td>\n",
       "      <td>252.0</td>\n",
       "      <td>XXXXXXXXXXRARUCU WILD LL ROSE/BLACK CRAQUELE</td>\n",
       "      <td>Pirarucu (fish skin)</td>\n",
       "      <td>...</td>\n",
       "      <td>2</td>\n",
       "      <td>0.0</td>\n",
       "      <td>[]</td>\n",
       "      <td>[]</td>\n",
       "      <td>[Bags &amp; Wallets, Caps &amp; Hats, Shoes, Jacket, P...</td>\n",
       "      <td>XXXXXXXXXXu</td>\n",
       "      <td>Leather / Plant leaf</td>\n",
       "      <td>Sustainable Leather</td>\n",
       "      <td>Garments/ Accessories/ Upholst</td>\n",
       "      <td>blank_fibers</td>\n",
       "    </tr>\n",
       "    <tr>\n",
       "      <th>331</th>\n",
       "      <td>2461</td>\n",
       "      <td>2021-06-17 05:47:30.851000+00:00</td>\n",
       "      <td>2021-07-27 14:40:53.884000+00:00</td>\n",
       "      <td>ORGANIC PIRARUCU WILD LL SHINY BLACK</td>\n",
       "      <td>blank_weave</td>\n",
       "      <td>EUR</td>\n",
       "      <td>54</td>\n",
       "      <td>252.0</td>\n",
       "      <td>XXXXXXXXXXRARUCU WILD LL SHINY BLACK</td>\n",
       "      <td>Pirarucu (fish skin)</td>\n",
       "      <td>...</td>\n",
       "      <td>2</td>\n",
       "      <td>0.0</td>\n",
       "      <td>[]</td>\n",
       "      <td>[]</td>\n",
       "      <td>[Bags &amp; Wallets, Caps &amp; Hats, Shoes, Jacket, P...</td>\n",
       "      <td>XXXXXXXXXXu</td>\n",
       "      <td>Leather / Plant leaf</td>\n",
       "      <td>Sustainable Leather</td>\n",
       "      <td>Garments/ Accessories/ Upholst</td>\n",
       "      <td>blank_fibers</td>\n",
       "    </tr>\n",
       "    <tr>\n",
       "      <th>332</th>\n",
       "      <td>1358</td>\n",
       "      <td>2020-07-26 21:49:34.280000+00:00</td>\n",
       "      <td>2021-07-27 14:40:53.896000+00:00</td>\n",
       "      <td>ORGANIC PIRARUCU WILD LL SHINY PEARL</td>\n",
       "      <td>blank_weave</td>\n",
       "      <td>EUR</td>\n",
       "      <td>54</td>\n",
       "      <td>252.0</td>\n",
       "      <td>XXXXXXXXXXRARUCU WILD LL SHINY PEARL</td>\n",
       "      <td>Pirarucu (fish skin)</td>\n",
       "      <td>...</td>\n",
       "      <td>2</td>\n",
       "      <td>0.0</td>\n",
       "      <td>[]</td>\n",
       "      <td>[]</td>\n",
       "      <td>[Bags &amp; Wallets, Caps &amp; Hats, Shoes, Jacket, P...</td>\n",
       "      <td>XXXXXXXXXXu</td>\n",
       "      <td>Leather / Plant leaf</td>\n",
       "      <td>Sustainable Leather</td>\n",
       "      <td>Garments/ Accessories/ Upholst</td>\n",
       "      <td>blank_fibers</td>\n",
       "    </tr>\n",
       "    <tr>\n",
       "      <th>334</th>\n",
       "      <td>2462</td>\n",
       "      <td>2021-06-17 05:47:30.868000+00:00</td>\n",
       "      <td>2021-07-27 14:40:53.909000+00:00</td>\n",
       "      <td>ORGANIC PIRARUCU WILD LR MATTE WHITE</td>\n",
       "      <td>blank_weave</td>\n",
       "      <td>EUR</td>\n",
       "      <td>54</td>\n",
       "      <td>252.0</td>\n",
       "      <td>XXXXXXXXXXRARUCU WILD LR MATTE WHITE</td>\n",
       "      <td>Pirarucu (fish skin)</td>\n",
       "      <td>...</td>\n",
       "      <td>2</td>\n",
       "      <td>0.0</td>\n",
       "      <td>[]</td>\n",
       "      <td>[]</td>\n",
       "      <td>[Bags &amp; Wallets, Caps &amp; Hats, Shoes, Jacket, P...</td>\n",
       "      <td>XXXXXXXXXXu</td>\n",
       "      <td>Leather / Plant leaf</td>\n",
       "      <td>Sustainable Leather</td>\n",
       "      <td>Garments/ Accessories/ Upholst</td>\n",
       "      <td>blank_fibers</td>\n",
       "    </tr>\n",
       "    <tr>\n",
       "      <th>341</th>\n",
       "      <td>2463</td>\n",
       "      <td>2021-06-17 05:47:30.885000+00:00</td>\n",
       "      <td>2021-07-27 14:40:53.949000+00:00</td>\n",
       "      <td>Pirarucu LR Beige Matte</td>\n",
       "      <td>blank_weave</td>\n",
       "      <td>EUR</td>\n",
       "      <td>54</td>\n",
       "      <td>252.0</td>\n",
       "      <td>XXXXXXXXXXRARUCU WILD LR BEIGE MATTE</td>\n",
       "      <td>Pirarucu (fish skin)</td>\n",
       "      <td>...</td>\n",
       "      <td>2</td>\n",
       "      <td>0.0</td>\n",
       "      <td>[]</td>\n",
       "      <td>[]</td>\n",
       "      <td>[Bags &amp; Wallets, Caps &amp; Hats, Shoes, Jacket, P...</td>\n",
       "      <td>XXXXXXXXXXu</td>\n",
       "      <td>Leather / Plant leaf</td>\n",
       "      <td>Sustainable Leather</td>\n",
       "      <td>Garments/ Accessories/ Upholst</td>\n",
       "      <td>blank_fibers</td>\n",
       "    </tr>\n",
       "    <tr>\n",
       "      <th>343</th>\n",
       "      <td>1377</td>\n",
       "      <td>2020-07-26 21:49:34.546000+00:00</td>\n",
       "      <td>2021-07-27 14:40:53.962000+00:00</td>\n",
       "      <td>ORGANIC PIRARUCU WILD LL SEMI-MATTE DARK CHOCO...</td>\n",
       "      <td>blank_weave</td>\n",
       "      <td>EUR</td>\n",
       "      <td>54</td>\n",
       "      <td>252.0</td>\n",
       "      <td>XXXXXXXXXXRARUCU WILD LL SEMI-MATTE DARK CHOCO...</td>\n",
       "      <td>Pirarucu (fish skin)</td>\n",
       "      <td>...</td>\n",
       "      <td>2</td>\n",
       "      <td>0.0</td>\n",
       "      <td>[]</td>\n",
       "      <td>[]</td>\n",
       "      <td>[Bags &amp; Wallets, Caps &amp; Hats, Shoes, Jacket, P...</td>\n",
       "      <td>XXXXXXXXXXu</td>\n",
       "      <td>Leather / Plant leaf</td>\n",
       "      <td>Sustainable Leather</td>\n",
       "      <td>Garments/ Accessories/ Upholst</td>\n",
       "      <td>blank_fibers</td>\n",
       "    </tr>\n",
       "    <tr>\n",
       "      <th>389</th>\n",
       "      <td>1357</td>\n",
       "      <td>2020-07-26 21:49:34.265000+00:00</td>\n",
       "      <td>2021-07-27 14:40:54.160000+00:00</td>\n",
       "      <td>ORGANIC PIRARUCU WILD LL SHINY PEWTER</td>\n",
       "      <td>blank_weave</td>\n",
       "      <td>EUR</td>\n",
       "      <td>54</td>\n",
       "      <td>252.0</td>\n",
       "      <td>XXXXXXXXXXRARUCU WILD LL SHINY PEWTER</td>\n",
       "      <td>Pirarucu (fish skin)</td>\n",
       "      <td>...</td>\n",
       "      <td>2</td>\n",
       "      <td>0.0</td>\n",
       "      <td>[]</td>\n",
       "      <td>[]</td>\n",
       "      <td>[Bags &amp; Wallets, Caps &amp; Hats, Shoes, Jacket, P...</td>\n",
       "      <td>XXXXXXXXXXu</td>\n",
       "      <td>Leather / Plant leaf</td>\n",
       "      <td>Sustainable Leather</td>\n",
       "      <td>Garments/ Accessories/ Upholst</td>\n",
       "      <td>blank_fibers</td>\n",
       "    </tr>\n",
       "    <tr>\n",
       "      <th>390</th>\n",
       "      <td>2459</td>\n",
       "      <td>2021-06-17 05:47:30.818000+00:00</td>\n",
       "      <td>2021-07-27 14:40:54.173000+00:00</td>\n",
       "      <td>Pirarucu LL Port Royale Matte</td>\n",
       "      <td>blank_weave</td>\n",
       "      <td>EUR</td>\n",
       "      <td>54</td>\n",
       "      <td>252.0</td>\n",
       "      <td>XXXXXXXXXXRARUCU WILD LL Port Royale Matte</td>\n",
       "      <td>Pirarucu (fish skin)</td>\n",
       "      <td>...</td>\n",
       "      <td>2</td>\n",
       "      <td>0.0</td>\n",
       "      <td>[]</td>\n",
       "      <td>[]</td>\n",
       "      <td>[Bags &amp; Wallets, Caps &amp; Hats, Shoes, Jacket, P...</td>\n",
       "      <td>XXXXXXXXXXu</td>\n",
       "      <td>Leather / Plant leaf</td>\n",
       "      <td>Sustainable Leather</td>\n",
       "      <td>Garments/ Accessories/ Upholst</td>\n",
       "      <td>blank_fibers</td>\n",
       "    </tr>\n",
       "    <tr>\n",
       "      <th>401</th>\n",
       "      <td>1349</td>\n",
       "      <td>2020-07-26 21:49:34.144000+00:00</td>\n",
       "      <td>2021-07-27 14:40:54.187000+00:00</td>\n",
       "      <td>ORGANIC PIRARUCU WILD LR SHINY BLACK</td>\n",
       "      <td>blank_weave</td>\n",
       "      <td>EUR</td>\n",
       "      <td>54</td>\n",
       "      <td>252.0</td>\n",
       "      <td>XXXXXXXXXXRARUCU WILD LR SHINY BLACK</td>\n",
       "      <td>Pirarucu (fish skin)</td>\n",
       "      <td>...</td>\n",
       "      <td>2</td>\n",
       "      <td>0.0</td>\n",
       "      <td>[]</td>\n",
       "      <td>[]</td>\n",
       "      <td>[Bags &amp; Wallets, Caps &amp; Hats, Shoes, Jacket, P...</td>\n",
       "      <td>XXXXXXXXXXu</td>\n",
       "      <td>Leather / Plant leaf</td>\n",
       "      <td>Sustainable Leather</td>\n",
       "      <td>Garments/ Accessories/ Upholst</td>\n",
       "      <td>blank_fibers</td>\n",
       "    </tr>\n",
       "    <tr>\n",
       "      <th>516</th>\n",
       "      <td>1356</td>\n",
       "      <td>2020-07-26 21:49:34.251000+00:00</td>\n",
       "      <td>2021-07-27 14:40:54.262000+00:00</td>\n",
       "      <td>ORGANIC PIRARUCU WILD LL SHINY GREEN BLACK FUR...</td>\n",
       "      <td>blank_weave</td>\n",
       "      <td>EUR</td>\n",
       "      <td>54</td>\n",
       "      <td>252.0</td>\n",
       "      <td>XXXXXXXXXXRARUCU WILD LL SHINY GREEN BLACK FUR...</td>\n",
       "      <td>Pirarucu (fish skin)</td>\n",
       "      <td>...</td>\n",
       "      <td>2</td>\n",
       "      <td>0.0</td>\n",
       "      <td>[]</td>\n",
       "      <td>[]</td>\n",
       "      <td>[Bags &amp; Wallets, Caps &amp; Hats, Shoes, Jacket, P...</td>\n",
       "      <td>XXXXXXXXXXu</td>\n",
       "      <td>Leather / Plant leaf</td>\n",
       "      <td>Sustainable Leather</td>\n",
       "      <td>Garments/ Accessories/ Upholst</td>\n",
       "      <td>blank_fibers</td>\n",
       "    </tr>\n",
       "    <tr>\n",
       "      <th>527</th>\n",
       "      <td>1368</td>\n",
       "      <td>2020-07-26 21:49:34.420000+00:00</td>\n",
       "      <td>2021-07-27 14:40:54.275000+00:00</td>\n",
       "      <td>ORGANIC PIRARUCU  WILD LL MATTE GREEN TURTLE</td>\n",
       "      <td>blank_weave</td>\n",
       "      <td>EUR</td>\n",
       "      <td>54</td>\n",
       "      <td>252.0</td>\n",
       "      <td>XXXXXXXXXXRARUCU  WILD LL MATTE GREEN TURTLE</td>\n",
       "      <td>Pirarucu (fish skin)</td>\n",
       "      <td>...</td>\n",
       "      <td>2</td>\n",
       "      <td>0.0</td>\n",
       "      <td>[]</td>\n",
       "      <td>[]</td>\n",
       "      <td>[Bags &amp; Wallets, Caps &amp; Hats, Shoes, Jacket, P...</td>\n",
       "      <td>XXXXXXXXXXu</td>\n",
       "      <td>Leather / Plant leaf</td>\n",
       "      <td>Sustainable Leather</td>\n",
       "      <td>Garments/ Accessories/ Upholst</td>\n",
       "      <td>blank_fibers</td>\n",
       "    </tr>\n",
       "    <tr>\n",
       "      <th>529</th>\n",
       "      <td>1351</td>\n",
       "      <td>2020-07-26 21:49:34.180000+00:00</td>\n",
       "      <td>2021-07-27 14:40:54.300000+00:00</td>\n",
       "      <td>ORGANIC PIRARUCU WILD LL SHINY ALLUMINIUM</td>\n",
       "      <td>blank_weave</td>\n",
       "      <td>EUR</td>\n",
       "      <td>54</td>\n",
       "      <td>252.0</td>\n",
       "      <td>XXXXXXXXXXRARUCU WILD LL SHINY ALLUMINIUM</td>\n",
       "      <td>Pirarucu (fish skin)</td>\n",
       "      <td>...</td>\n",
       "      <td>2</td>\n",
       "      <td>0.0</td>\n",
       "      <td>[]</td>\n",
       "      <td>[]</td>\n",
       "      <td>[Bags &amp; Wallets, Caps &amp; Hats, Shoes, Jacket, P...</td>\n",
       "      <td>XXXXXXXXXXu</td>\n",
       "      <td>Leather / Plant leaf</td>\n",
       "      <td>Sustainable Leather</td>\n",
       "      <td>Garments/ Accessories/ Upholst</td>\n",
       "      <td>blank_fibers</td>\n",
       "    </tr>\n",
       "    <tr>\n",
       "      <th>530</th>\n",
       "      <td>1361</td>\n",
       "      <td>2020-07-26 21:49:34.322000+00:00</td>\n",
       "      <td>2021-07-27 14:40:54.287000+00:00</td>\n",
       "      <td>ORGANIC PIRARUCU  WILD LL SHINY WENGE BRONZE</td>\n",
       "      <td>blank_weave</td>\n",
       "      <td>EUR</td>\n",
       "      <td>54</td>\n",
       "      <td>252.0</td>\n",
       "      <td>XXXXXXXXXXRARUCU  WILD LL SHINY WENGE BRONZE</td>\n",
       "      <td>Pirarucu (fish skin)</td>\n",
       "      <td>...</td>\n",
       "      <td>2</td>\n",
       "      <td>0.0</td>\n",
       "      <td>[]</td>\n",
       "      <td>[]</td>\n",
       "      <td>[Bags &amp; Wallets, Caps &amp; Hats, Shoes, Jacket, P...</td>\n",
       "      <td>XXXXXXXXXXu</td>\n",
       "      <td>Leather / Plant leaf</td>\n",
       "      <td>Sustainable Leather</td>\n",
       "      <td>Garments/ Accessories/ Upholst</td>\n",
       "      <td>blank_fibers</td>\n",
       "    </tr>\n",
       "    <tr>\n",
       "      <th>1303</th>\n",
       "      <td>1365</td>\n",
       "      <td>2020-07-26 21:49:34.377000+00:00</td>\n",
       "      <td>2021-07-27 14:40:54.325000+00:00</td>\n",
       "      <td>ORGANIC PIRARUCU  WILD LL MATTE CHESNUT</td>\n",
       "      <td>blank_weave</td>\n",
       "      <td>EUR</td>\n",
       "      <td>54</td>\n",
       "      <td>252.0</td>\n",
       "      <td>XXXXXXXXXXRARUCU  WILD LL MATTE CHESNUT</td>\n",
       "      <td>Pirarucu (fish skin)</td>\n",
       "      <td>...</td>\n",
       "      <td>2</td>\n",
       "      <td>0.0</td>\n",
       "      <td>[]</td>\n",
       "      <td>[]</td>\n",
       "      <td>[Bags &amp; Wallets, Caps &amp; Hats, Shoes, Jacket, P...</td>\n",
       "      <td>XXXXXXXXXXu</td>\n",
       "      <td>Leather / Plant leaf</td>\n",
       "      <td>Sustainable Leather</td>\n",
       "      <td>Garments/ Accessories/ Upholst</td>\n",
       "      <td>blank_fibers</td>\n",
       "    </tr>\n",
       "    <tr>\n",
       "      <th>1305</th>\n",
       "      <td>1370</td>\n",
       "      <td>2020-07-26 21:49:34.448000+00:00</td>\n",
       "      <td>2021-07-27 14:40:54.338000+00:00</td>\n",
       "      <td>ORGANIC PIRARUCU WILD LL SEMI-SHINY OFF WHITE</td>\n",
       "      <td>blank_weave</td>\n",
       "      <td>EUR</td>\n",
       "      <td>54</td>\n",
       "      <td>252.0</td>\n",
       "      <td>XXXXXXXXXXRARUCU WILD LL SEMI-SHINY OFF WHITE</td>\n",
       "      <td>Pirarucu (fish skin)</td>\n",
       "      <td>...</td>\n",
       "      <td>2</td>\n",
       "      <td>0.0</td>\n",
       "      <td>[]</td>\n",
       "      <td>[]</td>\n",
       "      <td>[Bags &amp; Wallets, Caps &amp; Hats, Shoes, Jacket, P...</td>\n",
       "      <td>XXXXXXXXXXu</td>\n",
       "      <td>Leather / Plant leaf</td>\n",
       "      <td>Sustainable Leather</td>\n",
       "      <td>Garments/ Accessories/ Upholst</td>\n",
       "      <td>blank_fibers</td>\n",
       "    </tr>\n",
       "    <tr>\n",
       "      <th>1318</th>\n",
       "      <td>1375</td>\n",
       "      <td>2020-07-26 21:49:34.518000+00:00</td>\n",
       "      <td>2021-07-27 14:40:54.352000+00:00</td>\n",
       "      <td>ORGANIC PIRARUCU WILD LL SEMI-MATTE VERDE ARMANI</td>\n",
       "      <td>blank_weave</td>\n",
       "      <td>EUR</td>\n",
       "      <td>54</td>\n",
       "      <td>252.0</td>\n",
       "      <td>XXXXXXXXXXRARUCU WILD LL SEMI-MATTE VERDE ARMANI</td>\n",
       "      <td>Pirarucu (fish skin)</td>\n",
       "      <td>...</td>\n",
       "      <td>2</td>\n",
       "      <td>0.0</td>\n",
       "      <td>[]</td>\n",
       "      <td>[]</td>\n",
       "      <td>[Bags &amp; Wallets, Caps &amp; Hats, Shoes, Jacket, P...</td>\n",
       "      <td>XXXXXXXXXXu</td>\n",
       "      <td>Leather / Plant leaf</td>\n",
       "      <td>Sustainable Leather</td>\n",
       "      <td>Garments/ Accessories/ Upholst</td>\n",
       "      <td>blank_fibers</td>\n",
       "    </tr>\n",
       "    <tr>\n",
       "      <th>1441</th>\n",
       "      <td>1374</td>\n",
       "      <td>2020-07-26 21:49:34.504000+00:00</td>\n",
       "      <td>2021-07-27 14:40:54.404000+00:00</td>\n",
       "      <td>ORGANIC PIRARUCU WILD LL SEMI-MATTE BLACK</td>\n",
       "      <td>blank_weave</td>\n",
       "      <td>EUR</td>\n",
       "      <td>54</td>\n",
       "      <td>252.0</td>\n",
       "      <td>XXXXXXXXXXRARUCU WILD LL SEMI-MATTE BLACK</td>\n",
       "      <td>Pirarucu (fish skin)</td>\n",
       "      <td>...</td>\n",
       "      <td>2</td>\n",
       "      <td>0.0</td>\n",
       "      <td>[]</td>\n",
       "      <td>[]</td>\n",
       "      <td>[Bags &amp; Wallets, Caps &amp; Hats, Shoes, Jacket, P...</td>\n",
       "      <td>XXXXXXXXXXu</td>\n",
       "      <td>Leather / Plant leaf</td>\n",
       "      <td>Sustainable Leather</td>\n",
       "      <td>Garments/ Accessories/ Upholst</td>\n",
       "      <td>blank_fibers</td>\n",
       "    </tr>\n",
       "    <tr>\n",
       "      <th>1532</th>\n",
       "      <td>1371</td>\n",
       "      <td>2020-07-26 21:49:34.462000+00:00</td>\n",
       "      <td>2021-07-27 14:40:54.443000+00:00</td>\n",
       "      <td>ORGANIC PIRARUCU WILD LL SEMI-SHINY GRIGIO</td>\n",
       "      <td>blank_weave</td>\n",
       "      <td>EUR</td>\n",
       "      <td>54</td>\n",
       "      <td>252.0</td>\n",
       "      <td>XXXXXXXXXXRARUCU WILD LL SEMI-SHINY GRIGIO</td>\n",
       "      <td>Pirarucu (fish skin)</td>\n",
       "      <td>...</td>\n",
       "      <td>2</td>\n",
       "      <td>0.0</td>\n",
       "      <td>[]</td>\n",
       "      <td>[]</td>\n",
       "      <td>[Bags &amp; Wallets, Caps &amp; Hats, Shoes, Jacket, P...</td>\n",
       "      <td>XXXXXXXXXXu</td>\n",
       "      <td>Leather / Plant leaf</td>\n",
       "      <td>Sustainable Leather</td>\n",
       "      <td>Garments/ Accessories/ Upholst</td>\n",
       "      <td>blank_fibers</td>\n",
       "    </tr>\n",
       "    <tr>\n",
       "      <th>1533</th>\n",
       "      <td>1360</td>\n",
       "      <td>2020-07-26 21:49:34.308000+00:00</td>\n",
       "      <td>2021-07-27 14:40:54.455000+00:00</td>\n",
       "      <td>ORGANIC PIRARUCU  WILD LL SHINY VIOLET BLACK F...</td>\n",
       "      <td>blank_weave</td>\n",
       "      <td>EUR</td>\n",
       "      <td>54</td>\n",
       "      <td>252.0</td>\n",
       "      <td>XXXXXXXXXXRARUCU  WILD LL SHINY VIOLET BLACK F...</td>\n",
       "      <td>Pirarucu (fish skin)</td>\n",
       "      <td>...</td>\n",
       "      <td>2</td>\n",
       "      <td>0.0</td>\n",
       "      <td>[]</td>\n",
       "      <td>[]</td>\n",
       "      <td>[Bags &amp; Wallets, Caps &amp; Hats, Shoes, Jacket, P...</td>\n",
       "      <td>XXXXXXXXXXu</td>\n",
       "      <td>Leather / Plant leaf</td>\n",
       "      <td>Sustainable Leather</td>\n",
       "      <td>Garments/ Accessories/ Upholst</td>\n",
       "      <td>blank_fibers</td>\n",
       "    </tr>\n",
       "    <tr>\n",
       "      <th>1535</th>\n",
       "      <td>1376</td>\n",
       "      <td>2020-07-26 21:49:34.532000+00:00</td>\n",
       "      <td>2021-07-27 14:40:54.480000+00:00</td>\n",
       "      <td>ORGANIC PIRARUCU WILD LL SEMI-MATTE ROCCIA</td>\n",
       "      <td>blank_weave</td>\n",
       "      <td>EUR</td>\n",
       "      <td>54</td>\n",
       "      <td>252.0</td>\n",
       "      <td>XXXXXXXXXXRARUCU WILD LL SEMI-MATTE ROCCIA</td>\n",
       "      <td>Pirarucu (fish skin)</td>\n",
       "      <td>...</td>\n",
       "      <td>2</td>\n",
       "      <td>0.0</td>\n",
       "      <td>[]</td>\n",
       "      <td>[]</td>\n",
       "      <td>[Bags &amp; Wallets, Caps &amp; Hats, Shoes, Jacket, P...</td>\n",
       "      <td>XXXXXXXXXXu</td>\n",
       "      <td>Leather / Plant leaf</td>\n",
       "      <td>Sustainable Leather</td>\n",
       "      <td>Garments/ Accessories/ Upholst</td>\n",
       "      <td>blank_fibers</td>\n",
       "    </tr>\n",
       "  </tbody>\n",
       "</table>\n",
       "<p>36 rows × 43 columns</p>\n",
       "</div>"
      ],
      "text/plain": [
       "        id                       created_at                       updated_at  \\\n",
       "31    2464 2021-06-17 05:47:30.903000+00:00 2021-07-27 14:40:53.370000+00:00   \n",
       "104   1364 2020-07-26 21:49:34.363000+00:00 2021-07-27 14:40:53.277000+00:00   \n",
       "106   1366 2020-07-26 21:49:34.391000+00:00 2021-07-27 14:40:53.291000+00:00   \n",
       "107   1353 2020-07-26 21:49:34.209000+00:00 2021-07-27 14:40:53.304000+00:00   \n",
       "108   1352 2020-07-26 21:49:34.194000+00:00 2021-07-27 14:40:53.318000+00:00   \n",
       "109   1359 2020-07-26 21:49:34.294000+00:00 2021-07-27 14:40:53.331000+00:00   \n",
       "110   1379 2020-07-26 21:49:34.573000+00:00 2021-07-27 14:40:53.344000+00:00   \n",
       "114   1380 2020-07-26 21:49:34.587000+00:00 2021-07-27 14:40:53.398000+00:00   \n",
       "125   1367 2020-07-26 21:49:34.406000+00:00 2021-07-27 14:40:53.507000+00:00   \n",
       "126   1354 2020-07-26 21:49:34.223000+00:00 2021-07-27 14:40:53.519000+00:00   \n",
       "132   1355 2020-07-26 21:49:34.237000+00:00 2021-07-27 14:40:53.532000+00:00   \n",
       "245   1362 2020-07-26 21:49:34.335000+00:00 2021-07-27 14:40:53.637000+00:00   \n",
       "249   1378 2020-07-26 21:49:34.560000+00:00 2021-07-27 14:40:53.664000+00:00   \n",
       "303   1369 2020-07-26 21:49:34.434000+00:00 2021-07-27 14:40:53.716000+00:00   \n",
       "326   2457 2021-06-17 05:47:30.785000+00:00 2021-07-27 14:40:53.844000+00:00   \n",
       "327   2458 2021-06-17 05:47:30.802000+00:00 2021-07-27 14:40:53.858000+00:00   \n",
       "329   2460 2021-06-17 05:47:30.834000+00:00 2021-07-27 14:40:53.870000+00:00   \n",
       "331   2461 2021-06-17 05:47:30.851000+00:00 2021-07-27 14:40:53.884000+00:00   \n",
       "332   1358 2020-07-26 21:49:34.280000+00:00 2021-07-27 14:40:53.896000+00:00   \n",
       "334   2462 2021-06-17 05:47:30.868000+00:00 2021-07-27 14:40:53.909000+00:00   \n",
       "341   2463 2021-06-17 05:47:30.885000+00:00 2021-07-27 14:40:53.949000+00:00   \n",
       "343   1377 2020-07-26 21:49:34.546000+00:00 2021-07-27 14:40:53.962000+00:00   \n",
       "389   1357 2020-07-26 21:49:34.265000+00:00 2021-07-27 14:40:54.160000+00:00   \n",
       "390   2459 2021-06-17 05:47:30.818000+00:00 2021-07-27 14:40:54.173000+00:00   \n",
       "401   1349 2020-07-26 21:49:34.144000+00:00 2021-07-27 14:40:54.187000+00:00   \n",
       "516   1356 2020-07-26 21:49:34.251000+00:00 2021-07-27 14:40:54.262000+00:00   \n",
       "527   1368 2020-07-26 21:49:34.420000+00:00 2021-07-27 14:40:54.275000+00:00   \n",
       "529   1351 2020-07-26 21:49:34.180000+00:00 2021-07-27 14:40:54.300000+00:00   \n",
       "530   1361 2020-07-26 21:49:34.322000+00:00 2021-07-27 14:40:54.287000+00:00   \n",
       "1303  1365 2020-07-26 21:49:34.377000+00:00 2021-07-27 14:40:54.325000+00:00   \n",
       "1305  1370 2020-07-26 21:49:34.448000+00:00 2021-07-27 14:40:54.338000+00:00   \n",
       "1318  1375 2020-07-26 21:49:34.518000+00:00 2021-07-27 14:40:54.352000+00:00   \n",
       "1441  1374 2020-07-26 21:49:34.504000+00:00 2021-07-27 14:40:54.404000+00:00   \n",
       "1532  1371 2020-07-26 21:49:34.462000+00:00 2021-07-27 14:40:54.443000+00:00   \n",
       "1533  1360 2020-07-26 21:49:34.308000+00:00 2021-07-27 14:40:54.455000+00:00   \n",
       "1535  1376 2020-07-26 21:49:34.532000+00:00 2021-07-27 14:40:54.480000+00:00   \n",
       "\n",
       "                                                   code fabric_weave currency  \\\n",
       "31                          Pirarucu LR Woo Drost Matte  blank_weave      EUR   \n",
       "104             ORGANIC PIRARUCU  WILD LL MATTE BISCUIT  blank_weave      EUR   \n",
       "106               ORGANIC PIRARUCU  WILD LL MATTE WHITE  blank_weave      EUR   \n",
       "107              ORGANIC PIRARUCU WILD LL SHINY CHESNUT  blank_weave      EUR   \n",
       "108        ORGANIC PIRARUCU WILD LL SHINY HIGH RISK RED  blank_weave      EUR   \n",
       "109                ORGANIC PIRARUCU WILD LL SHINY SEPIA  blank_weave      EUR   \n",
       "110    ORGANIC PIRARUCU WILD LL ULTRA SHINY BLUE POWDER  blank_weave      EUR   \n",
       "114          ORGANIC PIRARUCU WILD LL FINISHING 2 BLACK  blank_weave      EUR   \n",
       "125            ORGANIC PIRARUCU  WILD LL MATTE GARGOYLE  blank_weave      EUR   \n",
       "126               ORGANIC PIRARUCU WILD LL SHINY SILVER  blank_weave      EUR   \n",
       "132         ORGANIC PIRARUCU WILD LL SHINY XRAY FROSTED  blank_weave      EUR   \n",
       "245   ORGANIC PIRARUCU  WILD LL SHINY VERDE ARMANI B...  blank_weave      EUR   \n",
       "249      ORGANIC PIRARUCU WILD LL SEMI-MATTE GREEN HOPS  blank_weave      EUR   \n",
       "303           ORGANIC PIRARUCU WILD LL SEMI-SHINY VERDE  blank_weave      EUR   \n",
       "326                             Pirarucu LL BLACK MATTE  blank_weave      EUR   \n",
       "327          ORGANIC PIRARUCU WILD LL JEANS CASTLE ROCK  blank_weave      EUR   \n",
       "329                     Pirarucu LL ROSE/BLACK CRAQUELE  blank_weave      EUR   \n",
       "331                ORGANIC PIRARUCU WILD LL SHINY BLACK  blank_weave      EUR   \n",
       "332                ORGANIC PIRARUCU WILD LL SHINY PEARL  blank_weave      EUR   \n",
       "334                ORGANIC PIRARUCU WILD LR MATTE WHITE  blank_weave      EUR   \n",
       "341                             Pirarucu LR Beige Matte  blank_weave      EUR   \n",
       "343   ORGANIC PIRARUCU WILD LL SEMI-MATTE DARK CHOCO...  blank_weave      EUR   \n",
       "389               ORGANIC PIRARUCU WILD LL SHINY PEWTER  blank_weave      EUR   \n",
       "390                       Pirarucu LL Port Royale Matte  blank_weave      EUR   \n",
       "401                ORGANIC PIRARUCU WILD LR SHINY BLACK  blank_weave      EUR   \n",
       "516   ORGANIC PIRARUCU WILD LL SHINY GREEN BLACK FUR...  blank_weave      EUR   \n",
       "527        ORGANIC PIRARUCU  WILD LL MATTE GREEN TURTLE  blank_weave      EUR   \n",
       "529           ORGANIC PIRARUCU WILD LL SHINY ALLUMINIUM  blank_weave      EUR   \n",
       "530        ORGANIC PIRARUCU  WILD LL SHINY WENGE BRONZE  blank_weave      EUR   \n",
       "1303            ORGANIC PIRARUCU  WILD LL MATTE CHESNUT  blank_weave      EUR   \n",
       "1305      ORGANIC PIRARUCU WILD LL SEMI-SHINY OFF WHITE  blank_weave      EUR   \n",
       "1318   ORGANIC PIRARUCU WILD LL SEMI-MATTE VERDE ARMANI  blank_weave      EUR   \n",
       "1441          ORGANIC PIRARUCU WILD LL SEMI-MATTE BLACK  blank_weave      EUR   \n",
       "1532         ORGANIC PIRARUCU WILD LL SEMI-SHINY GRIGIO  blank_weave      EUR   \n",
       "1533  ORGANIC PIRARUCU  WILD LL SHINY VIOLET BLACK F...  blank_weave      EUR   \n",
       "1535         ORGANIC PIRARUCU WILD LL SEMI-MATTE ROCCIA  blank_weave      EUR   \n",
       "\n",
       "      supplier_id  price                                               name  \\\n",
       "31             54  252.0           XXXXXXXXXXRARUCU WILD LR Woo Drost Matte   \n",
       "104            54  252.0            XXXXXXXXXXRARUCU  WILD LL MATTE BISCUIT   \n",
       "106            54  252.0              XXXXXXXXXXRARUCU  WILD LL MATTE WHITE   \n",
       "107            54  252.0             XXXXXXXXXXRARUCU WILD LL SHINY CHESNUT   \n",
       "108            54  252.0       XXXXXXXXXXRARUCU WILD LL SHINY HIGH RISK RED   \n",
       "109            54  252.0               XXXXXXXXXXRARUCU WILD LL SHINY SEPIA   \n",
       "110            54  252.0   XXXXXXXXXXRARUCU WILD LL ULTRA SHINY BLUE POWDER   \n",
       "114            54  252.0         XXXXXXXXXXRARUCU WILD LL FINISHING 2 BLACK   \n",
       "125            54  252.0           XXXXXXXXXXRARUCU  WILD LL MATTE GARGOYLE   \n",
       "126            54  252.0              XXXXXXXXXXRARUCU WILD LL SHINY SILVER   \n",
       "132            54  252.0        XXXXXXXXXXRARUCU WILD LL SHINY XRAY FROSTED   \n",
       "245            54  252.0  XXXXXXXXXXRARUCU  WILD LL SHINY VERDE ARMANI B...   \n",
       "249            54  252.0     XXXXXXXXXXRARUCU WILD LL SEMI-MATTE GREEN HOPS   \n",
       "303            54  252.0          XXXXXXXXXXRARUCU WILD LL SEMI-SHINY VERDE   \n",
       "326            54  252.0               XXXXXXXXXXRARUCU WILD LL BLACK MATTE   \n",
       "327            54  252.0         XXXXXXXXXXRARUCU WILD LL JEANS CASTLE ROCK   \n",
       "329            54  252.0       XXXXXXXXXXRARUCU WILD LL ROSE/BLACK CRAQUELE   \n",
       "331            54  252.0               XXXXXXXXXXRARUCU WILD LL SHINY BLACK   \n",
       "332            54  252.0               XXXXXXXXXXRARUCU WILD LL SHINY PEARL   \n",
       "334            54  252.0               XXXXXXXXXXRARUCU WILD LR MATTE WHITE   \n",
       "341            54  252.0               XXXXXXXXXXRARUCU WILD LR BEIGE MATTE   \n",
       "343            54  252.0  XXXXXXXXXXRARUCU WILD LL SEMI-MATTE DARK CHOCO...   \n",
       "389            54  252.0              XXXXXXXXXXRARUCU WILD LL SHINY PEWTER   \n",
       "390            54  252.0         XXXXXXXXXXRARUCU WILD LL Port Royale Matte   \n",
       "401            54  252.0               XXXXXXXXXXRARUCU WILD LR SHINY BLACK   \n",
       "516            54  252.0  XXXXXXXXXXRARUCU WILD LL SHINY GREEN BLACK FUR...   \n",
       "527            54  252.0       XXXXXXXXXXRARUCU  WILD LL MATTE GREEN TURTLE   \n",
       "529            54  252.0          XXXXXXXXXXRARUCU WILD LL SHINY ALLUMINIUM   \n",
       "530            54  252.0       XXXXXXXXXXRARUCU  WILD LL SHINY WENGE BRONZE   \n",
       "1303           54  252.0            XXXXXXXXXXRARUCU  WILD LL MATTE CHESNUT   \n",
       "1305           54  252.0      XXXXXXXXXXRARUCU WILD LL SEMI-SHINY OFF WHITE   \n",
       "1318           54  252.0   XXXXXXXXXXRARUCU WILD LL SEMI-MATTE VERDE ARMANI   \n",
       "1441           54  252.0          XXXXXXXXXXRARUCU WILD LL SEMI-MATTE BLACK   \n",
       "1532           54  252.0         XXXXXXXXXXRARUCU WILD LL SEMI-SHINY GRIGIO   \n",
       "1533           54  252.0  XXXXXXXXXXRARUCU  WILD LL SHINY VIOLET BLACK F...   \n",
       "1535           54  252.0         XXXXXXXXXXRARUCU WILD LL SEMI-MATTE ROCCIA   \n",
       "\n",
       "          fabric_blend_one  ...  swatch_price swatch_quantity  properties  \\\n",
       "31    Pirarucu (fish skin)  ...             2             0.0          []   \n",
       "104   Pirarucu (fish skin)  ...             2             0.0          []   \n",
       "106   Pirarucu (fish skin)  ...             2             0.0          []   \n",
       "107   Pirarucu (fish skin)  ...             2             0.0          []   \n",
       "108   Pirarucu (fish skin)  ...             2             0.0          []   \n",
       "109   Pirarucu (fish skin)  ...             2             0.0          []   \n",
       "110   Pirarucu (fish skin)  ...             2             0.0          []   \n",
       "114   Pirarucu (fish skin)  ...             2             0.0          []   \n",
       "125   Pirarucu (fish skin)  ...             2             0.0          []   \n",
       "126   Pirarucu (fish skin)  ...             2             0.0          []   \n",
       "132   Pirarucu (fish skin)  ...             2             0.0          []   \n",
       "245   Pirarucu (fish skin)  ...             2             0.0          []   \n",
       "249   Pirarucu (fish skin)  ...             2             0.0          []   \n",
       "303   Pirarucu (fish skin)  ...             2             0.0          []   \n",
       "326   Pirarucu (fish skin)  ...             2             0.0          []   \n",
       "327   Pirarucu (fish skin)  ...             2             0.0          []   \n",
       "329   Pirarucu (fish skin)  ...             2             0.0          []   \n",
       "331   Pirarucu (fish skin)  ...             2             0.0          []   \n",
       "332   Pirarucu (fish skin)  ...             2             0.0          []   \n",
       "334   Pirarucu (fish skin)  ...             2             0.0          []   \n",
       "341   Pirarucu (fish skin)  ...             2             0.0          []   \n",
       "343   Pirarucu (fish skin)  ...             2             0.0          []   \n",
       "389   Pirarucu (fish skin)  ...             2             0.0          []   \n",
       "390   Pirarucu (fish skin)  ...             2             0.0          []   \n",
       "401   Pirarucu (fish skin)  ...             2             0.0          []   \n",
       "516   Pirarucu (fish skin)  ...             2             0.0          []   \n",
       "527   Pirarucu (fish skin)  ...             2             0.0          []   \n",
       "529   Pirarucu (fish skin)  ...             2             0.0          []   \n",
       "530   Pirarucu (fish skin)  ...             2             0.0          []   \n",
       "1303  Pirarucu (fish skin)  ...             2             0.0          []   \n",
       "1305  Pirarucu (fish skin)  ...             2             0.0          []   \n",
       "1318  Pirarucu (fish skin)  ...             2             0.0          []   \n",
       "1441  Pirarucu (fish skin)  ...             2             0.0          []   \n",
       "1532  Pirarucu (fish skin)  ...             2             0.0          []   \n",
       "1533  Pirarucu (fish skin)  ...             2             0.0          []   \n",
       "1535  Pirarucu (fish skin)  ...             2             0.0          []   \n",
       "\n",
       "     only_for_brands                                            end_use  \\\n",
       "31                []  [Bags & Wallets, Caps & Hats, Shoes, Jacket, P...   \n",
       "104               []  [Bags & Wallets, Caps & Hats, Shoes, Jacket, P...   \n",
       "106               []  [Bags & Wallets, Caps & Hats, Shoes, Jacket, P...   \n",
       "107               []  [Bags & Wallets, Caps & Hats, Shoes, Jacket, P...   \n",
       "108               []  [Bags & Wallets, Caps & Hats, Shoes, Jacket, P...   \n",
       "109               []  [Bags & Wallets, Caps & Hats, Shoes, Jacket, P...   \n",
       "110               []  [Bags & Wallets, Caps & Hats, Shoes, Jacket, P...   \n",
       "114               []  [Bags & Wallets, Caps & Hats, Shoes, Jacket, P...   \n",
       "125               []  [Bags & Wallets, Caps & Hats, Shoes, Jacket, P...   \n",
       "126               []  [Bags & Wallets, Caps & Hats, Shoes, Jacket, P...   \n",
       "132               []  [Bags & Wallets, Caps & Hats, Shoes, Jacket, P...   \n",
       "245               []  [Bags & Wallets, Caps & Hats, Shoes, Jacket, P...   \n",
       "249               []  [Bags & Wallets, Caps & Hats, Shoes, Jacket, P...   \n",
       "303               []  [Bags & Wallets, Caps & Hats, Shoes, Jacket, P...   \n",
       "326               []  [Bags & Wallets, Caps & Hats, Shoes, Jacket, P...   \n",
       "327               []  [Bags & Wallets, Caps & Hats, Shoes, Jacket, P...   \n",
       "329               []  [Bags & Wallets, Caps & Hats, Shoes, Jacket, P...   \n",
       "331               []  [Bags & Wallets, Caps & Hats, Shoes, Jacket, P...   \n",
       "332               []  [Bags & Wallets, Caps & Hats, Shoes, Jacket, P...   \n",
       "334               []  [Bags & Wallets, Caps & Hats, Shoes, Jacket, P...   \n",
       "341               []  [Bags & Wallets, Caps & Hats, Shoes, Jacket, P...   \n",
       "343               []  [Bags & Wallets, Caps & Hats, Shoes, Jacket, P...   \n",
       "389               []  [Bags & Wallets, Caps & Hats, Shoes, Jacket, P...   \n",
       "390               []  [Bags & Wallets, Caps & Hats, Shoes, Jacket, P...   \n",
       "401               []  [Bags & Wallets, Caps & Hats, Shoes, Jacket, P...   \n",
       "516               []  [Bags & Wallets, Caps & Hats, Shoes, Jacket, P...   \n",
       "527               []  [Bags & Wallets, Caps & Hats, Shoes, Jacket, P...   \n",
       "529               []  [Bags & Wallets, Caps & Hats, Shoes, Jacket, P...   \n",
       "530               []  [Bags & Wallets, Caps & Hats, Shoes, Jacket, P...   \n",
       "1303              []  [Bags & Wallets, Caps & Hats, Shoes, Jacket, P...   \n",
       "1305              []  [Bags & Wallets, Caps & Hats, Shoes, Jacket, P...   \n",
       "1318              []  [Bags & Wallets, Caps & Hats, Shoes, Jacket, P...   \n",
       "1441              []  [Bags & Wallets, Caps & Hats, Shoes, Jacket, P...   \n",
       "1532              []  [Bags & Wallets, Caps & Hats, Shoes, Jacket, P...   \n",
       "1533              []  [Bags & Wallets, Caps & Hats, Shoes, Jacket, P...   \n",
       "1535              []  [Bags & Wallets, Caps & Hats, Shoes, Jacket, P...   \n",
       "\n",
       "        supp_name      supp_fabric_type       supp_specialty  \\\n",
       "31    XXXXXXXXXXu  Leather / Plant leaf  Sustainable Leather   \n",
       "104   XXXXXXXXXXu  Leather / Plant leaf  Sustainable Leather   \n",
       "106   XXXXXXXXXXu  Leather / Plant leaf  Sustainable Leather   \n",
       "107   XXXXXXXXXXu  Leather / Plant leaf  Sustainable Leather   \n",
       "108   XXXXXXXXXXu  Leather / Plant leaf  Sustainable Leather   \n",
       "109   XXXXXXXXXXu  Leather / Plant leaf  Sustainable Leather   \n",
       "110   XXXXXXXXXXu  Leather / Plant leaf  Sustainable Leather   \n",
       "114   XXXXXXXXXXu  Leather / Plant leaf  Sustainable Leather   \n",
       "125   XXXXXXXXXXu  Leather / Plant leaf  Sustainable Leather   \n",
       "126   XXXXXXXXXXu  Leather / Plant leaf  Sustainable Leather   \n",
       "132   XXXXXXXXXXu  Leather / Plant leaf  Sustainable Leather   \n",
       "245   XXXXXXXXXXu  Leather / Plant leaf  Sustainable Leather   \n",
       "249   XXXXXXXXXXu  Leather / Plant leaf  Sustainable Leather   \n",
       "303   XXXXXXXXXXu  Leather / Plant leaf  Sustainable Leather   \n",
       "326   XXXXXXXXXXu  Leather / Plant leaf  Sustainable Leather   \n",
       "327   XXXXXXXXXXu  Leather / Plant leaf  Sustainable Leather   \n",
       "329   XXXXXXXXXXu  Leather / Plant leaf  Sustainable Leather   \n",
       "331   XXXXXXXXXXu  Leather / Plant leaf  Sustainable Leather   \n",
       "332   XXXXXXXXXXu  Leather / Plant leaf  Sustainable Leather   \n",
       "334   XXXXXXXXXXu  Leather / Plant leaf  Sustainable Leather   \n",
       "341   XXXXXXXXXXu  Leather / Plant leaf  Sustainable Leather   \n",
       "343   XXXXXXXXXXu  Leather / Plant leaf  Sustainable Leather   \n",
       "389   XXXXXXXXXXu  Leather / Plant leaf  Sustainable Leather   \n",
       "390   XXXXXXXXXXu  Leather / Plant leaf  Sustainable Leather   \n",
       "401   XXXXXXXXXXu  Leather / Plant leaf  Sustainable Leather   \n",
       "516   XXXXXXXXXXu  Leather / Plant leaf  Sustainable Leather   \n",
       "527   XXXXXXXXXXu  Leather / Plant leaf  Sustainable Leather   \n",
       "529   XXXXXXXXXXu  Leather / Plant leaf  Sustainable Leather   \n",
       "530   XXXXXXXXXXu  Leather / Plant leaf  Sustainable Leather   \n",
       "1303  XXXXXXXXXXu  Leather / Plant leaf  Sustainable Leather   \n",
       "1305  XXXXXXXXXXu  Leather / Plant leaf  Sustainable Leather   \n",
       "1318  XXXXXXXXXXu  Leather / Plant leaf  Sustainable Leather   \n",
       "1441  XXXXXXXXXXu  Leather / Plant leaf  Sustainable Leather   \n",
       "1532  XXXXXXXXXXu  Leather / Plant leaf  Sustainable Leather   \n",
       "1533  XXXXXXXXXXu  Leather / Plant leaf  Sustainable Leather   \n",
       "1535  XXXXXXXXXXu  Leather / Plant leaf  Sustainable Leather   \n",
       "\n",
       "                       supp_end_uses   supp_fibers  \n",
       "31    Garments/ Accessories/ Upholst  blank_fibers  \n",
       "104   Garments/ Accessories/ Upholst  blank_fibers  \n",
       "106   Garments/ Accessories/ Upholst  blank_fibers  \n",
       "107   Garments/ Accessories/ Upholst  blank_fibers  \n",
       "108   Garments/ Accessories/ Upholst  blank_fibers  \n",
       "109   Garments/ Accessories/ Upholst  blank_fibers  \n",
       "110   Garments/ Accessories/ Upholst  blank_fibers  \n",
       "114   Garments/ Accessories/ Upholst  blank_fibers  \n",
       "125   Garments/ Accessories/ Upholst  blank_fibers  \n",
       "126   Garments/ Accessories/ Upholst  blank_fibers  \n",
       "132   Garments/ Accessories/ Upholst  blank_fibers  \n",
       "245   Garments/ Accessories/ Upholst  blank_fibers  \n",
       "249   Garments/ Accessories/ Upholst  blank_fibers  \n",
       "303   Garments/ Accessories/ Upholst  blank_fibers  \n",
       "326   Garments/ Accessories/ Upholst  blank_fibers  \n",
       "327   Garments/ Accessories/ Upholst  blank_fibers  \n",
       "329   Garments/ Accessories/ Upholst  blank_fibers  \n",
       "331   Garments/ Accessories/ Upholst  blank_fibers  \n",
       "332   Garments/ Accessories/ Upholst  blank_fibers  \n",
       "334   Garments/ Accessories/ Upholst  blank_fibers  \n",
       "341   Garments/ Accessories/ Upholst  blank_fibers  \n",
       "343   Garments/ Accessories/ Upholst  blank_fibers  \n",
       "389   Garments/ Accessories/ Upholst  blank_fibers  \n",
       "390   Garments/ Accessories/ Upholst  blank_fibers  \n",
       "401   Garments/ Accessories/ Upholst  blank_fibers  \n",
       "516   Garments/ Accessories/ Upholst  blank_fibers  \n",
       "527   Garments/ Accessories/ Upholst  blank_fibers  \n",
       "529   Garments/ Accessories/ Upholst  blank_fibers  \n",
       "530   Garments/ Accessories/ Upholst  blank_fibers  \n",
       "1303  Garments/ Accessories/ Upholst  blank_fibers  \n",
       "1305  Garments/ Accessories/ Upholst  blank_fibers  \n",
       "1318  Garments/ Accessories/ Upholst  blank_fibers  \n",
       "1441  Garments/ Accessories/ Upholst  blank_fibers  \n",
       "1532  Garments/ Accessories/ Upholst  blank_fibers  \n",
       "1533  Garments/ Accessories/ Upholst  blank_fibers  \n",
       "1535  Garments/ Accessories/ Upholst  blank_fibers  \n",
       "\n",
       "[36 rows x 43 columns]"
      ]
     },
     "execution_count": 83,
     "metadata": {},
     "output_type": "execute_result"
    }
   ],
   "source": [
    "materials[(materials['price'] >  200)] "
   ]
  },
  {
   "cell_type": "markdown",
   "metadata": {},
   "source": [
    "Price will be an important field for recomemnndations. Most materials have prices under 50\\\\$ per meter square. There is a set of materials containing Pirarucu (fish skin) from a supplier (52) which are around 250\\\\$ per meter square,  hence we see a spike at 250\\\\$ in the histogram. It is observed that some suppliers (52, 54) have high end fabrics. "
   ]
  },
  {
   "cell_type": "code",
   "execution_count": 84,
   "metadata": {
    "scrolled": false
   },
   "outputs": [
    {
     "data": {
      "image/png": "[encoded data removed]",
      "text/plain": [
       "<Figure size 864x1008 with 1 Axes>"
      ]
     },
     "metadata": {
      "needs_background": "light"
     },
     "output_type": "display_data"
    }
   ],
   "source": [
    "# Plot the histogram for price\n",
    "import matplotlib.ticker as ticker\n",
    "\n",
    "plt.figure(figsize=(12,14))\n",
    "cp = sns.histplot(data=materials[materials['weight']!= 0], x='weight')\n",
    "\n",
    "cp.set_title(f\"Distribution of materials by weight\", fontsize=22);\n",
    "cp.set_xlabel(\"Weight\", fontsize=20);\n",
    "cp.set_ylabel(\"Count of materials\", fontsize=20);\n",
    "\n"
   ]
  },
  {
   "cell_type": "markdown",
   "metadata": {},
   "source": [
    "Weight is a n important factor when predicting recommendations as designers often look for specific weight of fabrics when ordering. Most fabrics have non zero weights, making it a good factor for prediction. "
   ]
  },
  {
   "cell_type": "markdown",
   "metadata": {},
   "source": [
    "For Content Based recommendations we find that the materials dataset has some useful features which will be used for recommendations such as weight, price, fabric_blend_one, fabric_type etc. "
   ]
  },
  {
   "cell_type": "markdown",
   "metadata": {},
   "source": [
    "# 4. Data cleaning of tables related to Collaborative Filtering"
   ]
  },
  {
   "cell_type": "markdown",
   "metadata": {},
   "source": [
    "## 4a. Fabric Requests Dataset"
   ]
  },
  {
   "cell_type": "markdown",
   "metadata": {},
   "source": [
    "Fabric request dataset includes fabric requests made by brand users. Fabric requests are the first step of an order. Only once the supplier confirms availability the user can place an order. However the fabric requests are stilla good indicator of user's interest in the fabric. "
   ]
  },
  {
   "cell_type": "code",
   "execution_count": 85,
   "metadata": {},
   "outputs": [
    {
     "data": {
      "text/html": [
       "<div>\n",
       "<style scoped>\n",
       "    .dataframe tbody tr th:only-of-type {\n",
       "        vertical-align: middle;\n",
       "    }\n",
       "\n",
       "    .dataframe tbody tr th {\n",
       "        vertical-align: top;\n",
       "    }\n",
       "\n",
       "    .dataframe thead th {\n",
       "        text-align: right;\n",
       "    }\n",
       "</style>\n",
       "<table border=\"1\" class=\"dataframe\">\n",
       "  <thead>\n",
       "    <tr style=\"text-align: right;\">\n",
       "      <th></th>\n",
       "      <th>id</th>\n",
       "      <th>status</th>\n",
       "      <th>type</th>\n",
       "      <th>quantity</th>\n",
       "      <th>requested_at</th>\n",
       "      <th>closed_at</th>\n",
       "      <th>delay_days</th>\n",
       "      <th>delay_note</th>\n",
       "      <th>material_id</th>\n",
       "      <th>user_id</th>\n",
       "      <th>...</th>\n",
       "      <th>order_id</th>\n",
       "      <th>price</th>\n",
       "      <th>price_unit</th>\n",
       "      <th>surcharge</th>\n",
       "      <th>accepted_at</th>\n",
       "      <th>deleted_at</th>\n",
       "      <th>origin_quantity</th>\n",
       "      <th>variant_id</th>\n",
       "      <th>currency</th>\n",
       "      <th>bought_price</th>\n",
       "    </tr>\n",
       "  </thead>\n",
       "  <tbody>\n",
       "    <tr>\n",
       "      <th>0</th>\n",
       "      <td>1008</td>\n",
       "      <td>delayed</td>\n",
       "      <td>swatch</td>\n",
       "      <td>1.0</td>\n",
       "      <td>2020-11-02T15:54:30.176Z</td>\n",
       "      <td>2021-05-26T06:41:30.280Z</td>\n",
       "      <td>5.0</td>\n",
       "      <td>Swatch is only available in 1 colour, but we c...</td>\n",
       "      <td>734</td>\n",
       "      <td>311</td>\n",
       "      <td>...</td>\n",
       "      <td>NaN</td>\n",
       "      <td>0.00</td>\n",
       "      <td>NaN</td>\n",
       "      <td>NaN</td>\n",
       "      <td>2020-11-03T21:24:54.864Z</td>\n",
       "      <td>NaN</td>\n",
       "      <td>NaN</td>\n",
       "      <td>409</td>\n",
       "      <td>NaN</td>\n",
       "      <td>NaN</td>\n",
       "    </tr>\n",
       "    <tr>\n",
       "      <th>1</th>\n",
       "      <td>1692</td>\n",
       "      <td>delivered</td>\n",
       "      <td>swatch</td>\n",
       "      <td>1.0</td>\n",
       "      <td>2021-04-29T16:17:53.656Z</td>\n",
       "      <td>NaN</td>\n",
       "      <td>NaN</td>\n",
       "      <td>NaN</td>\n",
       "      <td>842</td>\n",
       "      <td>284</td>\n",
       "      <td>...</td>\n",
       "      <td>234.0</td>\n",
       "      <td>2.00</td>\n",
       "      <td>NaN</td>\n",
       "      <td>NaN</td>\n",
       "      <td>NaN</td>\n",
       "      <td>NaN</td>\n",
       "      <td>NaN</td>\n",
       "      <td>461</td>\n",
       "      <td>USD</td>\n",
       "      <td>2.00</td>\n",
       "    </tr>\n",
       "    <tr>\n",
       "      <th>2</th>\n",
       "      <td>1699</td>\n",
       "      <td>delivered</td>\n",
       "      <td>swatch</td>\n",
       "      <td>1.0</td>\n",
       "      <td>2021-04-29T16:17:53.656Z</td>\n",
       "      <td>NaN</td>\n",
       "      <td>NaN</td>\n",
       "      <td>NaN</td>\n",
       "      <td>2130</td>\n",
       "      <td>284</td>\n",
       "      <td>...</td>\n",
       "      <td>234.0</td>\n",
       "      <td>2.00</td>\n",
       "      <td>NaN</td>\n",
       "      <td>NaN</td>\n",
       "      <td>NaN</td>\n",
       "      <td>NaN</td>\n",
       "      <td>NaN</td>\n",
       "      <td>2158</td>\n",
       "      <td>USD</td>\n",
       "      <td>2.00</td>\n",
       "    </tr>\n",
       "    <tr>\n",
       "      <th>3</th>\n",
       "      <td>272</td>\n",
       "      <td>delayed</td>\n",
       "      <td>sample</td>\n",
       "      <td>10.0</td>\n",
       "      <td>2020-06-01T04:47:47.012Z</td>\n",
       "      <td>2020-06-01T05:09:14.777Z</td>\n",
       "      <td>14.0</td>\n",
       "      <td>NaN</td>\n",
       "      <td>198</td>\n",
       "      <td>7</td>\n",
       "      <td>...</td>\n",
       "      <td>NaN</td>\n",
       "      <td>9.20</td>\n",
       "      <td>NaN</td>\n",
       "      <td>20.0</td>\n",
       "      <td>NaN</td>\n",
       "      <td>NaN</td>\n",
       "      <td>NaN</td>\n",
       "      <td>153</td>\n",
       "      <td>NaN</td>\n",
       "      <td>0.00</td>\n",
       "    </tr>\n",
       "    <tr>\n",
       "      <th>4</th>\n",
       "      <td>30</td>\n",
       "      <td>delivered</td>\n",
       "      <td>sample</td>\n",
       "      <td>3.0</td>\n",
       "      <td>2019-10-23T15:00:20.698Z</td>\n",
       "      <td>NaN</td>\n",
       "      <td>NaN</td>\n",
       "      <td>NaN</td>\n",
       "      <td>500</td>\n",
       "      <td>69</td>\n",
       "      <td>...</td>\n",
       "      <td>72.0</td>\n",
       "      <td>20.57</td>\n",
       "      <td>NaN</td>\n",
       "      <td>NaN</td>\n",
       "      <td>NaN</td>\n",
       "      <td>NaN</td>\n",
       "      <td>NaN</td>\n",
       "      <td>266</td>\n",
       "      <td>USD</td>\n",
       "      <td>61.71</td>\n",
       "    </tr>\n",
       "  </tbody>\n",
       "</table>\n",
       "<p>5 rows × 23 columns</p>\n",
       "</div>"
      ],
      "text/plain": [
       "     id     status    type  quantity              requested_at  \\\n",
       "0  1008    delayed  swatch       1.0  2020-11-02T15:54:30.176Z   \n",
       "1  1692  delivered  swatch       1.0  2021-04-29T16:17:53.656Z   \n",
       "2  1699  delivered  swatch       1.0  2021-04-29T16:17:53.656Z   \n",
       "3   272    delayed  sample      10.0  2020-06-01T04:47:47.012Z   \n",
       "4    30  delivered  sample       3.0  2019-10-23T15:00:20.698Z   \n",
       "\n",
       "                  closed_at  delay_days  \\\n",
       "0  2021-05-26T06:41:30.280Z         5.0   \n",
       "1                       NaN         NaN   \n",
       "2                       NaN         NaN   \n",
       "3  2020-06-01T05:09:14.777Z        14.0   \n",
       "4                       NaN         NaN   \n",
       "\n",
       "                                          delay_note  material_id  user_id  \\\n",
       "0  Swatch is only available in 1 colour, but we c...          734      311   \n",
       "1                                                NaN          842      284   \n",
       "2                                                NaN         2130      284   \n",
       "3                                                NaN          198        7   \n",
       "4                                                NaN          500       69   \n",
       "\n",
       "   ...  order_id  price price_unit  surcharge               accepted_at  \\\n",
       "0  ...       NaN   0.00        NaN        NaN  2020-11-03T21:24:54.864Z   \n",
       "1  ...     234.0   2.00        NaN        NaN                       NaN   \n",
       "2  ...     234.0   2.00        NaN        NaN                       NaN   \n",
       "3  ...       NaN   9.20        NaN       20.0                       NaN   \n",
       "4  ...      72.0  20.57        NaN        NaN                       NaN   \n",
       "\n",
       "  deleted_at  origin_quantity variant_id  currency  bought_price  \n",
       "0        NaN              NaN        409       NaN           NaN  \n",
       "1        NaN              NaN        461       USD          2.00  \n",
       "2        NaN              NaN       2158       USD          2.00  \n",
       "3        NaN              NaN        153       NaN          0.00  \n",
       "4        NaN              NaN        266       USD         61.71  \n",
       "\n",
       "[5 rows x 23 columns]"
      ]
     },
     "execution_count": 85,
     "metadata": {},
     "output_type": "execute_result"
    }
   ],
   "source": [
    "fab_req_orig.head()"
   ]
  },
  {
   "cell_type": "code",
   "execution_count": 86,
   "metadata": {},
   "outputs": [
    {
     "data": {
      "text/plain": [
       "(1062, 23)"
      ]
     },
     "execution_count": 86,
     "metadata": {},
     "output_type": "execute_result"
    }
   ],
   "source": [
    "fab_req_orig.shape"
   ]
  },
  {
   "cell_type": "code",
   "execution_count": 87,
   "metadata": {},
   "outputs": [
    {
     "name": "stdout",
     "output_type": "stream",
     "text": [
      "<class 'pandas.core.frame.DataFrame'>\n",
      "RangeIndex: 1062 entries, 0 to 1061\n",
      "Data columns (total 23 columns):\n",
      " #   Column           Non-Null Count  Dtype  \n",
      "---  ------           --------------  -----  \n",
      " 0   id               1062 non-null   int64  \n",
      " 1   status           1062 non-null   object \n",
      " 2   type             1062 non-null   object \n",
      " 3   quantity         1062 non-null   float64\n",
      " 4   requested_at     919 non-null    object \n",
      " 5   closed_at        278 non-null    object \n",
      " 6   delay_days       304 non-null    float64\n",
      " 7   delay_note       138 non-null    object \n",
      " 8   material_id      1062 non-null   int64  \n",
      " 9   user_id          1062 non-null   int64  \n",
      " 10  project_id       73 non-null     float64\n",
      " 11  created_at       1062 non-null   object \n",
      " 12  updated_at       1062 non-null   object \n",
      " 13  order_id         605 non-null    float64\n",
      " 14  price            1062 non-null   float64\n",
      " 15  price_unit       73 non-null     object \n",
      " 16  surcharge        45 non-null     float64\n",
      " 17  accepted_at      122 non-null    object \n",
      " 18  deleted_at       0 non-null      float64\n",
      " 19  origin_quantity  5 non-null      float64\n",
      " 20  variant_id       1062 non-null   int64  \n",
      " 21  currency         607 non-null    object \n",
      " 22  bought_price     772 non-null    float64\n",
      "dtypes: float64(9), int64(4), object(10)\n",
      "memory usage: 191.0+ KB\n"
     ]
    }
   ],
   "source": [
    "fab_req_orig.info()"
   ]
  },
  {
   "cell_type": "code",
   "execution_count": 88,
   "metadata": {},
   "outputs": [],
   "source": [
    "# convert all date-times to datetime datatypes\n",
    "fab_req_orig['requested_at'] = pd.to_datetime(fab_req_orig['requested_at'])\n",
    "fab_req_orig['closed_at'] = pd.to_datetime(fab_req_orig['closed_at'])\n",
    "fab_req_orig['created_at'] = pd.to_datetime(fab_req_orig['created_at'])\n",
    "fab_req_orig['updated_at'] = pd.to_datetime(fab_req_orig['updated_at'])\n",
    "fab_req_orig['accepted_at'] = pd.to_datetime(fab_req_orig['accepted_at'])\n",
    "fab_req_orig['deleted_at'] = pd.to_datetime(fab_req_orig['deleted_at'])\n"
   ]
  },
  {
   "cell_type": "code",
   "execution_count": 89,
   "metadata": {},
   "outputs": [
    {
     "name": "stdout",
     "output_type": "stream",
     "text": [
      "<class 'pandas.core.frame.DataFrame'>\n",
      "RangeIndex: 1062 entries, 0 to 1061\n",
      "Data columns (total 23 columns):\n",
      " #   Column           Non-Null Count  Dtype              \n",
      "---  ------           --------------  -----              \n",
      " 0   id               1062 non-null   int64              \n",
      " 1   status           1062 non-null   object             \n",
      " 2   type             1062 non-null   object             \n",
      " 3   quantity         1062 non-null   float64            \n",
      " 4   requested_at     919 non-null    datetime64[ns, UTC]\n",
      " 5   closed_at        278 non-null    datetime64[ns, UTC]\n",
      " 6   delay_days       304 non-null    float64            \n",
      " 7   delay_note       138 non-null    object             \n",
      " 8   material_id      1062 non-null   int64              \n",
      " 9   user_id          1062 non-null   int64              \n",
      " 10  project_id       73 non-null     float64            \n",
      " 11  created_at       1062 non-null   datetime64[ns, UTC]\n",
      " 12  updated_at       1062 non-null   datetime64[ns, UTC]\n",
      " 13  order_id         605 non-null    float64            \n",
      " 14  price            1062 non-null   float64            \n",
      " 15  price_unit       73 non-null     object             \n",
      " 16  surcharge        45 non-null     float64            \n",
      " 17  accepted_at      122 non-null    datetime64[ns, UTC]\n",
      " 18  deleted_at       0 non-null      datetime64[ns]     \n",
      " 19  origin_quantity  5 non-null      float64            \n",
      " 20  variant_id       1062 non-null   int64              \n",
      " 21  currency         607 non-null    object             \n",
      " 22  bought_price     772 non-null    float64            \n",
      "dtypes: datetime64[ns, UTC](5), datetime64[ns](1), float64(8), int64(4), object(5)\n",
      "memory usage: 191.0+ KB\n"
     ]
    }
   ],
   "source": [
    "fab_req_orig.info()"
   ]
  },
  {
   "cell_type": "markdown",
   "metadata": {},
   "source": [
    "As we are interested only in the information about which user has requested fabrics, we drop the other fields"
   ]
  },
  {
   "cell_type": "code",
   "execution_count": 90,
   "metadata": {},
   "outputs": [],
   "source": [
    "fab_requests = fab_req_orig.drop(columns=[\"requested_at\",\"closed_at\", \"delay_days\", \n",
    "                                          \"delay_note\", \"project_id\", \"created_at\",\n",
    "                                         \"updated_at\",\"order_id\", \"price\",  \"price_unit\",\n",
    "                                          \"surcharge\", \"accepted_at\", \"deleted_at\", \n",
    "                                          \"origin_quantity\", \"variant_id\", \"currency\",\n",
    "                                          \"bought_price\"\n",
    "                                         ])"
   ]
  },
  {
   "cell_type": "code",
   "execution_count": 91,
   "metadata": {},
   "outputs": [
    {
     "data": {
      "text/plain": [
       "id             0\n",
       "status         0\n",
       "type           0\n",
       "quantity       0\n",
       "material_id    0\n",
       "user_id        0\n",
       "dtype: int64"
      ]
     },
     "execution_count": 91,
     "metadata": {},
     "output_type": "execute_result"
    }
   ],
   "source": [
    "fab_requests.isnull().sum()"
   ]
  },
  {
   "cell_type": "markdown",
   "metadata": {},
   "source": [
    "## 4b. Users Dataset"
   ]
  },
  {
   "cell_type": "markdown",
   "metadata": {},
   "source": [
    "Contains information about users of the FC system."
   ]
  },
  {
   "cell_type": "code",
   "execution_count": 92,
   "metadata": {},
   "outputs": [
    {
     "data": {
      "text/html": [
       "<div>\n",
       "<style scoped>\n",
       "    .dataframe tbody tr th:only-of-type {\n",
       "        vertical-align: middle;\n",
       "    }\n",
       "\n",
       "    .dataframe tbody tr th {\n",
       "        vertical-align: top;\n",
       "    }\n",
       "\n",
       "    .dataframe thead th {\n",
       "        text-align: right;\n",
       "    }\n",
       "</style>\n",
       "<table border=\"1\" class=\"dataframe\">\n",
       "  <thead>\n",
       "    <tr style=\"text-align: right;\">\n",
       "      <th></th>\n",
       "      <th>Id</th>\n",
       "      <th>Email</th>\n",
       "      <th>Name</th>\n",
       "      <th>Remember me token</th>\n",
       "      <th>Remember me token expires at</th>\n",
       "      <th>Activation state</th>\n",
       "      <th>Activation token</th>\n",
       "      <th>Activation token expires at</th>\n",
       "      <th>Reset password token</th>\n",
       "      <th>Reset password token expires at</th>\n",
       "      <th>Reset password email sent at</th>\n",
       "      <th>Role</th>\n",
       "      <th>Created at</th>\n",
       "      <th>Updated at</th>\n",
       "      <th>Deleted at</th>\n",
       "      <th>Origin</th>\n",
       "      <th>Phone</th>\n",
       "      <th>Last login at</th>\n",
       "      <th>Currency</th>\n",
       "    </tr>\n",
       "  </thead>\n",
       "  <tbody>\n",
       "    <tr>\n",
       "      <th>0</th>\n",
       "      <td>624</td>\n",
       "      <td>XXXXXXXya@XXXXX.co</td>\n",
       "      <td>XXXXXXXa</td>\n",
       "      <td>NaN</td>\n",
       "      <td>NaN</td>\n",
       "      <td>active</td>\n",
       "      <td>NaN</td>\n",
       "      <td>NaN</td>\n",
       "      <td>NaN</td>\n",
       "      <td>NaN</td>\n",
       "      <td>NaN</td>\n",
       "      <td>admin</td>\n",
       "      <td>2021-09-02 06:59:58 UTC</td>\n",
       "      <td>2021-09-02 07:02:19 UTC</td>\n",
       "      <td>NaN</td>\n",
       "      <td>Google</td>\n",
       "      <td>NaN</td>\n",
       "      <td>2021-09-02 07:02:19 UTC</td>\n",
       "      <td>USD</td>\n",
       "    </tr>\n",
       "    <tr>\n",
       "      <th>1</th>\n",
       "      <td>623</td>\n",
       "      <td>XXXXXXXrkowski@XXXXXumbers.eu</td>\n",
       "      <td>XXXXXXX Gmurkowski</td>\n",
       "      <td>NaN</td>\n",
       "      <td>NaN</td>\n",
       "      <td>active</td>\n",
       "      <td>NaN</td>\n",
       "      <td>NaN</td>\n",
       "      <td>NaN</td>\n",
       "      <td>NaN</td>\n",
       "      <td>NaN</td>\n",
       "      <td>admin</td>\n",
       "      <td>2021-09-01 18:43:23 UTC</td>\n",
       "      <td>2021-09-01 18:43:43 UTC</td>\n",
       "      <td>NaN</td>\n",
       "      <td>Google</td>\n",
       "      <td>NaN</td>\n",
       "      <td>NaN</td>\n",
       "      <td>USD</td>\n",
       "    </tr>\n",
       "    <tr>\n",
       "      <th>2</th>\n",
       "      <td>622</td>\n",
       "      <td>XXXXXXXa@XXXXXexfabrics.com</td>\n",
       "      <td>XXXXXXX Zaldumbide</td>\n",
       "      <td>NaN</td>\n",
       "      <td>NaN</td>\n",
       "      <td>active</td>\n",
       "      <td>NaN</td>\n",
       "      <td>NaN</td>\n",
       "      <td>Yt_84C9wFcuBXa46ssdV</td>\n",
       "      <td>2021-09-02 11:14:03 UTC</td>\n",
       "      <td>2021-09-01 11:14:03 UTC</td>\n",
       "      <td>product_user</td>\n",
       "      <td>2021-09-01 11:14:03 UTC</td>\n",
       "      <td>2021-09-01 11:14:03 UTC</td>\n",
       "      <td>NaN</td>\n",
       "      <td>NaN</td>\n",
       "      <td>NaN</td>\n",
       "      <td>NaN</td>\n",
       "      <td>USD</td>\n",
       "    </tr>\n",
       "    <tr>\n",
       "      <th>3</th>\n",
       "      <td>621</td>\n",
       "      <td>XXXXXXXXXXXXlgreen.solutions</td>\n",
       "      <td>XXXXXXXn Drunen</td>\n",
       "      <td>NaN</td>\n",
       "      <td>NaN</td>\n",
       "      <td>active</td>\n",
       "      <td>NaN</td>\n",
       "      <td>NaN</td>\n",
       "      <td>dRRP-o__5JStk41dJf5H</td>\n",
       "      <td>2021-08-26 08:57:31 UTC</td>\n",
       "      <td>2021-08-25 08:57:31 UTC</td>\n",
       "      <td>product_user</td>\n",
       "      <td>2021-08-25 08:57:31 UTC</td>\n",
       "      <td>2021-08-25 08:57:31 UTC</td>\n",
       "      <td>NaN</td>\n",
       "      <td>NaN</td>\n",
       "      <td>NaN</td>\n",
       "      <td>NaN</td>\n",
       "      <td>EUR</td>\n",
       "    </tr>\n",
       "    <tr>\n",
       "      <th>4</th>\n",
       "      <td>620</td>\n",
       "      <td>XXXXXXXrt+test10@demo.solutions</td>\n",
       "      <td>XXXXXXX</td>\n",
       "      <td>NaN</td>\n",
       "      <td>NaN</td>\n",
       "      <td>active</td>\n",
       "      <td>NaN</td>\n",
       "      <td>NaN</td>\n",
       "      <td>NaN</td>\n",
       "      <td>NaN</td>\n",
       "      <td>NaN</td>\n",
       "      <td>admin</td>\n",
       "      <td>2021-08-24 11:35:16 UTC</td>\n",
       "      <td>2021-08-24 12:35:41 UTC</td>\n",
       "      <td>2021-08-24 12:35:41 UTC</td>\n",
       "      <td>Google</td>\n",
       "      <td>NaN</td>\n",
       "      <td>NaN</td>\n",
       "      <td>USD</td>\n",
       "    </tr>\n",
       "  </tbody>\n",
       "</table>\n",
       "</div>"
      ],
      "text/plain": [
       "    Id                            Email                Name  \\\n",
       "0  624               XXXXXXXya@XXXXX.co            XXXXXXXa   \n",
       "1  623    XXXXXXXrkowski@XXXXXumbers.eu  XXXXXXX Gmurkowski   \n",
       "2  622      XXXXXXXa@XXXXXexfabrics.com  XXXXXXX Zaldumbide   \n",
       "3  621     XXXXXXXXXXXXlgreen.solutions     XXXXXXXn Drunen   \n",
       "4  620  XXXXXXXrt+test10@demo.solutions             XXXXXXX   \n",
       "\n",
       "   Remember me token  Remember me token expires at Activation state  \\\n",
       "0                NaN                           NaN           active   \n",
       "1                NaN                           NaN           active   \n",
       "2                NaN                           NaN           active   \n",
       "3                NaN                           NaN           active   \n",
       "4                NaN                           NaN           active   \n",
       "\n",
       "  Activation token  Activation token expires at  Reset password token  \\\n",
       "0              NaN                          NaN                   NaN   \n",
       "1              NaN                          NaN                   NaN   \n",
       "2              NaN                          NaN  Yt_84C9wFcuBXa46ssdV   \n",
       "3              NaN                          NaN  dRRP-o__5JStk41dJf5H   \n",
       "4              NaN                          NaN                   NaN   \n",
       "\n",
       "  Reset password token expires at Reset password email sent at          Role  \\\n",
       "0                             NaN                          NaN         admin   \n",
       "1                             NaN                          NaN         admin   \n",
       "2         2021-09-02 11:14:03 UTC      2021-09-01 11:14:03 UTC  product_user   \n",
       "3         2021-08-26 08:57:31 UTC      2021-08-25 08:57:31 UTC  product_user   \n",
       "4                             NaN                          NaN         admin   \n",
       "\n",
       "                Created at               Updated at               Deleted at  \\\n",
       "0  2021-09-02 06:59:58 UTC  2021-09-02 07:02:19 UTC                      NaN   \n",
       "1  2021-09-01 18:43:23 UTC  2021-09-01 18:43:43 UTC                      NaN   \n",
       "2  2021-09-01 11:14:03 UTC  2021-09-01 11:14:03 UTC                      NaN   \n",
       "3  2021-08-25 08:57:31 UTC  2021-08-25 08:57:31 UTC                      NaN   \n",
       "4  2021-08-24 11:35:16 UTC  2021-08-24 12:35:41 UTC  2021-08-24 12:35:41 UTC   \n",
       "\n",
       "   Origin  Phone            Last login at Currency  \n",
       "0  Google    NaN  2021-09-02 07:02:19 UTC      USD  \n",
       "1  Google    NaN                      NaN      USD  \n",
       "2     NaN    NaN                      NaN      USD  \n",
       "3     NaN    NaN                      NaN      EUR  \n",
       "4  Google    NaN                      NaN      USD  "
      ]
     },
     "execution_count": 92,
     "metadata": {},
     "output_type": "execute_result"
    }
   ],
   "source": [
    "users_orig.head()"
   ]
  },
  {
   "cell_type": "code",
   "execution_count": 93,
   "metadata": {},
   "outputs": [],
   "source": [
    "# Rename column names to replace spaces with \"_\", and change to lower case\n",
    "def fix_col_name (col_name):\n",
    "    col_name = col_name.replace(\" \", \"_\")\n",
    "    col_name = col_name.lower()\n",
    "    return col_name\n",
    "\n",
    "users = users_orig.rename(columns = {orig_name: fix_col_name(orig_name) for orig_name in users_orig.columns})\n"
   ]
  },
  {
   "cell_type": "code",
   "execution_count": 94,
   "metadata": {},
   "outputs": [
    {
     "data": {
      "text/html": [
       "<div>\n",
       "<style scoped>\n",
       "    .dataframe tbody tr th:only-of-type {\n",
       "        vertical-align: middle;\n",
       "    }\n",
       "\n",
       "    .dataframe tbody tr th {\n",
       "        vertical-align: top;\n",
       "    }\n",
       "\n",
       "    .dataframe thead th {\n",
       "        text-align: right;\n",
       "    }\n",
       "</style>\n",
       "<table border=\"1\" class=\"dataframe\">\n",
       "  <thead>\n",
       "    <tr style=\"text-align: right;\">\n",
       "      <th></th>\n",
       "      <th>id</th>\n",
       "      <th>email</th>\n",
       "      <th>name</th>\n",
       "      <th>remember_me_token</th>\n",
       "      <th>remember_me_token_expires_at</th>\n",
       "      <th>activation_state</th>\n",
       "      <th>activation_token</th>\n",
       "      <th>activation_token_expires_at</th>\n",
       "      <th>reset_password_token</th>\n",
       "      <th>reset_password_token_expires_at</th>\n",
       "      <th>reset_password_email_sent_at</th>\n",
       "      <th>role</th>\n",
       "      <th>created_at</th>\n",
       "      <th>updated_at</th>\n",
       "      <th>deleted_at</th>\n",
       "      <th>origin</th>\n",
       "      <th>phone</th>\n",
       "      <th>last_login_at</th>\n",
       "      <th>currency</th>\n",
       "    </tr>\n",
       "  </thead>\n",
       "  <tbody>\n",
       "    <tr>\n",
       "      <th>0</th>\n",
       "      <td>624</td>\n",
       "      <td>XXXXXXXya@XXXXX.co</td>\n",
       "      <td>XXXXXXXa</td>\n",
       "      <td>NaN</td>\n",
       "      <td>NaN</td>\n",
       "      <td>active</td>\n",
       "      <td>NaN</td>\n",
       "      <td>NaN</td>\n",
       "      <td>NaN</td>\n",
       "      <td>NaN</td>\n",
       "      <td>NaN</td>\n",
       "      <td>admin</td>\n",
       "      <td>2021-09-02 06:59:58 UTC</td>\n",
       "      <td>2021-09-02 07:02:19 UTC</td>\n",
       "      <td>NaN</td>\n",
       "      <td>Google</td>\n",
       "      <td>NaN</td>\n",
       "      <td>2021-09-02 07:02:19 UTC</td>\n",
       "      <td>USD</td>\n",
       "    </tr>\n",
       "    <tr>\n",
       "      <th>1</th>\n",
       "      <td>623</td>\n",
       "      <td>XXXXXXXrkowski@XXXXXumbers.eu</td>\n",
       "      <td>XXXXXXX Gmurkowski</td>\n",
       "      <td>NaN</td>\n",
       "      <td>NaN</td>\n",
       "      <td>active</td>\n",
       "      <td>NaN</td>\n",
       "      <td>NaN</td>\n",
       "      <td>NaN</td>\n",
       "      <td>NaN</td>\n",
       "      <td>NaN</td>\n",
       "      <td>admin</td>\n",
       "      <td>2021-09-01 18:43:23 UTC</td>\n",
       "      <td>2021-09-01 18:43:43 UTC</td>\n",
       "      <td>NaN</td>\n",
       "      <td>Google</td>\n",
       "      <td>NaN</td>\n",
       "      <td>NaN</td>\n",
       "      <td>USD</td>\n",
       "    </tr>\n",
       "    <tr>\n",
       "      <th>2</th>\n",
       "      <td>622</td>\n",
       "      <td>XXXXXXXa@XXXXXexfabrics.com</td>\n",
       "      <td>XXXXXXX Zaldumbide</td>\n",
       "      <td>NaN</td>\n",
       "      <td>NaN</td>\n",
       "      <td>active</td>\n",
       "      <td>NaN</td>\n",
       "      <td>NaN</td>\n",
       "      <td>Yt_84C9wFcuBXa46ssdV</td>\n",
       "      <td>2021-09-02 11:14:03 UTC</td>\n",
       "      <td>2021-09-01 11:14:03 UTC</td>\n",
       "      <td>product_user</td>\n",
       "      <td>2021-09-01 11:14:03 UTC</td>\n",
       "      <td>2021-09-01 11:14:03 UTC</td>\n",
       "      <td>NaN</td>\n",
       "      <td>NaN</td>\n",
       "      <td>NaN</td>\n",
       "      <td>NaN</td>\n",
       "      <td>USD</td>\n",
       "    </tr>\n",
       "    <tr>\n",
       "      <th>3</th>\n",
       "      <td>621</td>\n",
       "      <td>XXXXXXXXXXXXlgreen.solutions</td>\n",
       "      <td>XXXXXXXn Drunen</td>\n",
       "      <td>NaN</td>\n",
       "      <td>NaN</td>\n",
       "      <td>active</td>\n",
       "      <td>NaN</td>\n",
       "      <td>NaN</td>\n",
       "      <td>dRRP-o__5JStk41dJf5H</td>\n",
       "      <td>2021-08-26 08:57:31 UTC</td>\n",
       "      <td>2021-08-25 08:57:31 UTC</td>\n",
       "      <td>product_user</td>\n",
       "      <td>2021-08-25 08:57:31 UTC</td>\n",
       "      <td>2021-08-25 08:57:31 UTC</td>\n",
       "      <td>NaN</td>\n",
       "      <td>NaN</td>\n",
       "      <td>NaN</td>\n",
       "      <td>NaN</td>\n",
       "      <td>EUR</td>\n",
       "    </tr>\n",
       "    <tr>\n",
       "      <th>4</th>\n",
       "      <td>620</td>\n",
       "      <td>XXXXXXXrt+test10@demo.solutions</td>\n",
       "      <td>XXXXXXX</td>\n",
       "      <td>NaN</td>\n",
       "      <td>NaN</td>\n",
       "      <td>active</td>\n",
       "      <td>NaN</td>\n",
       "      <td>NaN</td>\n",
       "      <td>NaN</td>\n",
       "      <td>NaN</td>\n",
       "      <td>NaN</td>\n",
       "      <td>admin</td>\n",
       "      <td>2021-08-24 11:35:16 UTC</td>\n",
       "      <td>2021-08-24 12:35:41 UTC</td>\n",
       "      <td>2021-08-24 12:35:41 UTC</td>\n",
       "      <td>Google</td>\n",
       "      <td>NaN</td>\n",
       "      <td>NaN</td>\n",
       "      <td>USD</td>\n",
       "    </tr>\n",
       "  </tbody>\n",
       "</table>\n",
       "</div>"
      ],
      "text/plain": [
       "    id                            email                name  \\\n",
       "0  624               XXXXXXXya@XXXXX.co            XXXXXXXa   \n",
       "1  623    XXXXXXXrkowski@XXXXXumbers.eu  XXXXXXX Gmurkowski   \n",
       "2  622      XXXXXXXa@XXXXXexfabrics.com  XXXXXXX Zaldumbide   \n",
       "3  621     XXXXXXXXXXXXlgreen.solutions     XXXXXXXn Drunen   \n",
       "4  620  XXXXXXXrt+test10@demo.solutions             XXXXXXX   \n",
       "\n",
       "   remember_me_token  remember_me_token_expires_at activation_state  \\\n",
       "0                NaN                           NaN           active   \n",
       "1                NaN                           NaN           active   \n",
       "2                NaN                           NaN           active   \n",
       "3                NaN                           NaN           active   \n",
       "4                NaN                           NaN           active   \n",
       "\n",
       "  activation_token  activation_token_expires_at  reset_password_token  \\\n",
       "0              NaN                          NaN                   NaN   \n",
       "1              NaN                          NaN                   NaN   \n",
       "2              NaN                          NaN  Yt_84C9wFcuBXa46ssdV   \n",
       "3              NaN                          NaN  dRRP-o__5JStk41dJf5H   \n",
       "4              NaN                          NaN                   NaN   \n",
       "\n",
       "  reset_password_token_expires_at reset_password_email_sent_at          role  \\\n",
       "0                             NaN                          NaN         admin   \n",
       "1                             NaN                          NaN         admin   \n",
       "2         2021-09-02 11:14:03 UTC      2021-09-01 11:14:03 UTC  product_user   \n",
       "3         2021-08-26 08:57:31 UTC      2021-08-25 08:57:31 UTC  product_user   \n",
       "4                             NaN                          NaN         admin   \n",
       "\n",
       "                created_at               updated_at               deleted_at  \\\n",
       "0  2021-09-02 06:59:58 UTC  2021-09-02 07:02:19 UTC                      NaN   \n",
       "1  2021-09-01 18:43:23 UTC  2021-09-01 18:43:43 UTC                      NaN   \n",
       "2  2021-09-01 11:14:03 UTC  2021-09-01 11:14:03 UTC                      NaN   \n",
       "3  2021-08-25 08:57:31 UTC  2021-08-25 08:57:31 UTC                      NaN   \n",
       "4  2021-08-24 11:35:16 UTC  2021-08-24 12:35:41 UTC  2021-08-24 12:35:41 UTC   \n",
       "\n",
       "   origin  phone            last_login_at currency  \n",
       "0  Google    NaN  2021-09-02 07:02:19 UTC      USD  \n",
       "1  Google    NaN                      NaN      USD  \n",
       "2     NaN    NaN                      NaN      USD  \n",
       "3     NaN    NaN                      NaN      EUR  \n",
       "4  Google    NaN                      NaN      USD  "
      ]
     },
     "execution_count": 94,
     "metadata": {},
     "output_type": "execute_result"
    }
   ],
   "source": [
    "users.head()"
   ]
  },
  {
   "cell_type": "markdown",
   "metadata": {},
   "source": [
    "We only need this dataset to filter out demo users. So we only keep the necessary columns"
   ]
  },
  {
   "cell_type": "code",
   "execution_count": 95,
   "metadata": {},
   "outputs": [],
   "source": [
    "users = users[[\"id\", \"email\", \"name\", \"activation_state\", \"role\"]]"
   ]
  },
  {
   "cell_type": "code",
   "execution_count": 96,
   "metadata": {},
   "outputs": [],
   "source": [
    "# Rename \"id\" to \"user_id\" to avoid ambiguity after merging with the fabric_requests dataset\n",
    "users = users.rename(columns={\"email\":\"user_email\", \"id\":\"user_id\", \"name\":\"user_name\", \"activation_state\":\"user_activation_state\", \"role\":\"user_role\"})"
   ]
  },
  {
   "cell_type": "markdown",
   "metadata": {},
   "source": [
    "## 4c. Merge Fabric Request and Users datasets"
   ]
  },
  {
   "cell_type": "code",
   "execution_count": 97,
   "metadata": {},
   "outputs": [],
   "source": [
    "fab_requests = fab_requests.merge(users, how=\"left\", on=\"user_id\")"
   ]
  },
  {
   "cell_type": "code",
   "execution_count": 98,
   "metadata": {},
   "outputs": [
    {
     "data": {
      "text/html": [
       "<div>\n",
       "<style scoped>\n",
       "    .dataframe tbody tr th:only-of-type {\n",
       "        vertical-align: middle;\n",
       "    }\n",
       "\n",
       "    .dataframe tbody tr th {\n",
       "        vertical-align: top;\n",
       "    }\n",
       "\n",
       "    .dataframe thead th {\n",
       "        text-align: right;\n",
       "    }\n",
       "</style>\n",
       "<table border=\"1\" class=\"dataframe\">\n",
       "  <thead>\n",
       "    <tr style=\"text-align: right;\">\n",
       "      <th></th>\n",
       "      <th>id</th>\n",
       "      <th>status</th>\n",
       "      <th>type</th>\n",
       "      <th>quantity</th>\n",
       "      <th>material_id</th>\n",
       "      <th>user_id</th>\n",
       "      <th>user_email</th>\n",
       "      <th>user_name</th>\n",
       "      <th>user_activation_state</th>\n",
       "      <th>user_role</th>\n",
       "    </tr>\n",
       "  </thead>\n",
       "  <tbody>\n",
       "    <tr>\n",
       "      <th>0</th>\n",
       "      <td>1008</td>\n",
       "      <td>delayed</td>\n",
       "      <td>swatch</td>\n",
       "      <td>1.0</td>\n",
       "      <td>734</td>\n",
       "      <td>311</td>\n",
       "      <td>XXXXXXXct@XXXXXelier.com</td>\n",
       "      <td>XXXXXXXa Ponce de LeÃ³n</td>\n",
       "      <td>active</td>\n",
       "      <td>admin</td>\n",
       "    </tr>\n",
       "    <tr>\n",
       "      <th>1</th>\n",
       "      <td>1692</td>\n",
       "      <td>delivered</td>\n",
       "      <td>swatch</td>\n",
       "      <td>1.0</td>\n",
       "      <td>842</td>\n",
       "      <td>284</td>\n",
       "      <td>XXXXXXXbeth@XXXXXnnectingthread.com</td>\n",
       "      <td>XXXXXXXeth Bijaoui</td>\n",
       "      <td>active</td>\n",
       "      <td>admin</td>\n",
       "    </tr>\n",
       "    <tr>\n",
       "      <th>2</th>\n",
       "      <td>1699</td>\n",
       "      <td>delivered</td>\n",
       "      <td>swatch</td>\n",
       "      <td>1.0</td>\n",
       "      <td>2130</td>\n",
       "      <td>284</td>\n",
       "      <td>XXXXXXXbeth@XXXXXnnectingthread.com</td>\n",
       "      <td>XXXXXXXeth Bijaoui</td>\n",
       "      <td>active</td>\n",
       "      <td>admin</td>\n",
       "    </tr>\n",
       "    <tr>\n",
       "      <th>3</th>\n",
       "      <td>272</td>\n",
       "      <td>delayed</td>\n",
       "      <td>sample</td>\n",
       "      <td>10.0</td>\n",
       "      <td>198</td>\n",
       "      <td>7</td>\n",
       "      <td>XXXXXXXrt@demo.solutions</td>\n",
       "      <td>XXXXXXX</td>\n",
       "      <td>active</td>\n",
       "      <td>admin</td>\n",
       "    </tr>\n",
       "    <tr>\n",
       "      <th>4</th>\n",
       "      <td>30</td>\n",
       "      <td>delivered</td>\n",
       "      <td>sample</td>\n",
       "      <td>3.0</td>\n",
       "      <td>500</td>\n",
       "      <td>69</td>\n",
       "      <td>XXXXXXXa@demo.com.tw</td>\n",
       "      <td>XXXXXXX Chou</td>\n",
       "      <td>active</td>\n",
       "      <td>admin</td>\n",
       "    </tr>\n",
       "  </tbody>\n",
       "</table>\n",
       "</div>"
      ],
      "text/plain": [
       "     id     status    type  quantity  material_id  user_id  \\\n",
       "0  1008    delayed  swatch       1.0          734      311   \n",
       "1  1692  delivered  swatch       1.0          842      284   \n",
       "2  1699  delivered  swatch       1.0         2130      284   \n",
       "3   272    delayed  sample      10.0          198        7   \n",
       "4    30  delivered  sample       3.0          500       69   \n",
       "\n",
       "                            user_email                user_name  \\\n",
       "0             XXXXXXXct@XXXXXelier.com  XXXXXXXa Ponce de LeÃ³n   \n",
       "1  XXXXXXXbeth@XXXXXnnectingthread.com       XXXXXXXeth Bijaoui   \n",
       "2  XXXXXXXbeth@XXXXXnnectingthread.com       XXXXXXXeth Bijaoui   \n",
       "3             XXXXXXXrt@demo.solutions                  XXXXXXX   \n",
       "4                 XXXXXXXa@demo.com.tw             XXXXXXX Chou   \n",
       "\n",
       "  user_activation_state user_role  \n",
       "0                active     admin  \n",
       "1                active     admin  \n",
       "2                active     admin  \n",
       "3                active     admin  \n",
       "4                active     admin  "
      ]
     },
     "execution_count": 98,
     "metadata": {},
     "output_type": "execute_result"
    }
   ],
   "source": [
    "fab_requests.head()"
   ]
  },
  {
   "cell_type": "markdown",
   "metadata": {},
   "source": [
    "## 4d. Merge Fabric Request and Materials datasets"
   ]
  },
  {
   "cell_type": "markdown",
   "metadata": {},
   "source": [
    "We merge the fabric request and materials datasets to get material names, and to remove fabric requests for any deleted materials."
   ]
  },
  {
   "cell_type": "code",
   "execution_count": 99,
   "metadata": {},
   "outputs": [],
   "source": [
    "fab_requests = fab_requests.merge(materials[[\"id\", \"name\"]], how=\"inner\", left_on=\"material_id\", right_on=\"id\", suffixes=[None, \"_y\"])\n",
    "fab_requests.drop(columns=[\"id_y\"], inplace=True)\n",
    "fab_requests.rename(columns={\"name\":\"material_name\"}, inplace=True)"
   ]
  },
  {
   "cell_type": "code",
   "execution_count": 100,
   "metadata": {},
   "outputs": [
    {
     "data": {
      "text/html": [
       "<div>\n",
       "<style scoped>\n",
       "    .dataframe tbody tr th:only-of-type {\n",
       "        vertical-align: middle;\n",
       "    }\n",
       "\n",
       "    .dataframe tbody tr th {\n",
       "        vertical-align: top;\n",
       "    }\n",
       "\n",
       "    .dataframe thead th {\n",
       "        text-align: right;\n",
       "    }\n",
       "</style>\n",
       "<table border=\"1\" class=\"dataframe\">\n",
       "  <thead>\n",
       "    <tr style=\"text-align: right;\">\n",
       "      <th></th>\n",
       "      <th>id</th>\n",
       "      <th>status</th>\n",
       "      <th>type</th>\n",
       "      <th>quantity</th>\n",
       "      <th>material_id</th>\n",
       "      <th>user_id</th>\n",
       "      <th>user_email</th>\n",
       "      <th>user_name</th>\n",
       "      <th>user_activation_state</th>\n",
       "      <th>user_role</th>\n",
       "      <th>material_name</th>\n",
       "    </tr>\n",
       "  </thead>\n",
       "  <tbody>\n",
       "    <tr>\n",
       "      <th>0</th>\n",
       "      <td>1008</td>\n",
       "      <td>delayed</td>\n",
       "      <td>swatch</td>\n",
       "      <td>1.0</td>\n",
       "      <td>734</td>\n",
       "      <td>311</td>\n",
       "      <td>XXXXXXXct@XXXXXelier.com</td>\n",
       "      <td>XXXXXXXa Ponce de LeÃ³n</td>\n",
       "      <td>active</td>\n",
       "      <td>admin</td>\n",
       "      <td>XXXXXXXXXX4 ORG: Waterproof Organic Cotton 200...</td>\n",
       "    </tr>\n",
       "    <tr>\n",
       "      <th>1</th>\n",
       "      <td>1611</td>\n",
       "      <td>delivered</td>\n",
       "      <td>swatch</td>\n",
       "      <td>1.0</td>\n",
       "      <td>734</td>\n",
       "      <td>168</td>\n",
       "      <td>XXXXXXXhaylovast@XXXXX.com</td>\n",
       "      <td>XXXXXXX</td>\n",
       "      <td>active</td>\n",
       "      <td>admin</td>\n",
       "      <td>XXXXXXXXXX4 ORG: Waterproof Organic Cotton 200...</td>\n",
       "    </tr>\n",
       "    <tr>\n",
       "      <th>2</th>\n",
       "      <td>1871</td>\n",
       "      <td>delivered</td>\n",
       "      <td>swatch</td>\n",
       "      <td>1.0</td>\n",
       "      <td>734</td>\n",
       "      <td>168</td>\n",
       "      <td>XXXXXXXhaylovast@XXXXX.com</td>\n",
       "      <td>XXXXXXX</td>\n",
       "      <td>active</td>\n",
       "      <td>admin</td>\n",
       "      <td>XXXXXXXXXX4 ORG: Waterproof Organic Cotton 200...</td>\n",
       "    </tr>\n",
       "    <tr>\n",
       "      <th>3</th>\n",
       "      <td>1875</td>\n",
       "      <td>delivered</td>\n",
       "      <td>swatch</td>\n",
       "      <td>1.0</td>\n",
       "      <td>734</td>\n",
       "      <td>168</td>\n",
       "      <td>XXXXXXXhaylovast@XXXXX.com</td>\n",
       "      <td>XXXXXXX</td>\n",
       "      <td>active</td>\n",
       "      <td>admin</td>\n",
       "      <td>XXXXXXXXXX4 ORG: Waterproof Organic Cotton 200...</td>\n",
       "    </tr>\n",
       "    <tr>\n",
       "      <th>4</th>\n",
       "      <td>1874</td>\n",
       "      <td>delivered</td>\n",
       "      <td>swatch</td>\n",
       "      <td>1.0</td>\n",
       "      <td>734</td>\n",
       "      <td>168</td>\n",
       "      <td>XXXXXXXhaylovast@XXXXX.com</td>\n",
       "      <td>XXXXXXX</td>\n",
       "      <td>active</td>\n",
       "      <td>admin</td>\n",
       "      <td>XXXXXXXXXX4 ORG: Waterproof Organic Cotton 200...</td>\n",
       "    </tr>\n",
       "  </tbody>\n",
       "</table>\n",
       "</div>"
      ],
      "text/plain": [
       "     id     status    type  quantity  material_id  user_id  \\\n",
       "0  1008    delayed  swatch       1.0          734      311   \n",
       "1  1611  delivered  swatch       1.0          734      168   \n",
       "2  1871  delivered  swatch       1.0          734      168   \n",
       "3  1875  delivered  swatch       1.0          734      168   \n",
       "4  1874  delivered  swatch       1.0          734      168   \n",
       "\n",
       "                   user_email                user_name user_activation_state  \\\n",
       "0    XXXXXXXct@XXXXXelier.com  XXXXXXXa Ponce de LeÃ³n                active   \n",
       "1  XXXXXXXhaylovast@XXXXX.com                  XXXXXXX                active   \n",
       "2  XXXXXXXhaylovast@XXXXX.com                  XXXXXXX                active   \n",
       "3  XXXXXXXhaylovast@XXXXX.com                  XXXXXXX                active   \n",
       "4  XXXXXXXhaylovast@XXXXX.com                  XXXXXXX                active   \n",
       "\n",
       "  user_role                                      material_name  \n",
       "0     admin  XXXXXXXXXX4 ORG: Waterproof Organic Cotton 200...  \n",
       "1     admin  XXXXXXXXXX4 ORG: Waterproof Organic Cotton 200...  \n",
       "2     admin  XXXXXXXXXX4 ORG: Waterproof Organic Cotton 200...  \n",
       "3     admin  XXXXXXXXXX4 ORG: Waterproof Organic Cotton 200...  \n",
       "4     admin  XXXXXXXXXX4 ORG: Waterproof Organic Cotton 200...  "
      ]
     },
     "execution_count": 100,
     "metadata": {},
     "output_type": "execute_result"
    }
   ],
   "source": [
    "fab_requests.head()"
   ]
  },
  {
   "cell_type": "markdown",
   "metadata": {},
   "source": [
    "### Drop demo user ids from fabric requests"
   ]
  },
  {
   "cell_type": "markdown",
   "metadata": {},
   "source": [
    "Remove the demo email ids, as they have requested on behalf of other offline users and this can skew the recommendations. These ids have been marked with  \"@demo.\" in the email id. "
   ]
  },
  {
   "cell_type": "code",
   "execution_count": 101,
   "metadata": {},
   "outputs": [],
   "source": [
    "# Remove all fabric requests with email ids which contain demo accounts\n",
    "fab_requests = fab_requests[(fab_requests[\"user_email\"].str.contains(\"@demo.\") == False)]\n"
   ]
  },
  {
   "cell_type": "code",
   "execution_count": 102,
   "metadata": {},
   "outputs": [
    {
     "data": {
      "text/plain": [
       "(751, 11)"
      ]
     },
     "execution_count": 102,
     "metadata": {},
     "output_type": "execute_result"
    }
   ],
   "source": [
    "fab_requests.shape"
   ]
  },
  {
   "cell_type": "code",
   "execution_count": 103,
   "metadata": {},
   "outputs": [
    {
     "data": {
      "text/plain": [
       "material_name\n",
       "XXXXXXXXXX                                         29\n",
       "XXXXXXXXXX / BLACK                                  3\n",
       "XXXXXXXXXX 3 Layer Plain Nylon                      1\n",
       "XXXXXXXXXX BEIGE FANTASY                            4\n",
       "XXXXXXXXXX Canvas Lyocell/Linen 290 gsm             3\n",
       "                                                   ..\n",
       "XXXXXXXXXX® All Black - uncoated                    2\n",
       "XXXXXXXXXX® Classic Navy - natural wax coating      1\n",
       "XXXXXXXXXX® Limestone - natural wax coating         2\n",
       "XXXXXXXXXX® Natural White - natural wax coating     3\n",
       "XXXXXXXXXX® Natural White - uncoated                5\n",
       "Name: id, Length: 305, dtype: int64"
      ]
     },
     "execution_count": 103,
     "metadata": {},
     "output_type": "execute_result"
    }
   ],
   "source": [
    "fab_requests.groupby(by=\"material_name\").count()[\"id\"]"
   ]
  },
  {
   "cell_type": "markdown",
   "metadata": {},
   "source": [
    "## 5. EDA of tables related to Collaborative Filtering"
   ]
  },
  {
   "cell_type": "code",
   "execution_count": 104,
   "metadata": {},
   "outputs": [
    {
     "data": {
      "text/plain": [
       "Text(0, 0.5, 'Count of Fabric Requests')"
      ]
     },
     "execution_count": 104,
     "metadata": {},
     "output_type": "execute_result"
    },
    {
     "data": {
      "image/png": "[encoded data removed]",
      "text/plain": [
       "<Figure size 432x288 with 1 Axes>"
      ]
     },
     "metadata": {
      "needs_background": "light"
     },
     "output_type": "display_data"
    }
   ],
   "source": [
    "# Distribution of fabric requests by type\n",
    "cp = sns.countplot(data=fab_requests, x='type')\n",
    "cp.set_title(\"Distribution of fabric requests by Type\")\n",
    "cp.set_xlabel(\"Request Type\")\n",
    "cp.set_ylabel(\"Count of Fabric Requests\")\n",
    "\n"
   ]
  },
  {
   "cell_type": "markdown",
   "metadata": {},
   "source": [
    "There are two types of fabric requests, swatch and sample. Swatch is a small piece of fabric used only checking the type of fabric.  Many more swatch requests are observed. Swatches are free, so we will need to give more weightage to sample requests."
   ]
  },
  {
   "cell_type": "code",
   "execution_count": 105,
   "metadata": {},
   "outputs": [
    {
     "data": {
      "text/plain": [
       "Text(0, 0.5, 'Count of Fabric Requests')"
      ]
     },
     "execution_count": 105,
     "metadata": {},
     "output_type": "execute_result"
    },
    {
     "data": {
      "image/png": "[encoded data removed]",
      "text/plain": [
       "<Figure size 432x288 with 1 Axes>"
      ]
     },
     "metadata": {
      "needs_background": "light"
     },
     "output_type": "display_data"
    }
   ],
   "source": [
    "# Distribution of fabric requests by status\n",
    "cp = sns.countplot(data=fab_requests, x='status')\n",
    "cp.set_title(\"Distribution of fabric requests by Status\")\n",
    "cp.set_xlabel(\"Request Status\")\n",
    "cp.set_ylabel(\"Count of Fabric Requests\")\n"
   ]
  },
  {
   "cell_type": "code",
   "execution_count": 106,
   "metadata": {},
   "outputs": [
    {
     "data": {
      "text/plain": [
       "<matplotlib.legend.Legend at 0x7fcb16012e50>"
      ]
     },
     "execution_count": 106,
     "metadata": {},
     "output_type": "execute_result"
    },
    {
     "data": {
      "image/png": "[encoded data removed]",
      "text/plain": [
       "<Figure size 720x576 with 1 Axes>"
      ]
     },
     "metadata": {
      "needs_background": "light"
     },
     "output_type": "display_data"
    }
   ],
   "source": [
    "# Plot distribution of fabric requests by status, type\n",
    "plt.figure(figsize=(10,8))\n",
    "\n",
    "cp = sns.countplot(data=fab_requests, y=\"status\", hue=\"type\", order=fab_requests.status.value_counts().index)\n",
    "cp.set_title(\"Distribution of fabric requests by status, Request Type\")\n",
    "plt.legend(loc='lower right')\n"
   ]
  },
  {
   "cell_type": "markdown",
   "metadata": {},
   "source": [
    "Since there is no cancelled status included in the data we will include all fabric requests for purposes of recommendations. "
   ]
  },
  {
   "cell_type": "code",
   "execution_count": 107,
   "metadata": {},
   "outputs": [
    {
     "data": {
      "text/plain": [
       "69"
      ]
     },
     "execution_count": 107,
     "metadata": {},
     "output_type": "execute_result"
    }
   ],
   "source": [
    "len(fab_requests.user_id.value_counts())"
   ]
  },
  {
   "cell_type": "code",
   "execution_count": 108,
   "metadata": {},
   "outputs": [
    {
     "data": {
      "text/plain": [
       "<matplotlib.legend.Legend at 0x7fcb13e99910>"
      ]
     },
     "execution_count": 108,
     "metadata": {},
     "output_type": "execute_result"
    },
    {
     "data": {
      "image/png": "[encoded data removed]",
      "text/plain": [
       "<Figure size 864x864 with 1 Axes>"
      ]
     },
     "metadata": {
      "needs_background": "light"
     },
     "output_type": "display_data"
    }
   ],
   "source": [
    "# Plot Distribution of fabric requests by Materials, Request type\n",
    "plt.figure(figsize=(12,12))\n",
    "\n",
    "cp = sns.countplot(data=fab_requests, y=\"material_name\", hue=\"type\", order=fab_requests.material_name.value_counts().iloc[:50].index)\n",
    "cp.set_title(\"Distribution of fabric requests by Materials, Request Type (top 50 out of 349)\", fontsize=20)\n",
    "cp.set_xlabel(\"Count\", fontsize=16)\n",
    "cp.set_ylabel(\"Material Name\", fontsize=16)\n",
    "plt.legend(loc='lower right', fontsize='x-large')\n",
    "\n"
   ]
  },
  {
   "cell_type": "code",
   "execution_count": 109,
   "metadata": {},
   "outputs": [
    {
     "data": {
      "text/plain": [
       "<matplotlib.legend.Legend at 0x7fcb15863790>"
      ]
     },
     "execution_count": 109,
     "metadata": {},
     "output_type": "execute_result"
    },
    {
     "data": {
      "image/png": "[encoded data removed]",
      "text/plain": [
       "<Figure size 864x864 with 1 Axes>"
      ]
     },
     "metadata": {
      "needs_background": "light"
     },
     "output_type": "display_data"
    }
   ],
   "source": [
    "# Plot distribution of fabric requests by user id, request type\n",
    "plt.figure(figsize=(12,12))\n",
    "\n",
    "cp = sns.countplot(data=fab_requests, y=\"user_id\", hue=\"type\", order=fab_requests.user_id.value_counts().iloc[:50].index)\n",
    "cp.set_title(\"Distribution of fabric requests by User Id, Request Type (top 50 out of 72) \", fontsize=16)\n",
    "cp.set_xlabel(\"Count of Fabric Requests\", fontsize=14)\n",
    "cp.set_ylabel(\"User Id\", fontsize=14)\n",
    "plt.legend(loc='lower right', fontsize='x-large')\n",
    "\n"
   ]
  },
  {
   "cell_type": "markdown",
   "metadata": {},
   "source": [
    "It is observed that user_id 284 has requested many more swatches (100) compared to actual samples (under 5). This may not be a serious user. So we remove this user from the dataset. "
   ]
  },
  {
   "cell_type": "code",
   "execution_count": 110,
   "metadata": {},
   "outputs": [],
   "source": [
    "fab_requests = fab_requests[fab_requests[\"user_id\"] != 284]"
   ]
  },
  {
   "cell_type": "markdown",
   "metadata": {},
   "source": [
    "# Save Datasets to files"
   ]
  },
  {
   "cell_type": "code",
   "execution_count": 111,
   "metadata": {},
   "outputs": [],
   "source": [
    "materials.to_csv('../datasets/clean_data/materials_clean.csv', index=False)\n",
    "variants.to_csv('../datasets/clean_data/variants_clean.csv', index=False)\n",
    "tier_prices.to_csv('../datasets/clean_data/tiered_price_clean.csv', index=False)\n",
    "materials_merged.to_csv('../datasets/clean_data/materials_merged.csv', index=False)\n",
    "fab_requests.to_csv('../datasets/clean_data/fabric_requests_clean.csv', index=False)\n",
    "materials_tiered_prices.to_csv('../datasets/clean_data/materials_tiered_prices.csv', index=False)"
   ]
  },
  {
   "cell_type": "code",
   "execution_count": null,
   "metadata": {},
   "outputs": [],
   "source": []
  },
  {
   "cell_type": "code",
   "execution_count": null,
   "metadata": {},
   "outputs": [],
   "source": []
  }
 ],
 "metadata": {
  "kernelspec": {
   "display_name": "Python 3",
   "language": "python",
   "name": "python3"
  },
  "language_info": {
   "codemirror_mode": {
    "name": "ipython",
    "version": 3
   },
   "file_extension": ".py",
   "mimetype": "text/x-python",
   "name": "python",
   "nbconvert_exporter": "python",
   "pygments_lexer": "ipython3",
   "version": "3.7.7"
  }
 },
 "nbformat": 4,
 "nbformat_minor": 4
}
